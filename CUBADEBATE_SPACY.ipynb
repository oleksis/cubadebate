{
 "cells": [
  {
   "cell_type": "code",
   "execution_count": 1,
   "metadata": {
    "colab": {
     "base_uri": "https://localhost:8080/",
     "height": 67
    },
    "colab_type": "code",
    "executionInfo": {
     "elapsed": 16380,
     "status": "ok",
     "timestamp": 1587735966041,
     "user": {
      "displayName": "Oleksis Fraga Menéndez",
      "photoUrl": "https://lh3.googleusercontent.com/a-/AOh14GiEmDLfULCv0yBjSUJLJKaOti8gZ3IJDywwW5fHNA=s64",
      "userId": "10446488296499554506"
     },
     "user_tz": 240
    },
    "id": "2uwNZ8LNlcXZ",
    "outputId": "ed29aa35-f1d9-4bf1-e4e3-8b75ab4976b0"
   },
   "outputs": [
    {
     "name": "stdout",
     "output_type": "stream",
     "text": [
      "WordCloud installed.\n",
      "Spacy es_core_news_model installed.\n",
      "Restart the runtime!\n"
     ]
    }
   ],
   "source": [
    "!pip install wordcloud\n",
    "!pip install spacy\n",
    "!python -m spacy download es_core_news_sm\n",
    "\n",
    "from IPython.display import clear_output\n",
    "clear_output()\n",
    "print('WordCloud installed.')\n",
    "print('Spacy es_core_news_model installed.\\nRestart the runtime!')"
   ]
  },
  {
   "cell_type": "markdown",
   "metadata": {
    "colab_type": "text",
    "id": "0Qi1yZ1EbYpQ"
   },
   "source": [
    "Go to Restart runtime..."
   ]
  },
  {
   "cell_type": "code",
   "execution_count": 1,
   "metadata": {
    "colab": {
     "base_uri": "https://localhost:8080/",
     "height": 34
    },
    "colab_type": "code",
    "executionInfo": {
     "elapsed": 2189,
     "status": "ok",
     "timestamp": 1587735998624,
     "user": {
      "displayName": "Oleksis Fraga Menéndez",
      "photoUrl": "https://lh3.googleusercontent.com/a-/AOh14GiEmDLfULCv0yBjSUJLJKaOti8gZ3IJDywwW5fHNA=s64",
      "userId": "10446488296499554506"
     },
     "user_tz": 240
    },
    "id": "enR_SSI1lK7F",
    "outputId": "209cde84-4e49-4e5a-8aa6-5b209ad77a63"
   },
   "outputs": [
    {
     "name": "stdout",
     "output_type": "stream",
     "text": [
      "10\n"
     ]
    }
   ],
   "source": [
    "import time\n",
    "import requests\n",
    "\n",
    "\n",
    "CUBADEBATE_API = \"http://www.cubadebate.cu/wp-json/wp/v2/\"\n",
    "COMMENTS_ENDPOINT = CUBADEBATE_API + \"comments/\"\n",
    "\n",
    "session = requests.Session()\n",
    "\n",
    "def get_comments_json(page=1):\n",
    "    params = {\"page\": str(page)}\n",
    "    results = []\n",
    "    \n",
    "    with session:\n",
    "        time.sleep(1)\n",
    "        response = session.get(COMMENTS_ENDPOINT,\n",
    "                               params=params)\n",
    "        if response.status_code == 200:\n",
    "            results = response.json()\n",
    "            return results\n",
    "    return results\n",
    "        \n",
    "comments_list = get_comments_json()\n",
    "print(len(comments_list))\n",
    "#comments_list"
   ]
  },
  {
   "cell_type": "code",
   "execution_count": 2,
   "metadata": {
    "colab": {
     "base_uri": "https://localhost:8080/",
     "height": 34
    },
    "colab_type": "code",
    "executionInfo": {
     "elapsed": 16318,
     "status": "ok",
     "timestamp": 1587736020019,
     "user": {
      "displayName": "Oleksis Fraga Menéndez",
      "photoUrl": "https://lh3.googleusercontent.com/a-/AOh14GiEmDLfULCv0yBjSUJLJKaOti8gZ3IJDywwW5fHNA=s64",
      "userId": "10446488296499554506"
     },
     "user_tz": 240
    },
    "id": "HPjBOXPMlK7w",
    "outputId": "7802c687-b79c-4375-f837-8b867b10b887"
   },
   "outputs": [
    {
     "name": "stdout",
     "output_type": "stream",
     "text": [
      "1000\n"
     ]
    }
   ],
   "source": [
    "from concurrent.futures import ThreadPoolExecutor\n",
    "\n",
    "NUM_PAGES=100\n",
    "\n",
    "with ThreadPoolExecutor() as executor:\n",
    "    results = executor.map(get_comments_json, range(1,NUM_PAGES+1))\n",
    "    comments_list = list(results)\n",
    "    \n",
    "documents = [comment.get('content').get('rendered')\n",
    "          for comments in comments_list\n",
    "          for comment in comments]\n",
    "        \n",
    "print(len(documents))\n",
    "#documents"
   ]
  },
  {
   "cell_type": "code",
   "execution_count": 3,
   "metadata": {
    "colab": {
     "base_uri": "https://localhost:8080/",
     "height": 34
    },
    "colab_type": "code",
    "executionInfo": {
     "elapsed": 18667,
     "status": "ok",
     "timestamp": 1587736045708,
     "user": {
      "displayName": "Oleksis Fraga Menéndez",
      "photoUrl": "https://lh3.googleusercontent.com/a-/AOh14GiEmDLfULCv0yBjSUJLJKaOti8gZ3IJDywwW5fHNA=s64",
      "userId": "10446488296499554506"
     },
     "user_tz": 240
    },
    "id": "b4r5kXdGlK8r",
    "outputId": "c5c9fabd-e957-495a-f8ae-73eb3390f7c1",
    "scrolled": true
   },
   "outputs": [
    {
     "name": "stdout",
     "output_type": "stream",
     "text": [
      "Documents normalized\n"
     ]
    }
   ],
   "source": [
    "import re\n",
    "import spacy\n",
    "import unicodedata\n",
    "\n",
    "# Load model\n",
    "nlp = spacy.load('es_core_news_sm')\n",
    "\n",
    "def get_text(markup):\n",
    "    \"\"\"Remove html tags, URLs, grave accents and spaces using regexp\"\"\"\n",
    "    text = re.sub(r'<.*?>', '', markup)\n",
    "    url_pattern = r'(http|ftp)s?://(?:[a-zA-Z]|\\\n",
    "                   [0-9]|[$-_@.&#+]|[!*\\(\\),]|\\\n",
    "                   (?:%[0-9a-fA-F][0-9a-fA-F]))+'\n",
    "    text = re.sub(url_pattern,'', text)\n",
    "    text = unicodedata.normalize('NFKD', text).\\\n",
    "            encode('ascii', 'ignore').decode('utf-8')\n",
    "    text = re.sub('\\s+', ' ', text)\n",
    "    return text.strip()\n",
    "\n",
    "def clean(doc):\n",
    "    \"\"\"Remove stopwords, the punctuations and normalize the corpus.\"\"\"\n",
    "\n",
    "    def is_token_allowed(token):\n",
    "      if (not token or not token.string.strip() or\n",
    "          token.is_stop or token.is_punct):\n",
    "        return False\n",
    "      return True\n",
    "\n",
    "    def preprocess_token(token):\n",
    "      return token.lemma_.strip().lower()\n",
    "\n",
    "    text = get_text(doc)\n",
    "    tokens = [preprocess_token(word) for word in nlp(text)\n",
    "              if is_token_allowed(word) and len(word) > 2]\n",
    "    normalized = \" \".join(word for word in tokens)\n",
    "    return normalized\n",
    "    \n",
    "\n",
    "documents_normalized = [clean(doc).split() for doc in documents]\n",
    "#documents_normalized\n",
    "print('Documents normalized')\n"
   ]
  },
  {
   "cell_type": "code",
   "execution_count": 4,
   "metadata": {
    "colab": {
     "base_uri": "https://localhost:8080/",
     "height": 34
    },
    "colab_type": "code",
    "executionInfo": {
     "elapsed": 1866,
     "status": "ok",
     "timestamp": 1587736054109,
     "user": {
      "displayName": "Oleksis Fraga Menéndez",
      "photoUrl": "https://lh3.googleusercontent.com/a-/AOh14GiEmDLfULCv0yBjSUJLJKaOti8gZ3IJDywwW5fHNA=s64",
      "userId": "10446488296499554506"
     },
     "user_tz": 240
    },
    "id": "1Dce5BcYlK88",
    "outputId": "6c7b858a-0aab-4502-d028-6f5494228a3b",
    "scrolled": true
   },
   "outputs": [
    {
     "name": "stdout",
     "output_type": "stream",
     "text": [
      "TF-IDF comments list\n"
     ]
    }
   ],
   "source": [
    "import math\n",
    "from collections import Counter\n",
    "\n",
    "\n",
    "def comment_tf_dict(document):\n",
    "    bow = Counter(document)\n",
    "    tf_dict = dict()\n",
    "    \n",
    "    for k, v in bow.most_common():\n",
    "        tf_dict[k] = v / len(document)\n",
    "    \n",
    "    return tf_dict\n",
    "\n",
    "def comments_tf_dict(documents):\n",
    "    return [comment_tf_dict(comment)\n",
    "            for comment in documents]\n",
    "\n",
    "def count_dict(documents):\n",
    "    counts = dict()\n",
    "    for document in documents:\n",
    "        uniq_words = set(document)\n",
    "        for word in uniq_words:\n",
    "            value = counts.get(word, 0)\n",
    "            counts[word] = value + 1\n",
    "    return counts\n",
    "\n",
    "def idf_dict(documents):\n",
    "    idf_dict = dict()\n",
    "    \n",
    "    counts = count_dict(documents)\n",
    "    \n",
    "    for word in counts:\n",
    "        idf_dict[word] = math.log(len(documents) / counts[word])\n",
    "    \n",
    "    return idf_dict\n",
    "\n",
    "def comments_tfidf_dict(documents):\n",
    "    tfidf_comments = []\n",
    "    \n",
    "    idf_comments = idf_dict(documents)\n",
    "    \n",
    "    def compute_tfidf_comment(document):\n",
    "        tfidf_comment = dict()\n",
    "        \n",
    "        tf_comment = comment_tf_dict(document)\n",
    "        \n",
    "        for word in set(document):\n",
    "            tfidf_comment[word] = tf_comment[word] * idf_comments[word]\n",
    "        \n",
    "        return tfidf_comment\n",
    "    \n",
    "    for comment in documents:\n",
    "        tfidf_comments.append(compute_tfidf_comment(comment))\n",
    "    \n",
    "    \n",
    "    return tfidf_comments\n",
    "\n",
    "\n",
    "tfidf_list = comments_tfidf_dict(documents_normalized)\n",
    "#tfidf_list\n",
    "print('TF-IDF comments list')"
   ]
  },
  {
   "cell_type": "code",
   "execution_count": 5,
   "metadata": {
    "colab": {
     "base_uri": "https://localhost:8080/",
     "height": 34
    },
    "colab_type": "code",
    "executionInfo": {
     "elapsed": 1042,
     "status": "ok",
     "timestamp": 1587736063097,
     "user": {
      "displayName": "Oleksis Fraga Menéndez",
      "photoUrl": "https://lh3.googleusercontent.com/a-/AOh14GiEmDLfULCv0yBjSUJLJKaOti8gZ3IJDywwW5fHNA=s64",
      "userId": "10446488296499554506"
     },
     "user_tz": 240
    },
    "id": "1W3S2crllK9M",
    "outputId": "ac23f186-77f4-429c-925d-98738f0d7c2c",
    "scrolled": true
   },
   "outputs": [
    {
     "name": "stdout",
     "output_type": "stream",
     "text": [
      "TF-IDF ordered saved to comments_tfidf.json\n"
     ]
    }
   ],
   "source": [
    "import json\n",
    "from collections import OrderedDict\n",
    "\n",
    "ordered_tfidf = dict()\n",
    "\n",
    "for tfidf in tfidf_list:\n",
    "    for word, value in tfidf.items():\n",
    "        if word in ordered_tfidf:\n",
    "            ordered_tfidf[word] += value\n",
    "        else:\n",
    "            ordered_tfidf[word] = value\n",
    "\n",
    "#ordered_tfidf\n",
    "ordered_tfidf = OrderedDict(sorted(ordered_tfidf.items(), key=lambda x: x[1], reverse=True))\n",
    "# Save to JSON file\n",
    "with open('comments_tfidf.json', 'w') as file_json:\n",
    "    json.dump(ordered_tfidf, file_json)\n",
    "print('TF-IDF ordered saved to comments_tfidf.json')"
   ]
  },
  {
   "cell_type": "code",
   "execution_count": 6,
   "metadata": {
    "colab": {
     "base_uri": "https://localhost:8080/",
     "height": 34
    },
    "colab_type": "code",
    "executionInfo": {
     "elapsed": 2710,
     "status": "ok",
     "timestamp": 1587736074597,
     "user": {
      "displayName": "Oleksis Fraga Menéndez",
      "photoUrl": "https://lh3.googleusercontent.com/a-/AOh14GiEmDLfULCv0yBjSUJLJKaOti8gZ3IJDywwW5fHNA=s64",
      "userId": "10446488296499554506"
     },
     "user_tz": 240
    },
    "id": "IJImAm8CaPuy",
    "outputId": "edcfdb97-139c-4025-ed08-71ded9603f39"
   },
   "outputs": [
    {
     "name": "stdout",
     "output_type": "stream",
     "text": [
      "Image downloaded.\n"
     ]
    }
   ],
   "source": [
    "from IPython.display import clear_output\n",
    "\n",
    "%env IMG_CAPITOLIO=capitolio.jpg\n",
    "\n",
    "\n",
    "# download mask images\n",
    "#!wget http://media.cubadebate.cu/wp-content/gallery/la-habana-nocturna/app_la-habana_05.jpg -O la_hababa.jpg\n",
    "!wget https://upload.wikimedia.org/wikipedia/commons/8/8f/Capitolio_full.jpg -O $IMG_CAPITOLIO\n",
    "\n",
    "clear_output()\n",
    "print('Image downloaded.')"
   ]
  },
  {
   "cell_type": "code",
   "execution_count": 0,
   "metadata": {
    "colab": {},
    "colab_type": "code",
    "id": "gBHrq118aPvV"
   },
   "outputs": [],
   "source": [
    "import numpy as np\n",
    "import matplotlib.pyplot as plt\n",
    "%matplotlib inline\n",
    "\n",
    "import os\n",
    "from PIL import Image\n",
    "from wordcloud import WordCloud\n",
    "\n",
    "# Capitolio Habana\n",
    "IMG_CAPITOLIO = os.getenv(\"IMG_CAPITOLIO\") or \"capitolio.jpg\"\n",
    "IMG_WORDCLOUD = 'wordcloud_cubadebate.png'\n",
    "# Spacy Stop_Words\n",
    "STOP_WORDS = spacy.lang.es.stop_words.STOP_WORDS\n",
    "\n",
    "# get data directory (using getcwd() is needed to support running example in generated IPython notebook)\n",
    "_dir = os.path.dirname(__file__) if \"__file__\" in locals() else os.getcwd()\n",
    "\n",
    "\n",
    "# read the mask image\n",
    "# taken from\n",
    "_mask = np.array(Image.open(os.path.join(_dir, IMG_CAPITOLIO)))\n",
    "\n",
    "# Generate Word Cloud\n",
    "wordcloud = WordCloud(\n",
    "    max_words=1000,\n",
    "#     max_font_size=50,\n",
    "    height=1440,\n",
    "    width=2160,\n",
    "    background_color = 'white',\n",
    "    mask=_mask,\n",
    "    contour_width=1,\n",
    "    contour_color='steelblue',\n",
    "    stopwords = STOP_WORDS).generate_from_frequencies(ordered_tfidf)\n",
    "# Save to file\n",
    "wordcloud.to_file(IMG_WORDCLOUD)\n",
    "fig = plt.figure(\n",
    "    figsize = (22, 15),\n",
    "    )\n",
    "plt.imshow(wordcloud, interpolation = 'bilinear')\n",
    "plt.axis('off')\n",
    "plt.tight_layout(pad=0)\n",
    "plt.show()"
   ]
  },
  {
   "cell_type": "code",
   "execution_count": 8,
   "metadata": {
    "colab": {
     "base_uri": "https://localhost:8080/",
     "height": 34
    },
    "colab_type": "code",
    "executionInfo": {
     "elapsed": 747,
     "status": "ok",
     "timestamp": 1587736188525,
     "user": {
      "displayName": "Oleksis Fraga Menéndez",
      "photoUrl": "https://lh3.googleusercontent.com/a-/AOh14GiEmDLfULCv0yBjSUJLJKaOti8gZ3IJDywwW5fHNA=s64",
      "userId": "10446488296499554506"
     },
     "user_tz": 240
    },
    "id": "Gs20IRy8cvpQ",
    "outputId": "33fd77e3-e40c-44b7-adb0-3b8a7deb80ad",
    "scrolled": true
   },
   "outputs": [
    {
     "name": "stdout",
     "output_type": "stream",
     "text": [
      "Exported image to html.\n"
     ]
    }
   ],
   "source": [
    "import base64\n",
    "\n",
    "data = ''\n",
    "with open(IMG_WORDCLOUD, 'rb') as file_img:\n",
    "    data = base64.b64encode(file_img.read()).decode('utf-8')\n",
    "\n",
    "img_str = '''\n",
    "<img width=\"100%\" height=\"100%\" \n",
    "src=\"data:image/png;base64,{}\" />\n",
    "'''.format(data)\n",
    "\n",
    "with open('wordcloud_cubadebate.html', 'w') as _html:\n",
    "    _html.write(img_str)\n",
    "\n",
    "print('Exported image to html.')"
   ]
  },
  {
   "cell_type": "code",
   "execution_count": 9,
   "metadata": {
    "colab": {
     "base_uri": "https://localhost:8080/",
     "height": 50
    },
    "colab_type": "code",
    "executionInfo": {
     "elapsed": 14898,
     "status": "ok",
     "timestamp": 1587736210825,
     "user": {
      "displayName": "Oleksis Fraga Menéndez",
      "photoUrl": "https://lh3.googleusercontent.com/a-/AOh14GiEmDLfULCv0yBjSUJLJKaOti8gZ3IJDywwW5fHNA=s64",
      "userId": "10446488296499554506"
     },
     "user_tz": 240
    },
    "id": "gZSQOAIcEpgO",
    "outputId": "6b929086-54de-4d10-f472-c9b44f15b02c"
   },
   "outputs": [
    {
     "name": "stdout",
     "output_type": "stream",
     "text": [
      "capitolio.jpg\t     sample_data\t\twordcloud_cubadebate.png\n",
      "comments_tfidf.json  wordcloud_cubadebate.html\n"
     ]
    }
   ],
   "source": [
    "!ls"
   ]
  }
 ],
 "metadata": {
  "colab": {
   "collapsed_sections": [],
   "name": "CUBADEBATE_SPACY.ipynb",
   "provenance": [
    {
     "file_id": "https://github.com/oleksis/cubadebate/blob/master/CUBADEBATE_SPACY.ipynb",
     "timestamp": 1587735882025
    },
    {
     "file_id": "https://github.com/oleksis/cubadebate/blob/master/CUBADEBATE_SPACY.ipynb",
     "timestamp": 1586838864452
    },
    {
     "file_id": "https://github.com/oleksis/cubadebate/blob/master/CUBADEBATE_SPACY.ipynb",
     "timestamp": 1586455776456
    },
    {
     "file_id": "https://github.com/oleksis/cubadebate/blob/master/CUBADEBATE_SPACY.ipynb",
     "timestamp": 1586383118458
    },
    {
     "file_id": "https://github.com/oleksis/cubadebate/blob/master/CUBADEBATE_SPACY.ipynb",
     "timestamp": 1586377302982
    }
   ]
  },
  "kernelspec": {
   "display_name": "Python 3",
   "language": "python",
   "name": "python3"
  },
  "language_info": {
   "codemirror_mode": {
    "name": "ipython",
    "version": 3
   },
   "file_extension": ".py",
   "mimetype": "text/x-python",
   "name": "python",
   "nbconvert_exporter": "python",
   "pygments_lexer": "ipython3",
   "version": "3.7.1"
  }
 },
 "nbformat": 4,
 "nbformat_minor": 1
}
