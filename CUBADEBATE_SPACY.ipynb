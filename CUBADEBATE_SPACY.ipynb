{
 "cells": [
  {
   "cell_type": "code",
   "execution_count": 1,
   "metadata": {
    "colab": {
     "base_uri": "https://localhost:8080/",
     "height": 71
    },
    "colab_type": "code",
    "executionInfo": {
     "elapsed": 54,
     "status": "ok",
     "timestamp": 1586454708983,
     "user": {
      "displayName": "",
      "photoUrl": "",
      "userId": ""
     },
     "user_tz": 240
    },
    "id": "2uwNZ8LNlcXZ",
    "outputId": "4daedc73-e176-4de0-e421-2185abb15690"
   },
   "outputs": [
    {
     "name": "stdout",
     "output_type": "stream",
     "text": [
      "WordCloud installed.\n",
      "Spacy es_core_news_model installed.\n",
      "Restart the runtime!\n"
     ]
    }
   ],
   "source": [
    "!pip install wordcloud\n",
    "!pip install spacy\n",
    "!python -m spacy download es_core_news_sm\n",
    "\n",
    "from IPython.display import clear_output\n",
    "clear_output()\n",
    "print('WordCloud installed.')\n",
    "print('Spacy es_core_news_model installed.\\nRestart the runtime!')"
   ]
  },
  {
   "cell_type": "markdown",
   "metadata": {
    "colab_type": "text",
    "id": "0Qi1yZ1EbYpQ"
   },
   "source": [
    "Go to Restart runtime..."
   ]
  },
  {
   "cell_type": "code",
   "execution_count": 1,
   "metadata": {
    "colab": {
     "base_uri": "https://localhost:8080/",
     "height": 35
    },
    "colab_type": "code",
    "executionInfo": {
     "elapsed": 2248,
     "status": "ok",
     "timestamp": 1586455590103,
     "user": {
      "displayName": "",
      "photoUrl": "",
      "userId": ""
     },
     "user_tz": 240
    },
    "id": "enR_SSI1lK7F",
    "outputId": "e3bc49f7-fb7f-4f8f-8413-56af2f94e814"
   },
   "outputs": [
    {
     "name": "stdout",
     "output_type": "stream",
     "text": [
      "10\n"
     ]
    }
   ],
   "source": [
    "import time\n",
    "import json\n",
    "import requests\n",
    "\n",
    "\n",
    "CUBADEBATE_API = \"http://www.cubadebate.cu/wp-json/wp/v2/\"\n",
    "COMMENTS_ENDPOINT = CUBADEBATE_API + \"comments/\"\n",
    "\n",
    "session = requests.Session()\n",
    "\n",
    "def get_comments_json(page=1):\n",
    "    params = {\"page\": str(page)}\n",
    "    results = []\n",
    "    \n",
    "    with session:\n",
    "        time.sleep(1)\n",
    "        response = session.get(COMMENTS_ENDPOINT,\n",
    "                               params=params)\n",
    "        if response.status_code == 200:\n",
    "            results = response.json()\n",
    "            return results\n",
    "    return results\n",
    "        \n",
    "comments_list = get_comments_json()\n",
    "print(len(comments_list))\n",
    "#comments_list"
   ]
  },
  {
   "cell_type": "code",
   "execution_count": 2,
   "metadata": {
    "colab": {
     "base_uri": "https://localhost:8080/",
     "height": 35
    },
    "colab_type": "code",
    "executionInfo": {
     "elapsed": 27338,
     "status": "ok",
     "timestamp": 1586455623551,
     "user": {
      "displayName": "",
      "photoUrl": "",
      "userId": ""
     },
     "user_tz": 240
    },
    "id": "HPjBOXPMlK7w",
    "outputId": "578c88c0-542d-4e31-d345-eba8367ff9a7"
   },
   "outputs": [
    {
     "name": "stdout",
     "output_type": "stream",
     "text": [
      "1000\n"
     ]
    }
   ],
   "source": [
    "from concurrent.futures import ThreadPoolExecutor\n",
    "\n",
    "NUM_PAGES=100\n",
    "\n",
    "with ThreadPoolExecutor() as executor:\n",
    "    results = executor.map(get_comments_json, range(1,NUM_PAGES+1))\n",
    "    comments_list = list(results)\n",
    "    \n",
    "documents = [comment.get('content').get('rendered')\n",
    "          for comments in comments_list\n",
    "          for comment in comments]\n",
    "        \n",
    "print(len(documents))\n",
    "#documents"
   ]
  },
  {
   "cell_type": "code",
   "execution_count": 3,
   "metadata": {
    "colab": {
     "base_uri": "https://localhost:8080/",
     "height": 35
    },
    "colab_type": "code",
    "executionInfo": {
     "elapsed": 16620,
     "status": "ok",
     "timestamp": 1586455643882,
     "user": {
      "displayName": "",
      "photoUrl": "",
      "userId": ""
     },
     "user_tz": 240
    },
    "id": "b4r5kXdGlK8r",
    "outputId": "24423716-dfee-49da-8d4b-4cd9a9a0c21a",
    "scrolled": true
   },
   "outputs": [
    {
     "name": "stdout",
     "output_type": "stream",
     "text": [
      "Documents normalized\n"
     ]
    }
   ],
   "source": [
    "import re\n",
    "import spacy\n",
    "\n",
    "# Load model\n",
    "nlp = spacy.load('es_core_news_sm')\n",
    "\n",
    "def get_text(markup):\n",
    "    \"\"\"Remove html tags, URLs and spaces using regexp\"\"\"\n",
    "    text = re.sub(r'<.*?>', '', markup)\n",
    "    url_pattern = r'(http|ftp)s?://(?:[a-zA-Z]|\\\n",
    "                   [0-9]|[$-_@.&#+]|[!*\\(\\),]|\\\n",
    "                   (?:%[0-9a-fA-F][0-9a-fA-F]))+'\n",
    "    text = re.sub(url_pattern,'', text)\n",
    "    text = re.sub('\\s+', ' ', text)\n",
    "    return text.strip()\n",
    "\n",
    "def clean(doc):\n",
    "    \"\"\"Remove stopwords, the punctuations and normalize the corpus.\"\"\"\n",
    "\n",
    "    def is_token_allowed(token):\n",
    "      if (not token or not token.string.strip() or\n",
    "          token.is_stop or token.is_punct):\n",
    "        return False\n",
    "      return True\n",
    "\n",
    "    def preprocess_token(token):\n",
    "      return token.lemma_.strip().lower()\n",
    "\n",
    "    text = get_text(doc)\n",
    "    tokens = [preprocess_token(word) for word in nlp(text)\n",
    "              if is_token_allowed(word) and len(word) > 2]\n",
    "    normalized = \" \".join(word for word in tokens)\n",
    "    return normalized\n",
    "    \n",
    "\n",
    "documents_normalized = [clean(doc).split() for doc in documents]\n",
    "#documents_normalized\n",
    "print('Documents normalized')\n"
   ]
  },
  {
   "cell_type": "code",
   "execution_count": 4,
   "metadata": {
    "colab": {
     "base_uri": "https://localhost:8080/",
     "height": 35
    },
    "colab_type": "code",
    "executionInfo": {
     "elapsed": 906,
     "status": "ok",
     "timestamp": 1586455647773,
     "user": {
      "displayName": "",
      "photoUrl": "",
      "userId": ""
     },
     "user_tz": 240
    },
    "id": "1Dce5BcYlK88",
    "outputId": "c223e7bc-0e57-4ead-e4f1-5eb9d0935c0e",
    "scrolled": true
   },
   "outputs": [
    {
     "name": "stdout",
     "output_type": "stream",
     "text": [
      "TF-IDF comments list\n"
     ]
    }
   ],
   "source": [
    "import math\n",
    "from collections import Counter\n",
    "\n",
    "\n",
    "def comment_tf_dict(document):\n",
    "    bow = Counter(document)\n",
    "    tf_dict = dict()\n",
    "    \n",
    "    for k, v in bow.most_common():\n",
    "        tf_dict[k] = v / len(document)\n",
    "    \n",
    "    return tf_dict\n",
    "\n",
    "def comments_tf_dict(documents):\n",
    "    return [comment_tf_dict(comment)\n",
    "            for comment in documents]\n",
    "\n",
    "def count_dict(documents):\n",
    "    counts = dict()\n",
    "    for document in documents:\n",
    "        uniq_words = set(document)\n",
    "        for word in uniq_words:\n",
    "            value = counts.get(word, 0)\n",
    "            counts[word] = value + 1\n",
    "    return counts\n",
    "\n",
    "def idf_dict(documents):\n",
    "    idf_dict = dict()\n",
    "    \n",
    "    counts = count_dict(documents)\n",
    "    \n",
    "    for word in counts:\n",
    "        idf_dict[word] = math.log(len(documents) / counts[word])\n",
    "    \n",
    "    return idf_dict\n",
    "\n",
    "def comments_tfidf_dict(documents):\n",
    "    tfidf_comments = []\n",
    "    \n",
    "    idf_comments = idf_dict(documents)\n",
    "    \n",
    "    def compute_tfidf_comment(document):\n",
    "        tfidf_comment = dict()\n",
    "        \n",
    "        tf_comment = comment_tf_dict(document)\n",
    "        \n",
    "        for word in set(document):\n",
    "            tfidf_comment[word] = tf_comment[word] * idf_comments[word]\n",
    "        \n",
    "        return tfidf_comment\n",
    "    \n",
    "    for comment in documents:\n",
    "        tfidf_comments.append(compute_tfidf_comment(comment))\n",
    "    \n",
    "    \n",
    "    return tfidf_comments\n",
    "\n",
    "\n",
    "tfidf_list = comments_tfidf_dict(documents_normalized)\n",
    "#tfidf_list\n",
    "print('TF-IDF comments list')"
   ]
  },
  {
   "cell_type": "code",
   "execution_count": 5,
   "metadata": {
    "colab": {
     "base_uri": "https://localhost:8080/",
     "height": 115
    },
    "colab_type": "code",
    "executionInfo": {
     "elapsed": 1219,
     "status": "ok",
     "timestamp": 1586455657475,
     "user": {
      "displayName": "",
      "photoUrl": "",
      "userId": ""
     },
     "user_tz": 240
    },
    "id": "1W3S2crllK9M",
    "outputId": "f74735bb-4708-4e72-d129-4f06dede1901",
    "scrolled": true
   },
   "outputs": [
    {
     "name": "stdout",
     "output_type": "stream",
     "text": [
      "cuba gracias caso personar totalmente poblar país cubano casar medir gracia ley salud dios médico información salir mundo entender favor ingresar positivo tomar deber municipio seguir pasar covid-19 pandemia contagiar confirmar provincia poner año morir comentario paciente excelente gobernar doctor vida historia ver orgulloso contacto valiente fuerza gente leer tener virus informar solidaridad enfermedad ayudar respetar cumplir pesar viva durán paso necesitar merecer unir alto personal jajaja felicidades falto gustar estar probar vivir esperar pensar situación poder rápido donación casa cuarentena cola familia cuidar alguien precioso aplauso china negativo recuperar apoyar hacer joven nasobuco riesgo población querer fidel problema niño transmitir saludos forzar hablar hombre habana dar necesario decir momento pueblo frente formar yusi social duro presidente aplicar edad seguro tarea artículo calle callar caer llegar preguntar jugar isla animal contactar importante autoridad síntoma preocupar sentir tiempo nacer palabra comprar disminución dudar cantidad labor combatir coronavirus guerra test aislamiento imagen prueba fuente trabajar enfermar fallecer revolución realmente grande bloquear interesar luchar pando osar wikipedia quédese tanto duran cerrar concienciar mano hora dejar esforzar hermano noticiar escuchar saber respeto abrazar playa real unidos disciplinar mujer desear trump proteger preocupación conocer dato realizar vestir poncheros barrio perder coser encontrar gobierno resultar evitar gerardo fase presentar mantener hola humanar ciudadano juventud fallecido informacion haber volver saludo apk publicar local minsap irresponsable bonito conferenciar responsabilidad inteligente bello medio familiar curar rigor aclarar explicación existir especificar mejorar venezuela cifrar humano trabajador dignar robar compañero sabina quedase poncho gera informarnos responder sueño boyero venir abril sistema diario indisciplinar batallar pedir felicidad odiar nombre ojalá suceder tienda amor crítico sancionar muchacho resumir foto colmenita quedar cubana importar respuesta cuidate pesquisar hospital servicio prensar disponer diariamente producto reportar quisiera cadena medicos pcr héroe controlar dirección paises ideo difícil esperanzar agradecer quesada entrar acabar dificil número abajo estadístico crecer guapo bravo semana tocar aparecer recordar covid establecer señor vender exponer juicio orden abrir particular hermanar mil intervención detalle bendición diagnóstico salvar necesidad accionar correa infestar chino control personas líder amigo llevar picar máximo cubadebate ser claro humanidad recurso detener castigar fuerte vecino ganar serio homeopatía hijo imperio llamar situacion explicar cubanos localidad inventar noche tipo masón oro datar descansar .felicidades maravilloso blanco medicar cuidarnos sanitario incubación jefe recibir maldad nasobucos caracterizar noto económico santiago preocupante peligrar incrementar habano realidad estudiante centrar infectar parecer pagar comer revolucionaria bendecir espero lucrar temer delito tratar superándote congreso chávez!viva alacrán azul ppr iii-3 imperial matanazas efectivamente teleclases descrgar bush reagan tatcher habitante honrar parar sencillo recuperacion precisar aislar permitir error buscar pánico bendiga mapa corregir mario posibilidad italia servir reportaje incluir obligar internet mundial oportuno escribir nombrar eeuu creer matanzas articular patrio definir rato consejo grupo obediencia ir exactamente criticar ojo exitos hecho malo cuidense prevenir vía publiquen muestra actitud investigar cargar enemigo andar contar ecuador demostrar ortografiar mayor percepción faltar confiar colectivo c^2 actuar mesar policía ciudad gravar carlos mayoría nacional alcanzar medicinar contagio indicación mes felicitar experiencia ministro sospechoso éxitos punto bloqueo estudio coger orgullo organización valorar dinero fallece millón caro terrible vigilancia atender valer divulgarse político zona agradecimiento comunidad sacar delincuente mostrar conducta kit comandante inhumano comenzar razón aumentar licenciar paginar alimento enfermo masivo quedo humanidades único enfrentar detectar confianza principal repetir felicitación patria protección boyeros porqué mirar adelantar periodista cdr batir acumular arribar perdón terminar multar medidas severo padre cuello sociedad derecho capaz delincuencia esposo brindar quédate opinión responsable israel virtual medicamento actual pico identificar quedate cuídate enfermero natural obrar justicia seriar orientar 100 área maestro loco preparar admirable lograr españa futuro pienso debemos genocida crombet imaginar clavar manir universidad inglés continuar propagar considerar infección sobrecogedoras debería carta triángulo sujetar ladron desglozado solicitud disculpar norte escalofriante timar one excellent morar jaja doblemente rené postmorten explicaron apretaron ñooo deberia palauso consecuencia darse arriesgar ocurrir restar salvo relación cooperar epidemia dolor partir saludar echar oración transmision vencer profesional comportar llenar liberar primario culpar admirar vih libreta especialista actualizar desarrollar evidentemente librar habernos disparar manuel abastecimiento venta lamentable fallir adquirir uci colega tarde causar increíble cumpleaños felicitaciones 1000 pollo nivel escudar revisar revendedor inocente surgir rapido circunstancia obligatorio evolución ponerle redar plenamente subir aportar mijo santo juzgar cruel miedo condicionar santa justar suficiente interesante excepcional pobre tierno internacionalista ecuatoriano drástico costa mantenernos viajero regresa nuevamente página coincido diferenciar publicación olvidar sanción porq portador centro agotar continuidad evento nose nacimiento edificio solidario inescrupuloso lenin compatriota tender correr heroico lamentar 000 ciego lleno marzo usar cuadro poblacion sugerir policlínico deberían clara extranjero ladrón eliminar mínimo producir increible triste crear cambiar amar canal cuidarlo meter quedarse soldar acompañar pertenecer reconocimiento estadounidense contribuir muchísimas estimado colaboración enterar músico aprender perpetuo privar debatir revolucionario cesar madre cansar victoria urgente tragedia vivo material inmediatez quitar correcto mañana confiamos verlo descordar té continuidad.al filo television haiga nagüe guantanameridad ofensivo correspondencia sirvenguenzura decapitar .(cuidemos idea yo.comparto ëxitos empezemos aprendio superacion tocaya aleluya tireis ventana -eutelia -este -mambises tiket reside endemicos relatar provenir asuma informados.manos viviiir regresar rico osmel sector demorar preciso anteriormente habian covid_19 venceremos disminuir etcétera especial arduo letra sano verdadero bajar imposible referir orientación junto voluntad bajo gibara muerte celebrar san dignidad recuerda lamentablemente oficial garantizar residente pecar paño tibio bienestar círculo relacionar directo periodo enviar fiesta código corazón directivo director lavar siguen paloma ee.uu aglomeración darle penar peligroso respiratorio acto prevención público contemplación gratuito disciplina desconocer vacuno regar lugar defensa ministerio laborar inmenso clase convencer colaborar cuc puro cuidadano jovenes primero vendedor diverso recoger científico tremendo riesgoso éxito distanciar pinar dedicar imagino encerrar esperamos policia traer avanzar admiración unidad observar sol complicación digno suerte interminable esconder oportunista cabeza socialismo indicar asear solucionar extender ávila procesar hogar darles primo tenia decirse luz deuda suponer fila aplaudir dirigente seguridad asumir utilizar agente ejemplarizante sincerar razonar independencia direccion falso riqueza canel fecho ajeno sensibilizar debian ofertar existente aprovechar moreno actualidad alarmar satisfacción acudir libre tierra ponerse heroina añito sombrero quicieran micion aplastar luchador inrespondables guerrillero pedacito cunar voleibol ortografia únicamente anticiparnos funcionamiento iii incoparables destinar informativo cansancio mandar perdonar asombrar experto solicitar coherente veracidad masacrar italiano actividad bueno internacionalismo galeno programar precio individuo plantear marcar destacar comentar tarjeta completo significar sorprender matrimoniar amistad militar preventivo fernando especulación soñar bella sangrar demas cuestión llevarse menor cobrar cualquiera denigrante fallar acostumbrar cloro estudiar afecto economía defender humanismo corazon uds profundamente raúl extremo expresar vencera dañar posible justificar internacional opción aplausos ánimo consciente criterio siquiera resolver velar carrera seguiremos simplemente organizar preciar dedicación divisar paz entregar hermandad diagnosticar representar exterior imponer guardar sintomas tames notable criminal darme ultimar encargar honor gota tapar poderoso revolucion líneo díaz -pron- remediar comprender peso mentira completamente uhmmm asesino rica tela credibilidad ideal epidemiologica provocar caminar sumar flojo estadisticas imprescindible epidémico limitar anunciar consultorio matanza certero continuo seria origen alma completar oír penal cliente cuidese irresponsabilidad desconocido atención traidor cerro pie cero tenerse evaluación insoportable seran rodar pesquisaje espaciar etecsa transmisión cárdenas pinarena legua alvaro sencilla torres muchisimas collar major insigne deportista no. dandoles ronco desesperante ninos bateria imaginate acuerdate misericordia moderador sinvergüenza perpetua aislados contrarevolucion averguencen nombres igualdad 9:00pm síii jjjjj codigo volveriamos trancaos señora catastrófico tópico cuba!gracias che sonava cerquita randy majistral falcón alonso palomas lisa?,porque las.pruebas llegaron vago viru tortilla virar neofascista contrarevolución emitir basar usarlo 1201 holguín desmentir francisco renovarse pronto cometer aceitar claramente recuperación cumplimiento atrapar prestar percatar estatal provincias vergüenza portar union homeopático mangar capital abandonar certificar minimizar pasaje matar aconsejar numerar estara saldra difusión recomiendo administración ojala prevengho facilitar proponer detallar pos vivan razon transparencia pequeño crisis sembrar unico enfrentamiento comunitario caber bodega reservar acción curvo legar contrario municipios equipar interior tratamiento arrepentirse respaldar mente dedo devenir prever artemisa frenar 106 jovellanos cuidador corto investigación alternarlo infórmese república similar desglosar época revender brotar ron lacayo mercar sabio atencion lacrar práctico corresponder reporte manejar encantar semejante traicion procedimiento saldar cuídense patriota expresión presión comunicar enorme implicar seriedad rusia cuidarse saldremos padecer fundamental interactuar demostración erradicar higiénico atenderse incertidumbre fatal sufrir reconocer lujo limitación específicamente propongo fallecidos publica iniciativa infectados investigativo loable lleváselos dile gibar intencionado nop ágil moviéndose divagar 1456 puebloy lenín refrán así: letal respeten determinarse infeccion epidemica maduro esquizofrénico muchísimo inculto .el indisciplinado.¿a autorizar súpercelosos abiertamente today tigresa russia autopsia 24/48h jaguey aclaro par proeza dictaminar hipertenso planteamiento aguar necesito sentimiento permanecer eua ampliar avileño pretender empresa mamá egoísmo educativo acercar coronel insensibilidad desempeñar fortaleza oms hermoso aire claridad popular correctamente argentino amigos desinformación contaminar beneficiar florencia valientes laboral detergente clamar aliar vulnerable superficie defraudar operación educar sacrificio avenir capitalismo potenciar camagüey feliz laboratorio vocación compartir angel gas tranquilidad amplio actuación propagación 500 rafael drasticas salariar presenciar cilindrar llevadero curarse ayuda organismo lastimar colgar final provincial mencionar familiarizar apreciar coincidir flor holguin pendiente televisivo prohibir linear antonio ameno amenazar humanitario fallecimiento allá fácil turista afrontar iniciativo ejército participar planeta gestar trabajo castro grave básico sancti politica reflejar agotamiento pnr transparentar durar seamos fortalecer empañar debia vídeo exbecarios pais.q excepcionar infectacion ganador salga maneraaa queeee 320confirmsdos desolacion colaboracion inflexible recojiendo 4000 preso basura pónganle mary freír tienes merecia valiosísimo grafica sorprenderan arrogante garantir técnicamente seguimos 9.pm maestría.jóvenes firme aparición abrazo casos latinoamericano biblia debidamente policial carro tunas nación online lógico pérdida guayaquil descartar recaudador considero sobrepasar bebidas ocupar oculto ipk indispensable mar comerciar gratuitamente agravar violador terapia dominar repartir gratitud ciento acerar primar ocultar viral sumarísimo concientes dormir salar enfermeria .orgullosa envidios sugerencia principo divugarla narrarla visitar naturaleza proyectar beber profundar epidemiológico función dióxido transportar multiplicar hacerlos sumo tono humanos justo querido auxiliar estimar psicológico adoptar plan capacitar aunq monedar acorde pesadilla distanciamiento lindar decorar unirnos rabiar tradicional factor engañar desgraciar necesitamos conozca atacar frontero esclarecer determinar alumno complicar incapaz activar martí respirar correar mensaje ojalar penoso miren misión consagración brazo estupidos mártir contarnos homicida profesión pésame diciembre prisión astronómico mad converso quedarseencasa#aplausos#fuerzacuba ivermectina alluda cerrarlo eternos celestes aplusos cubaaaa inmensossss negociar deje coprolalia debastador persons mandemos detenernos podrà animo responsavilidad otorgamiento zoonosis afirmar limpieza común empezar poquito regular catástrofe lectura dicha importancia oportunidad construcción crimen infractor agresión consistente perfecto orland metro actuan cursar distinción irresponsables contener 2019 vínculo distinto disposición obtener entidad sospechar esfuerzo merece señores descubrir derechos someter españolar ángeles extensivo esclarecedor alimentar higiene compromiso complementar quédense correspondiente cómplice somoscuba positiva batas energía blancas curando recuperaras desea interno mérito york internar apellidar hallazgo firmar cienfuegos desaparecer conversar estrés norteamericano exigir saberlo lunes quiero recorrer complejo inventario incapacidad gustaria sentar tasar sustituir cruzar arroz largo panico armar multiplicación 3×5 dígito parentesis impares- huella interferir veo damos vidas meritoria arriesgada fatuo enaltecer debían historias buenísimo arrestar mambí condicones valiosa acusiosa excecpcionales condolencias baño crnel captar sustituto severa ejemplificante exagerar juventud?y asintomática?.estoy noches.¿qué culpa mueran lastima ayude sobrepasa persona jovencito desobediencia chao julio edte necedarios acuda acogiéndose vulnerabilidad liberarlo pondra .desde embajador yconoce futurro tergiversar .vir suministrarse .se gráfico irregular quedare ponchero espíritu orgullosa apoyaramos diste asintomático explicarme andorra dense 387 disminuído bellísima agradable ciec químico angelito roberto expectativa evitemos unificación acelerar egoísta crónico sabran vias doblar quedarnos iniciar boca amigar aclaración afectar héroes poderío sitiar optimismo muchisimo funcionario resto pronóstico bandera trinchero gratis romper existencia frase requerir convertir equivocar relajar legal valoración bienvenido diseñar pedirle previsor físico quiera tantas contagioso viajar carnicero plato aspecto victorioso guardia principiar aglomerar traicionar ocupese funcionar decidir drásticas preocupacion tranquilamente 5x4 rio aislarse notar gigante fiel reciente injusto gobernantes pato acceder asedio transportación ahorrar atravesar perico podia inicio escoger auto cansarnos cuídese excel escrupulos coccienca fechorias pureza integración genético holocausto involucionista escandalizar fios irresponsablemente c5n investigacion ayudarnos laa oara entendio prevee ondra tienes.toda spts bien‍ balerosa .grasias previlejiado ciempre intolerable tolerante justificación tele programación agobiante buela cisión controlarlo.gracias alcoholicas vende tomadas ricachón quería suministrar estaría sinobtsmbuen trasmisión continuamente waooooo notificar posterior dió terminal prosa admirador confinamiento maldito agradezco aclararse constancia precidente eliminarlo indiscutible freire realizarse confirmatorio tardo examen twitter postearlo taladri proporcionar unicas terruño cobertura covit-19 martínez electoral desgraciadamente noción domingo profesor alegría alertar granma realización ramón violar identidad firmes horario caribe limpiar federal dictar tiendas politico trasladar masa doctorar humilde cañonazo noble estrategia desplazarse repetirlos finalidad rescatar alejar efectivo exigente década condolencia bancario abusar dichoso onu perro promediar desastroso respetuoso radicar añadir habilitar lazo río conseguir stone far doy directamente conocimiento tirar pulular norma televisar pensamiento asociar riguroso conclusión trd detractor esquinar invitar trasmitir verdaderamente sufrimiento wuhan enseñar cubita pueblos 5202 agredir clínico gato juguete luis 14dias hobligatoriamente tes realizarce devoto vaticano caño insensible miseria virtud ejemplarmente escrupuloso nunca.y surgen ganarse volcar proclive admiracion bandido pasaria méndez sist malnacido regalandolos desgastarnos lea pasarle elmouse itanianos comparto energica tesla respirador prohibirse hallar delicuencia cumpla hijos penado padres multados menores traficar valiéndose drogar aleatorio patron projimo dulzura parecen sembrador interrogar mexicano ratero oscurecer mosquito europa típico zoo cobit-9 virus.dos autoridades.solo jabon descarar solidiradidad seguirlo carretilleros tanzania batabano dueño rostro testimoniar resivir podran alimentación salvador escuela minutar asunto pipa nasabuco salarial puesto lección tiempos municipal abogar aplicarse tratarse gobernador convertirse canción dejen doler exigencia condición oido millones programacion serà avila vitalidad dosis aca viciar listo emplear foco comprobar altruismo etapa roble tranquilo bebé protegernos vieja centavo nudo garganta arte esencia censar suelto deberian profesionalidad bayamo quedateencasa propósito guanabacoa convocar mantiene satisfactorio guantánamo pongámoslos latinoamericanista retomemos brillar firmamento documental sos kosan apalausos marino helle proesa sobreprecio precisamente concientizan has quito reusarlo plancharlo cambiárselo relavable ponerlo constar emrrgencia secuestrar africa manipular persuasivo demostrarles inclinar descrédito patinar cuento hata amó regocijar asintomática aguantar modalidad virtuales ayudaria pasearse pork escrito entrañable serial historico audivisiales chovinismo resonar podremos liderar comunista comunismo partido connotación comprendo utensilio champú trasporte simplificar kien incubacion internacionalmente lograrlo resistir plaza dígase histórico severidad cárcel leso impunidad doloroso quinto reparto jose carnet contagiarse relacion tornar recurrir coronar azotar nariz minuto cordial figurar hable 5234 1051 mal voz peor elisa enfermeras béisbol apl persepcion desastre 2:00 propiciar tolerar abuelo explícito elevar inmediato condenar pudrir educación lider palma altura humanista cárnico intervenir exacto priorizar educacion manzanillero principio hembra varón alegre tratarlos césar tajetas comunicarlo imagínate kiero .según ayúdenme cuidemos independentista tejido espera srenidad palabras orque confía trasmite entrega valvaridad tomarian eso.muchas lugre hola.mi colas tema siempre. mundo.viva venezuela.viva podrir chávez fiestar morosidad mandatario racista reservorio pediatricos cuidado peluche epocas trampa ositos soportar hondura eeuu.el injusticia constantemente seguira protegiengo conducción cuidemoslo hágalo muchisímo gone yeni carmen clinica infestarse vigorizarse lawton cualidad pesadilla.asy denis piense covid19,lobque infectarme cárdeno colón salió enero cuarenta paulatinamente art[iculo hrs 14:00 favooooor titular cuerpo atrasar modesto gravedad cuenta consumir memoria decirte especialmente innecesariamente beneficio estupidez covic-19 escenario diez asustar recorrido marina céntrico céspedes inquietud tomado estrictamente divulgar temor salio diaz decretar pre referente américa mediar rolando costar muerto cargo brigada areas acatar excepción reflexionar ruperto solución hacerse campar negro tensión carencia fracasar cocinar coincidencia fiscalía ejemplo indicaciones tomemos carne bastar rendir disperso bbc absoluto insumo gusano bloquearnos mayar iva esperemos genocidio mandato precaucionar confrontar inescrupolosas veamos costumbre sr. herniar excelenté alcánzaron igg sencibilidad cion batistiano bufete guantanamo mantenerlos albergar suspenderse liso contaminación teclear escanear tremenda carné bobería tomarse espectacular infinitas demàs salud.¡coño 3343 1887 vir estratégico nombramiento pegdo organizacion intituciones impulsar tierra.i joel morador agropecuario preocupa informan preocuparse eterno defendiendo estén galenos hombres tantos muestran martì supo defendieron covid19,lo ,no lucy acertar fueramos sujerencia frank violación maceo cortico atentar tuviesemos pronunciar impedir viernes acuidir controlodos conjuntar aceptar solucion resulta distribución pegar calidad magnitud invicto comercial opinar capacidad resguardar mercancía maxima daño territorio secar igualmente dron drone d=4 pan imagenes atento soriano propagacion gloria máquina posición certeza apoyo decirlo tos perdido galleta sencillamente colaborador medicina quedense inedita pesquizaje implementar homenaje fugitivo feo hatiempoganamostiempo guardao calentador multas correo cuarenteeeenaaaaa ofender clausurar 160 reafirmar auge ccuba recibi machete resaltar total teléfono orientarse articulos normar obligstoria agradecida paga años empleada restaurant apreciamos vecina vive trae almuerzo conozco ejercitar uncica exito descripción agran rodeo explicitar domar respectivo aplicarle esforzandose obstaculizar tratemos ordenamiento acatamiento compensar cederistas ribete descomposición magnifica miserable premura cuñado cuiden.hay .podrian explixacion favor.gracias liuva.pero celeste abrazarnos sitio cocer cooperacion verguenza morgue auxilio cadáver connacionales hora!!????que tarde?eso devemos va!!!eso ecz conservación satisfacer spot pleno preferir madrugar fascista predecir designación rendición perfectamente sinceramente libertar adolescente anterior aislarnos referenciar campaña maravillar inicial besar estrellar perjudicar hugo inteligencia ciudadana equipo clarita garzón camarilla transitar generación tabla distribuir anciano transportista placa arder esencial hechos engranaje titánico autonomía lubricar gradar 12mo archivo usted.el rueda visibilizarlo motivo embarasadas obteneris malhechor dinámico llamarlo precedente dejarse sinonimo entrañar llagar implementación incansablemente prometido ideologias plataforma antipodas desventaja tuvieron previo temprano hubei batasblancascibanas juventudcubana salvarvida feuucmvc hipertensos infecto diabéticos sicológicamente malintencionado alarmante túnel enfermándose roxy detenidamente podra sumen inciativa serviles inculco mantendremos derrotar propistas epd maveric personalidades presiones mantienen relevantes pronuncien resistiremos ceder cubrirlo sensibilidad confusión cimex tiesgo terceron indignación almacenar guagua mtc fuertemente puerta obligación valentía anormal volar finar fidedigno mezclar impotencia pisar himno desigualdad indudablemente análisis loynaz mensual embarazar tumulto batallón invencible miembro insistir viejo dirigir covid19 extremar aprox emergencia emocionar fundador construccion trasladandose marti fijar desmontaron gobieno congraciarse anacrónico usándolo ensayar patriotismo derrochar vigencia transpolar periódico contagiados apresurar finalizar noticia bandidaje enriquecerse severamente entrevistar alemán andreas transfusión 1994 kalcker cientifico inaudito montón tuve confesar sacion reprimirse compasivo sumario ejemplriarizantes marco comparsa competente rubio juan perteneciente delicia rus .por herma rondar brindarle 11:00 viejuco familion bondad objetivo comprensión insituciones bus declarar cafetería aparecido cobate alarmarnos rptos cdp hipoclorito extremadamente ocasionar caiga esten utilización equivocación tercero prudencia ciencia hueco valeroso antecedente inminente concentración símbolo granel desviar enormemente individual dificultad citar empeñar latino acá hacerle convenir amanecer socavar resistencia inolvidable fabricacen contrusion condenarlo apostar vedado polic inremento ajustar fiscal upnr protéjanse magnífico sinverguenzas privilegiar tocarà intenciòn explicaciòn irresponsables.¿cuàl termine logran organizaciones prevalecea ingobernable pasara asusta 256x8 2048 32x8 256 caña sacrificar mear impactar imágenes fallo palante flotar éso estrategica barbar refrán:\"cuando remojo\"y cibano concientisan .de porciento ubiese pasado.se madidas poblaciòn frigolifico .¿que asmatica cronica liberarla asmaticos economicos catastrofe legalidad jurídico irrespetar objetivar índole 3 analfabeto distrito incondicional hombro búsqueda golpe psr salivar lavarse estricto programa opinion lindo partícula prácticamente mantenerse temporada cuyo movimiento ntv vehículo mayoria jajsja palomita naso buco nuevo.así planchar garganta.mi siguiente,¿es gárgara peruano alemania alojar sensatez oliver cineasta predidente abusador prepotente lunático iran nicaragua obvio peluquerias analizar barberias cel ident bañar apellido num actua acepto ganacias apoyode prepotencia brusco apoyarte girar estupendo concluciones debilidad convocatorio graficando influenciar jorge salvadoras herir cargadas maltratada moleste exigiendoles pegatina omnibus dejan alcfanzar sinó desmadrar ratas viveremos vuelo kiosco 48h consciencia suspensión significativamente opino invaluable asechar pedazo paramedico informese considerarlos prestigioso prejuicio ignorancia super mentir carecer socio dividir constituir camaguey imperialismo burlar miguel azota revendedores batalla propaganda molestar sumir inspiración institución mata variante departamento ruz potencial fortuna aisle consecuentemente eam delincuentes racionamiento escacez hayando vagos lumpen enfermedades personages filones tomamos continuarán nelson incapies sintoma encomiable reportarse trasmision leve meterle radical imagínense fuese pepe obra cañas palmas paciencia mejias inspiró apoyando restringir anticipar exprese tilda libremente gusta falta culto debía digan erick razones perpleja caseria cazar cflh desinforme desinformada insite ratones gatos parlante serie película de.lo pitiyanqui traición háganle elegir transformar manera útil mascarilla oxigenadores consultar levita moler fama anónimo moda tranmites del.pueblo govierno lancalle importantemente hab oarte juntar insípido banal paralelo sra taron adela testimonio escuchando raùl pongo aplaudo segura vencerà mèdicos sufren enfermeros dirigentes excesivo animar proteina usd 700 cigb nucleocapsida compañias comercializar sabiduría sobrevivir banco farmacia vergonzoso cerdo brecha deceso personaje seguidor tildar deja protestar reducir universidades pandemía belleza algun enérgico característico inclusive poblacional finalmente ropa wifi intercambiar gozar artista plantearse morirse modelo ojetivo besitos historiador hermosa emerger arenar grano agradecerles la.misma apalauso majarete hacian descendiente espirituanos hispano octavio habanero heredar soltar jineteras irse heche procecen vacacionar desacreditar brasil provecho maximos garantias patología 1868 dificultades(bloqueo sobrar pandemia)es .leonardo .quisiera angela habran organisada siboney evaporar poseedor retornar ganancia multimillonario sopar ejercicio ahq tablero encontar junio precoz posiblemente progresivo dispersión opniones com nhuetra mesquina trotar dura difísil muchísima linda proceres alegrar laso ganada amistar encabezada triunfo supermercado preliminar categoría flujo alerta depender cubo i)- x&lt fórmula un= iii- 2-poligono dp= 13= diagonal profe +14= -boca 3-la caldo ds= 4=6 lm= +6=9 polígono preferiblemente ira 5=7 covid19= rectángulo codo 1-rectángulo lado ii)-suponiendo 25=2 recto spiritus quedarme residenciar cama relevante vivienda centros baire escolar bendiciones sur manchar clinton disfrazar politiquería elecciones socios colmo hilary pura monstruo antiguos recibe supervisar produccion emergente drastico pesquisador gases ada tando vente guns agravante mago desidia modestia contrarestar unión fumigación bombero decinfecciones comunal alexander verte emoción locura colmar líbranos desafuero eterna acoger develar practicar ricardo canela intérprete eslabonar direccionar saltar destruir mortal ministros golpear rotular desorden atrás distancia agudo juez discurso reforzar combatiente aeropuerto global suspender pineros demostrado asiático separación acaso producción florecer desgobernar presidencia reluciente altuismo decadencia arbitrario constituirse kovalik declaración quebrar optar cumplirse liberación calentar .santiago vencedor ciudades sierra aguerrido valuarte fraguar school grado financiar obligatoria publicas universitario primaria high 6to viga insignificante pido muchisima orador paja ciclon rubi dominio pantalla ciclonica exhortar darnos respétese alticimas indiciplinas deambular liuva pp94 discutir malograr fundamebnta asdemas sarcasmo explotar valentia decena cerveza aglomeraciones?esto nuca 0,01 acomodar protejase ayudemonos duelale .ante desgastar creanlo adonde asqueroso llanamente corrupcion acaparamiento pesele 1er aburrir referirme contraer escrúpulo aplicación instante protegido pangolín escamar transmisor encender salvarse miles cientos cuestionar cortar 32año ubiera gozoso denigrar ladrar señal andamos democracia insólito cacarear microscópico comprados ford boris 2000 regulado domiciliar -19 trtar minoritario desempleo publicarlas ascendera cuesta cubasalva disponible pepino estariamos descomunal desconsiderar balazo medite firmemente fusilamiento tendríamos fusilar lolo oiga testigo renglón trasladarse nucleos revisarse quinta liz alimentacion próximo rumorar forodebate preguntarlas @cubadebate covertido elena indiciplinado vrus maría decisión extraño emigrar espulsar 350casos oxígeno contajiarme deceo infantil arriesganfome .yo conocen manifiesto e.u alertas horrores cien reinar calzar capri cupet vejucal naranjo bola inculcar preservar vicenteaz general carnicería efecto joseph venezolano objeto industriar balcón caney fuerzas papel protegerse ppolitica cumulacion rayar logica cricis fmi capitalista prestamista saino direigenntes desmontaje llamarlas arduamente consternación despresiable condenable kejas santafe antinatural llamr iente erudicción progresar civilización ascenso corroborar barbarie artificial sucio regulaciòn producciòn constructor hoteles corea automáticamente sostener haberla autoaislo necesite cigarros calles mehor alcholicas parques permitan cierre borrachos muertos hayan matasones poli elemento apoyarnos indigente dollares dime indocumentado coño específico mukltplicar novelar validar cancion multiplicarlas indagar penosamente confío diabético normados lengua large preferible indolencia esposar divertir técnico minint chance mercado colapsar diciendo.gracias nuevamente.esto redactar personas.cuando .disculpen.por liuba.y favor.rectifico teclado enviarla.muchisimas envio ros vfx videoclip desagradable bárbaro involucrar negar órgano policlinica ausentar guerrero entendible entiendo fomentar analista mamey emergera economico concuerdo asentamiento agostar agobiar mined recuerden sintetizar pídanle consecuente padrón invadir brutal ignorante alcohólico reclamar aliviar triunfar innecesario orientaciones establecimiento infringir incumplir agotador taller región toser combinación ídolo disfrutar roilan urquiola dedicarme beisbol aspirar ehoy lñucrar devolver cuemto arrimar panfilo almanaque ele equieren chequera encimar yoel habitar aqui(por fidel)nos expreso informcion covid-20 obviar seña ias horror deverian veriones economicas posibildades movilizacion indiscutiblemente logicas cadete foristas logistica paralizacion abuelitos mental google podernos publicarla insistencia quezada escribirla insinua farsante remotante abusivo magnificos felicito miemtras ambulante hecer funcional prudente comunicación profundidad josé normal policiales rincón cielo intenso etc convicción cercano nuevitas apartar jusgados infierno jusgar aprobar instinto supervivencia concluyente negativa agradeceria ende corason nesecitamos robarnos digo???como justica escrupulo aser adis deva equipito musicar aceo 400 contactátame aclararle ves leerlo vuelve recaer asesorar sars.cov-2 sentenciar catar anterioridad cuidadanos sisten enfermedade dela hastya preocupese ningun bolqueo ojal palito aplicarla asalariar compasión consejos probable flagelar imitar imitación talento prisa aislarlos advertirles pudieran policlinico repetición academia alrededor penitenciario virgen interes suficientemente encuestar menester mira indebido nanòmetros frecuentemente globo cientificamente mucoso veraz 170 ocular enteto.y humano.haciendole moral respeto.a metedura mayúsculo 10000 alcanzarse 131.551 duración nohe honorable descanzar relevar colofón definitivo recompensar honorar ilustrar remembranza repatriación esclarecimiento azaroso rendirle excelso madres oralmente pretexto traducir texto trotat saludable divisas confiarnos tranquilizar recaudadoras estè aùn àreas autòctona trnasmiciòn cundir limitada auque sospecha.ojo vito ect asir presitente despistar desvio marbesacion emvolsillan cooperativo taza envejecimiento 2.8 meñique henry cooperación reeve desvios benebolos comportamiento imperdonable química mortifero industrial magistral autóctono famoso ayrton inmediates telecristal cruz baguanos contexto infinito honestar turno constante microbiologos desfilar documentales tranquilito diferente; vivencia asignar poniéndole probablemte proteinas igm respetarles dificultar pudrirse merecen horrible periodica ejecutar mncpios cercanía colabora pudiera recibida impone interés vemos envían equipos insumos aérea nacionales aviones mirarsela lapiz llamaria plano arreciar catalina profilactico indolente covid/19 policias puente 156 obediente isaías escóndete 26:20 desinfecten entra 40na confien cierra guardarnos aposento panorama cunita extrañar libertad olor culminar anar tocayo redoblar pensan gana necesaria enfermos proteccion sumado diambulan trabajadores cantactos mandados conocemos contagiadas agueridos comunicamos donativo hambre buscaremos atravesamos poquitico recomer abanicar casadevall probarlo hopkins microbiología johns molecular sanguíneo inmunólogo inmunología plasmar arturo concepto radiar bien enfocar forista fríjol parque generalizar 9:00 losar radio magdiel rebelde https://dle.rae.es/dron dada pronunciación diccionario comillas rae aeronave plural drones española reflejo extensión ingl tripular destacarla cursivo realizarle polimerasa polivalente cespedes orientacion intensivo pcr(reacción dica semos porter@ nadiee tecnologia avilidoso desarrollaores estudiente chuikk acaparador boina rojo rien catedral continuan contrarrevolucionario politizar compartimos reconocimento criminales increibles esconderlo pino donar salvación implemento desmoronar represivo aritmético u=21 puedes operador siguiente utilizarlas parapensadores c=3 i=8 l=12 n=14 paréntesis prado prof. 22= 8)/19 p=16 néstor arza 320 disculpa sincero pertinente pesquicias paquete paramédico esfera carmelo cuartar escasez pública haciendose aconjandome despidio siera veneno fanguito tocandole desembarcar eficiente chico firmeza fraguas hatuey malechores huellas desplegar resforzar errar sociedad.por oponer alzar incriminar fuertes irrigar saludables platicar gladiador merito cuestion productor carnero dedicarle puerco gestión gobernante heterogéneo reelegir honraria genuino unirme andrés fielmente govin gritar desencantar registrar a.m cuba(incluido conteo aparecezca tristemente leernos retequedifundidas pudiendose bnos 11.00 mecanismo poderla tramitar retrasmitieron via hotelero ejecución recuperarse paralización paralizar reconer abnegación gastronomía consagrar heroísmo deberees demeritar tempo frenarlo mover meseta coordinación cajero tocarse derivar presidencial demócrata recesión conjugar elección depresión cuota senador prestigiar popularidad sólido cuomo republicano wambi inconcebible imprudencia plantar índice asimilar morbilidad habitántes señeres ficción cuidemonos insensato borracho regalar seguramente nervio jabón equitativo insisto derrocar busto acusar emisión indicador delictivo serlo adaptarse robo repudiables historial adecuar repugnante supervision ecuanimidad controlarla lidiar farmacéutico santiaguero actitid canalla televisión observación complementario servicios urbe insuficiencia publicarse judicial tranten totalidad •se electricidad santana 110 reserva(2 glp muestreo enfrentarnos envejecer confíen evolucionar salvoconducto 300 rogar rotación carneses ciclar policlínicos resultan чтишь honrand jornada empatía cívico súper descuidarnos mslechores viruta mentar publícame candonga espárrago evidente capturar país.gracias afear curvar caja creyente dra ternura caibarién rodríguez linares inocencia imágen facebook generosidad lisandra circunferencia infestación agromercados sirope redactarla levantarse imprimirla promoción reunión inforación 11,00 fijarse ventaja informarse autoridades hidalgo siglo superar entero chequear circular cabecera publico precensia iglesias repartos cidad rpto abastecernos logistivamente disen perjudicial combustible abastecer retratar profundo reflexión racionalidad objetar civil alentador enorgullecer rene instructivo goloria gonzalez estratega esmerar camagueyana incentivo meritorio talar comunales redonda agrícola mantenimiento centenario mesa rendimiento campesino unios mayo ploretarios pasandoselo trío dúo millonario impertinente caneca pomito americano aula describir desafiar lanzar boto bombo polvo leche indisciplina estilar rebasar casa),actuar pregunta habra nrp percepcion modificar luto ofrecer guante conducir hermético menesteres taxi periódistico vehículos especializados biológico previamente climatizar replantearse choferes problemático estelar ¨compartir tenemos¨ incongruencia descontrol feriar am.de aplicador conclusiones.el oídos)ambos curitas pregonar camino esto.gracias saqué donden pulmón algodón cajita destruirnos apagar múltiple filosofía superior enfrentarlos 5to quejar chocar uña marineros cubrir mayabeque automóvil concierto raro escapar aforar analisis tenerla util pesquidaje bolsa paragua huevo ete piensenlo vital croqueta prioridad pedro llevastes estornudar arroyar imposibilidad escribo vacío emsume espacio mentalidad discriminar apertura plegaria hipocresía iglesia usen gay oscuro calumniar mediático defensor sigan informático cultura sensible ing. -un nacionalidad vigilarlos profundizar identificarlos estudiarlos italiana- epecial de15× seco acercándose inmutable volviéndose 9:10 22- celular brimart frecuencia despreocupadamente masónico resguardarnos laja anoche desmontar ingestión bebida equidad chiquito déficit creencia cuadrar serían narrar abajar tube innumerable permanentemente declararme paladar retirándose telón cambiarse gtmo caimanera trasladándose trámite abnegado puntual bicicleta normalmente inestimable moto concentrarse reparación acceso tendencia conocido alterar especulador imaginación cuidarla dirijí hoja tabaco fábrica sobrecumplo oligarca conformar despreocupación aspiración eficacia creciente exortar interactivo defunción dara epidemico vision suprarrenal presenta soto¨. ¨luis allende diabetes mellitus hipertensión arterial rentar obrero hotel irian eslogan otra????que nieto generar culpable rojas erigir ineficiencia soberano cínicamente pretenderse imperialista embestir wue instantáneo xxi discursar pelele estuvieramos ifea medioevo obtuso lentitud decisivo 1200 hospitalizar drasticos aplicacion porsupuesto conllevar inmune proveedor debutar realizarme tomografía 205 posponer fehacientemente cervical evidenciar renombre resonancia individualmente colosal difundir pulverizar internamente ennuestro jamar eventualidad pierden asegurarse .gracias poblacio despreciable atajar sufro chama normalidad sensuren robándole pelo porfa descarados urge altahabana casualmente ausencia william denunciar soler ilegalmente disciplinario fútbol impresionante momentos presente tubiera imaginarmelo miami ñoño difamar llanto juzgarlo la.cabeza sus.dirigente ano fragmento honroso vigente heredero fisicamente vencerá sesto videos.bueno justificacion proposito tendero prevencion comptar pozuelo comentario.que moderar pue tanto.si nutrir comentario.más acertadas.que vale 44.a hola.desde tiempo.¿?imposible papar camilo descuidar jamonada cercar cómodo cumplidor soltarlos haberse comprometer habituar regañar solapin reiterar 20000 adicional senciblemente guayos cabaiguan tadavia 0,05 farmaceutica verter 0,5 0,1 persepción desinfeccfón murciélago herradura queratina brebaje recordarles medicinal vietnam asmático recetar componer reumático cabellar desfavorable adónde criar azotea campesina obrera curso apurar desconocimiento lector pernotan ¨örganizan turnos¨. reaccionar muchachos multiples diarias desbordar quince negocio efímero cuarto sexto planificar agresivo aute juridico isri eticos vice despreciar personalidad internacionales excarcelacion celulas relaciones correccion alegrias interaccion heroes redondo varadero alla oor educacional debieramos lod desicion fijemonos decian recomendable trimestre alamar precencia pasarme naval priemer enrolar afilado medida período agro propenso epimidiologo estrecho conocedor monterrey adulto continúan lagunas 7:00 8:00 inmigrante escobar animas terreno ilegal pelota leopoldo comedor estrago direcciones sitostaticos suero ueb algúnos asmaticas empresas diabetis establecimientos méxico dorar nicoya tod@s irle mencionarse públicamente silenciar difenden profanador asesinar ilegalidad comisores caminos apátrida desconfianza incorporar irresistible pesquiza medica sabado abastar 11y recordandole activo cisterna aguas frecuentar april situation 3/04 instruir comparación fabuloso pacientes(ni 6/04 presiciones villa consideración desesperar qque proliferar flagelo grandeza inspector tenerlo mantilla 5de visley alfonso posta guardandolas gripe revolucionariamente penincilina neunonia inseguridad bebedor remitir zoológico deficitario tiempooo peligro tentación elevado herramienta venderlo demasiar algarrobos multitudinario respetarla meterse persive sabiduria unira consonancia facilitarle tarjetón adquisión europeo olimpia alimenticio complicaciones cardenas evitarle concentrar innecesarios cierren gastos colon carretero protegiéndose clorado especiales pase extra pena haga benévolo sentencias leyes ilusamente privación numeros hara evolucion diferrir agrabo soto salva internauta doce yara pregunto despachar dependiente adentrar pedirles quirurgicos ambientar envien simplemte impode partícuas penetrar filtro porfavor polcía enfermarse grandioso protegiendonos patologia seguiendo realizarlo ancionas asistencial moverse absolutamente mayoritariamente minoría espontáneamente azar musical creador cabalgar central maria resistente merotiri abel chicharrones considerable pcc represión enfoquemosnos pedrito autora amparo infeliz conjurar entierro comunero ignoran setenta fosar nueve defecto contención piedad blasfemar ejempmo eternizar 234 6403 201 instituto 7167 188 kourí 1169 225 139 tropical 764 649 sagua demo autópsia omitir indirectamente sitios pasivo táctico núcleo puesta redacción sensación chicago alcaldesa lightfoot habitual transmisible epidemiologia(inspectora exceder doméstico nocion niñero poyo carnicos deshora bebedera sorpresa audiovisual moncada avisar despierto mambo rellenar guerrear mambís prominente dudadds libro estela pedestal acunar neroes .nombres cuartel tesoro buscador transmitirle fumigar contentar temperatura inacabable botín cocar duque deslocalización latina cáncer externo pretextar yanqui infundado narcotráfico acusación economica ejecutivo irán adhesión demandar juego institucionalizar siddha naturopatía yoga formación fitoterapia ejercer 1990 alternativo suiza 2014 2023 internos klv asuntos 2005 unani oficialmente impartir neural 1998 antroposófica complementaria ayurveda india documentar 1999 conocerlo prinero visual personalmente locutor eco 全人类是家园 apóstol pátria الوطن cabalgata arar الشرف sei genérico это родина humanidade homeland costelación onorato caballo 荣誉，它给你荣誉 eternidad sanar umanità estimados you honored إنسانية guiar человечество شرفك fusil hinchar glorioso если себя humanity idioma você arroyo desinfección exigirla claras.todos tengamos visceral seres síntomas medios ambito inestabilidad proceder recibirlos gernte doctores trompetista duce olimpo entrañablemente regresarán fruto corneta codiciar pechar will valioso perpetuidad especie world regir lennon fragilidad the asegurarnos and parejo casa.pero familia.desinfestar ayuda.menos todo.ponerlo quitarselo todos.poner echarlo puden días.eso rebien lavar.lavarse asfaltar cuidarnos!!!!!gracias largas.al dientes.entonces casas.por efectivo.bañarse regresar.el cepillarse encantaria zapato promocionar público.cuando fotos.esto llegien quitarse casa.pues nada.vayan calle.es jabón.eso desinfestante .hoy quiciera acuartelar globa enfacis el.servicio .un reincorporarse patrullar intentar becerra rabeiro toca p.n.r. mercancías teórico bolivariano basta pronto!! apretar acompañe toro darío barcaso religion alsa amo patrona cobre yemaya fundirnos amas,\"rubén perseccion rincon hermanos inmencidad fusión tiende montana universo decision pecho obscure volveremos angelo lodo viento generosa abismo claudicar oxigenar contraloría chapistero agarrar termómetro tamaño peluquero botellones cadenita agarrarlos quirúrgico mojar mecánico sobornar tatuador apululu suministro cantar cassette cristo afan guarnición asar neurona apretamos creernos pollito estatua imaginemos exquisito hulk 1era absurdo malinterpretar alzheimer calmarla camerino ocasión aniversario teatro pablo abuelita 200 tío participación asma llorar envidioso reina papá bajito delgado negligencia prender incorrecto asociándolo craso micropartícula simple enpañan traerlo desproporcionar supeficies sexual recio persistir verbal urbanista indecencia insolidario informé actor guapería guiteras emprender coladera constatar radiografiar bienvenida individualismo ético rocío hacinamiento 12:00am sobretodo metido interiorizado reunir implantar 20,por hata- frenarles límite complejidad zaida 1:00 hacerles babero chivas delegar covid-19,un antisocial sucesivamente 5:00pm inconsciente cup contrarrestar gubernamental opacar sinnúmero secundaria superación aconsejarle permítame foc tenida soc ileso falacia municipales recomendación universitarios soberana cometido errores hipercriticismo preparación facultad gramatical voluntario asistir postgrado acreditar superarse reanalice afroestadounidenses raza noventa coordinador alimentario delegado vaciar raiz deb villuenda ulitmo lacteo tanta elllos nervioso acapite llamenla plazo alcohol intervenga reunen remus dificiles percibir ameritar interseccion cascabel atencio descooooordinado vecindad importa aventurar vacación perspectivo ordenador critiquemos móvil cuestionamiento daya maleta destino placer histeria lléguele protocolar versar inveterado miastenia ambos tribunales cov-2 unidades noches estancia fondo hospitalarias populares instituciones sars fumador secretar sito estresen nuesteo agradecerle vitrina esran preguntarón reloj habiamos exigirle pasarón personas?por indignar arreglar confio comi aglomeraciones?despues tardar exageración tardes fuí estresa decirles nevar intensivistas conectarme deprimir 2do quedese sobresaturarse margen melena alba composición versión asistencia mincin nevera cogi comparecencia cuestionadores créanme normarlo enfrentarla pandemiapuede camión ministra pensarse afortunado entristecer enfrentándose dificultarse efpnfermedad estructurar cogera vianda profesionalmente profesar comunicacion uun retorcerle equis padecimiento egoistas desenlazar epandiendo hubiesemos lejania telefono contactossss eistir posicion /disculpen cumplio llevarles necio recontradicho refran contriccion regano umbral keyboad/ elemental humanamente esperitual manifestacion culpabilidad dano determinacion preocuparme mejoria allegar salud/ entranas ehimen deseable cálculo parecernos movilidad subliminal conociéndose consiguiente modelajes entretanto extralimitar favorable depositar promover ingeniería surtir covi19 coeficiente regresión visión ingeniero pensarlo barbosa apasionar gozadera risa título integrar piñata adalberto permiso complacer intensar caravana tumbadoras sueco policía).todo rosa grupito baile recuerdo maravillosamente regalarle canciones juegos bailar bailarina levantar campo música colmenero reyes variar espectáculo anécdota amante cake ame viviremos obstáculos insalvables altamente ayudemos productos lenguaje máxima muuuuucha tenacidad habitantes sorteado sometido vencerlo riesgosas redes guero ojeras armas necesarias militares inteligentes cuidan vajillas demuestran regresado vecinos ventas desvelo dolorosamente únicos amada digo cuidarlos osado venden sociales semejantes innecesarias enfrentamos robusto potencia carencias indica humanitarias aglomeraciones parecían importantes mayúsculas autosuficiencia máximas perfumes paraguas rinde evitaría piden respete misiones hablando naciones experiencias dependencias rodillas ido efectiva compañeros beneficia brindado estime conciencia posibles quedémonos significa casas vencimos resistido victoriosos doblarnos escalar corporación apoderarse prensa latitud aquilatar legitimar hostil donald intento news avizorar denominar importantísimos cernir novedoso dimensión afilar difícilmente discutible consumar elementar autoritario deducir incendiar fake incendiarse impredecible nye aprecio norteño gravísimo engañoso autor arwady recopilar añejo barrera representante milwaukee detroit autobús metrópolis oeste disparidad condiciones orleans elk pobreza michigan abordar etnia agenciar prometer abrumador comisionar allison ordenar oficina activista preexistente empleo lori seguirse históricamente tránsito brote geográficamente despidado desplazar miedoso altoparlante extremista pelar bosque riéndose transeúnte encontrarse irrisorio cotidiano perjuicio desinfectarme ingenuo quinientas rotar concluir clorarse injustificado enfilarse separar evadir pedimos recíproco ente centenar carente licuadora moje muchedumbre almorzar entorpecer gustoso ennasobucados tinte acarrear enfrentarse atenderles conglomeración ancianos integrante concurrir tomarán perfume desnudo lajas sierpe remedios bauta sibanicú aguada coco morón viñales regla http://www florida trinidad marianao guisa jiguaní majibacoa ranchuelo freyre pasajeros güines cifuentes cayo majagua fecha cauto placetas 05/04/2020 cotorro positivos güira esmeralda consolación baños camajuaní guanajai spíritus cristóbal octubre 350 recogida cabaiguán contramaestre puerto baraguá taguasco manzanillo cruces reportados mariel caibarén cubadebate.cu informaciones miramar encrucijada jagüey maya 186 vertientes banes lisa cumanayagua songo- ciro tranzar eduardo plástico arrancar sabía pasarlas crédito gusto imán estremecer triunfador anda iberomericanas borrar dear conocerla enigmático audiovisula digital enamorar silvio presentación fuer formato bingo simbolos niñez recobrar sangre sonar rosas alevosía emblemático león toros concertar mirarlos abundar infinidad sorprendernos alberti sugerente peter tomás genio invitación significativo panfleto madrid conocí leyenda eugenia poema autoría grabar sánchez conservar mojándolo capítulo celebración impresionar "
     ]
    }
   ],
   "source": [
    "from collections import OrderedDict\n",
    "\n",
    "ordered_tfidf = dict()\n",
    "\n",
    "for tfidf in tfidf_list:\n",
    "    for word, value in tfidf.items():\n",
    "        if word in ordered_tfidf:\n",
    "            ordered_tfidf[word] += value\n",
    "        else:\n",
    "            ordered_tfidf[word] = value\n",
    "\n",
    "#ordered_tfidf\n",
    "ordered_tfidf = OrderedDict(sorted(ordered_tfidf.items(), key=lambda x: x[1], reverse=True))\n",
    "\n",
    "for word in ordered_tfidf.keys():\n",
    "    print(word, end=' ')"
   ]
  },
  {
   "cell_type": "code",
   "execution_count": 6,
   "metadata": {
    "colab": {
     "base_uri": "https://localhost:8080/",
     "height": 35
    },
    "colab_type": "code",
    "executionInfo": {
     "elapsed": 15,
     "status": "ok",
     "timestamp": 1586455663021,
     "user": {
      "displayName": "",
      "photoUrl": "",
      "userId": ""
     },
     "user_tz": 240
    },
    "id": "IJImAm8CaPuy",
    "outputId": "aac3b77e-2540-4f15-ed6d-61581199a35d"
   },
   "outputs": [
    {
     "name": "stdout",
     "output_type": "stream",
     "text": [
      "Image downloaded.\n"
     ]
    }
   ],
   "source": [
    "from IPython.display import clear_output\n",
    "\n",
    "%env IMG_CAPITOLIO=capitolio.jpg\n",
    "\n",
    "\n",
    "# download mask images\n",
    "#!wget http://media.cubadebate.cu/wp-content/gallery/la-habana-nocturna/app_la-habana_05.jpg -O la_hababa.jpg\n",
    "!wget https://upload.wikimedia.org/wikipedia/commons/8/8f/Capitolio_full.jpg -O $IMG_CAPITOLIO\n",
    "\n",
    "clear_output()\n",
    "print('Image downloaded.')"
   ]
  },
  {
   "cell_type": "code",
   "execution_count": 0,
   "metadata": {
    "colab": {},
    "colab_type": "code",
    "id": "gBHrq118aPvV"
   },
   "outputs": [],
   "source": [
    "import numpy as np\n",
    "import matplotlib.pyplot as plt\n",
    "%matplotlib inline\n",
    "\n",
    "import os\n",
    "from PIL import Image\n",
    "from wordcloud import WordCloud\n",
    "\n",
    "# Capitolio Habana\n",
    "IMG_CAPITOLIO = os.getenv(\"IMG_CAPITOLIO\") or \"capitolio.jpg\"\n",
    "IMG_WORDCLOUD = 'wordcloud_cubadebate.png'\n",
    "# Spacy Stop_Words\n",
    "STOP_WORDS = spacy.lang.es.stop_words.STOP_WORDS\n",
    "\n",
    "# get data directory (using getcwd() is needed to support running example in generated IPython notebook)\n",
    "_dir = os.path.dirname(__file__) if \"__file__\" in locals() else os.getcwd()\n",
    "\n",
    "\n",
    "# read the mask image\n",
    "# taken from\n",
    "_mask = np.array(Image.open(os.path.join(_dir, IMG_CAPITOLIO)))\n",
    "\n",
    "# Generate Word Cloud\n",
    "wordcloud = WordCloud(\n",
    "    max_words=1000,\n",
    "#     max_font_size=50,\n",
    "    height=1440,\n",
    "    width=2160,\n",
    "    background_color = 'white',\n",
    "    mask=_mask,\n",
    "    contour_width=1,\n",
    "    contour_color='steelblue',\n",
    "    stopwords = STOP_WORDS).generate_from_frequencies(ordered_tfidf)\n",
    "# Save to file\n",
    "wordcloud.to_file(IMG_WORDCLOUD)\n",
    "fig = plt.figure(\n",
    "    figsize = (22, 15),\n",
    "    )\n",
    "plt.imshow(wordcloud, interpolation = 'bilinear')\n",
    "plt.axis('off')\n",
    "plt.tight_layout(pad=0)\n",
    "plt.show()"
   ]
  },
  {
   "cell_type": "code",
   "execution_count": 8,
   "metadata": {
    "colab": {
     "base_uri": "https://localhost:8080/",
     "height": 35
    },
    "colab_type": "code",
    "executionInfo": {
     "elapsed": 694,
     "status": "ok",
     "timestamp": 1586455728094,
     "user": {
      "displayName": "",
      "photoUrl": "",
      "userId": ""
     },
     "user_tz": 240
    },
    "id": "Gs20IRy8cvpQ",
    "outputId": "5679775b-31cb-4ebf-9d47-cba6fa56c05c",
    "scrolled": true
   },
   "outputs": [
    {
     "name": "stdout",
     "output_type": "stream",
     "text": [
      "Exported image to html.\n"
     ]
    }
   ],
   "source": [
    "import base64\n",
    "\n",
    "data = ''\n",
    "with open(IMG_WORDCLOUD, 'rb') as file_img:\n",
    "    data = base64.b64encode(file_img.read()).decode('utf-8')\n",
    "\n",
    "img_str = '''\n",
    "<img width=\"100%\" height=\"100%\" \n",
    "src=\"data:image/png;base64,{}\" />\n",
    "'''.format(data)\n",
    "\n",
    "with open('wordcloud_cubadebate.html', 'w') as _html:\n",
    "    _html.write(img_str)\n",
    "\n",
    "print('Exported image to html.')"
   ]
  },
  {
   "cell_type": "code",
   "execution_count": 9,
   "metadata": {
    "colab": {
     "base_uri": "https://localhost:8080/",
     "height": 85
    },
    "colab_type": "code",
    "executionInfo": {
     "elapsed": 1992,
     "status": "ok",
     "timestamp": 1586455733126,
     "user": {
      "displayName": "",
      "photoUrl": "",
      "userId": ""
     },
     "user_tz": 240
    },
    "id": "gZSQOAIcEpgO",
    "outputId": "949f9feb-3042-4b04-fcb7-9c9347ddcde5"
   },
   "outputs": [
    {
     "name": "stdout",
     "output_type": "stream",
     "text": [
      "capitolio.jpg  sample_data  wordcloud_cubadebate.html  wordcloud_cubadebate.png\n"
     ]
    }
   ],
   "source": [
    "!ls"
   ]
  }
 ],
 "metadata": {
  "colab": {
   "collapsed_sections": [],
   "name": "CUBADEBATE_SPACY.ipynb",
   "provenance": [
    {
     "file_id": "https://github.com/oleksis/cubadebate/blob/master/CUBADEBATE_SPACY.ipynb",
     "timestamp": 1586455776456
    },
    {
     "file_id": "https://github.com/oleksis/cubadebate/blob/master/CUBADEBATE_SPACY.ipynb",
     "timestamp": 1586383118458
    },
    {
     "file_id": "https://github.com/oleksis/cubadebate/blob/master/CUBADEBATE_SPACY.ipynb",
     "timestamp": 1586377302982
    }
   ]
  },
  "kernelspec": {
   "display_name": "Python 3",
   "language": "python",
   "name": "python3"
  },
  "language_info": {
   "codemirror_mode": {
    "name": "ipython",
    "version": 3
   },
   "file_extension": ".py",
   "mimetype": "text/x-python",
   "name": "python",
   "nbconvert_exporter": "python",
   "pygments_lexer": "ipython3",
   "version": "3.7.1"
  }
 },
 "nbformat": 4,
 "nbformat_minor": 1
}
