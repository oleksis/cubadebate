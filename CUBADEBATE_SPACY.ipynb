{
 "cells": [
  {
   "cell_type": "code",
   "execution_count": 15,
   "metadata": {
    "colab": {
     "base_uri": "https://localhost:8080/",
     "height": 71
    },
    "colab_type": "code",
    "executionInfo": {
     "elapsed": 32,
     "status": "ok",
     "timestamp": 1586382793813,
     "user": {
      "displayName": "",
      "photoUrl": "",
      "userId": ""
     },
     "user_tz": 240
    },
    "id": "2uwNZ8LNlcXZ",
    "outputId": "d80f222f-f776-4b06-8c87-f7ff156b2d6f"
   },
   "outputs": [
    {
     "name": "stdout",
     "output_type": "stream",
     "text": [
      "WordCloud installed.\n",
      "Spacy es_core_news_model installed.\n",
      "Restart the runtime!\n"
     ]
    }
   ],
   "source": [
    "!pip install wordcloud\n",
    "!pip install spacy\n",
    "!python -m spacy download es_core_news_sm\n",
    "\n",
    "from IPython.display import clear_output\n",
    "clear_output()\n",
    "print('WordCloud installed.')\n",
    "print('Spacy es_core_news_model installed.\\nRestart the runtime!')"
   ]
  },
  {
   "cell_type": "markdown",
   "metadata": {
    "colab_type": "text",
    "id": "0Qi1yZ1EbYpQ"
   },
   "source": [
    "Go to Restart runtime..."
   ]
  },
  {
   "cell_type": "code",
   "execution_count": 1,
   "metadata": {
    "colab": {
     "base_uri": "https://localhost:8080/",
     "height": 35
    },
    "colab_type": "code",
    "executionInfo": {
     "elapsed": 2183,
     "status": "ok",
     "timestamp": 1586382810528,
     "user": {
      "displayName": "",
      "photoUrl": "",
      "userId": ""
     },
     "user_tz": 240
    },
    "id": "enR_SSI1lK7F",
    "outputId": "225a7d78-4ee1-4f90-8d27-61554e275d84"
   },
   "outputs": [
    {
     "name": "stdout",
     "output_type": "stream",
     "text": [
      "10\n"
     ]
    }
   ],
   "source": [
    "import time\n",
    "import json\n",
    "import requests\n",
    "\n",
    "\n",
    "CUBADEBATE_API = \"http://www.cubadebate.cu/wp-json/wp/v2/\"\n",
    "COMMENTS_ENDPOINT = CUBADEBATE_API + \"comments/\"\n",
    "\n",
    "session = requests.Session()\n",
    "\n",
    "def get_comments_json(page=1):\n",
    "    params = {\"page\": str(page)}\n",
    "    \n",
    "    with session:\n",
    "        time.sleep(1)\n",
    "        response = session.get(COMMENTS_ENDPOINT,\n",
    "                               params=params)\n",
    "        if response.status_code == 200:\n",
    "            return response.json()\n",
    "        \n",
    "comments_list = get_comments_json()\n",
    "print(len(comments_list))\n",
    "#comments_list"
   ]
  },
  {
   "cell_type": "code",
   "execution_count": 2,
   "metadata": {
    "colab": {
     "base_uri": "https://localhost:8080/",
     "height": 35
    },
    "colab_type": "code",
    "executionInfo": {
     "elapsed": 14383,
     "status": "ok",
     "timestamp": 1586382829082,
     "user": {
      "displayName": "",
      "photoUrl": "",
      "userId": ""
     },
     "user_tz": 240
    },
    "id": "HPjBOXPMlK7w",
    "outputId": "1f312c56-4e55-44b2-983c-d6dcc46be92a"
   },
   "outputs": [
    {
     "name": "stdout",
     "output_type": "stream",
     "text": [
      "1000\n"
     ]
    }
   ],
   "source": [
    "from concurrent.futures import ThreadPoolExecutor\n",
    "\n",
    "NUM_PAGES=100\n",
    "\n",
    "with ThreadPoolExecutor() as executor:\n",
    "    results = executor.map(get_comments_json, range(1,NUM_PAGES+1))\n",
    "    comments_list = list(results)\n",
    "    \n",
    "documents = [comment.get('content').get('rendered')\n",
    "          for comments in comments_list\n",
    "          for comment in comments if not comment is None]\n",
    "        \n",
    "print(len(documents))\n",
    "#documents"
   ]
  },
  {
   "cell_type": "code",
   "execution_count": 3,
   "metadata": {
    "colab": {
     "base_uri": "https://localhost:8080/",
     "height": 35
    },
    "colab_type": "code",
    "executionInfo": {
     "elapsed": 18800,
     "status": "ok",
     "timestamp": 1586382860716,
     "user": {
      "displayName": "",
      "photoUrl": "",
      "userId": ""
     },
     "user_tz": 240
    },
    "id": "b4r5kXdGlK8r",
    "outputId": "0da0cfc7-7f56-466b-deb0-3da4a9d14cdd",
    "scrolled": true
   },
   "outputs": [
    {
     "name": "stdout",
     "output_type": "stream",
     "text": [
      "Documents normalized\n"
     ]
    }
   ],
   "source": [
    "import re\n",
    "import spacy\n",
    "\n",
    "# Load model\n",
    "nlp = spacy.load('es_core_news_sm')\n",
    "\n",
    "def get_text(markup):\n",
    "    \"\"\"Remove html tags and spaces using regexp\"\"\"\n",
    "    text = re.sub(r'<.*?>', '', markup)\n",
    "    text = re.sub('\\s+', ' ', text)\n",
    "    return text.strip()\n",
    "\n",
    "def clean(doc):\n",
    "    \"\"\"Remove stopwords, the punctuations and normalize the corpus.\"\"\"\n",
    "\n",
    "    def is_token_allowed(token):\n",
    "      if (not token or not token.string.strip() or\n",
    "          token.is_stop or token.is_punct):\n",
    "        return False\n",
    "      return True\n",
    "\n",
    "    def preprocess_token(token):\n",
    "      return token.lemma_.strip().lower()\n",
    "\n",
    "    text = get_text(doc)\n",
    "    tokens = [preprocess_token(word) for word in nlp(text)\n",
    "              if is_token_allowed(word) and len(word) > 2]\n",
    "    normalized = \" \".join(word for word in tokens)\n",
    "    return normalized\n",
    "    \n",
    "\n",
    "documents_normalized = [clean(doc).split() for doc in documents]\n",
    "#documents_normalized\n",
    "print('Documents normalized')\n"
   ]
  },
  {
   "cell_type": "code",
   "execution_count": 4,
   "metadata": {
    "colab": {
     "base_uri": "https://localhost:8080/",
     "height": 35
    },
    "colab_type": "code",
    "executionInfo": {
     "elapsed": 588,
     "status": "ok",
     "timestamp": 1586382863116,
     "user": {
      "displayName": "",
      "photoUrl": "",
      "userId": ""
     },
     "user_tz": 240
    },
    "id": "1Dce5BcYlK88",
    "outputId": "8d9c21a0-74e2-4b9b-e8fc-49eca38a2ebe",
    "scrolled": true
   },
   "outputs": [
    {
     "name": "stdout",
     "output_type": "stream",
     "text": [
      "TF-IDF comments list\n"
     ]
    }
   ],
   "source": [
    "import math\n",
    "from collections import Counter\n",
    "\n",
    "\n",
    "def comment_tf_dict(document):\n",
    "    bow = Counter(document)\n",
    "    tf_dict = dict()\n",
    "    \n",
    "    for k, v in bow.most_common():\n",
    "        tf_dict[k] = v / len(document)\n",
    "    \n",
    "    return tf_dict\n",
    "\n",
    "def comments_tf_dict(documents):\n",
    "    return [comment_tf_dict(comment)\n",
    "            for comment in documents]\n",
    "\n",
    "def count_dict(documents):\n",
    "    counts = dict()\n",
    "    for document in documents:\n",
    "        uniq_words = set(document)\n",
    "        for word in uniq_words:\n",
    "            value = counts.get(word, 0)\n",
    "            counts[word] = value + 1\n",
    "    return counts\n",
    "\n",
    "def idf_dict(documents):\n",
    "    idf_dict = dict()\n",
    "    \n",
    "    counts = count_dict(documents)\n",
    "    \n",
    "    for word in counts:\n",
    "        idf_dict[word] = math.log(len(documents) / counts[word])\n",
    "    \n",
    "    return idf_dict\n",
    "\n",
    "def comments_tfidf_dict(documents):\n",
    "    tfidf_comments = []\n",
    "    \n",
    "    idf_comments = idf_dict(documents)\n",
    "    \n",
    "    def compute_tfidf_comment(document):\n",
    "        tfidf_comment = dict()\n",
    "        \n",
    "        tf_comment = comment_tf_dict(document)\n",
    "        \n",
    "        for word in set(document):\n",
    "            tfidf_comment[word] = tf_comment[word] * idf_comments[word]\n",
    "        \n",
    "        return tfidf_comment\n",
    "    \n",
    "    for comment in documents:\n",
    "        tfidf_comments.append(compute_tfidf_comment(comment))\n",
    "    \n",
    "    \n",
    "    return tfidf_comments\n",
    "\n",
    "\n",
    "tfidf_list = comments_tfidf_dict(documents_normalized)\n",
    "#tfidf_list\n",
    "print('TF-IDF comments list')"
   ]
  },
  {
   "cell_type": "code",
   "execution_count": 5,
   "metadata": {
    "colab": {
     "base_uri": "https://localhost:8080/",
     "height": 115
    },
    "colab_type": "code",
    "executionInfo": {
     "elapsed": 1430,
     "status": "ok",
     "timestamp": 1586382871577,
     "user": {
      "displayName": "",
      "photoUrl": "",
      "userId": ""
     },
     "user_tz": 240
    },
    "id": "1W3S2crllK9M",
    "outputId": "3a35d03e-ecd1-4560-b273-e063222ce087",
    "scrolled": true
   },
   "outputs": [
    {
     "name": "stdout",
     "output_type": "stream",
     "text": [
      "cuba gracias caso dios cubano poblar país personar casar totalmente salud gracia ley medir salir información ingresar favor médico positivo entender deber mundo poner doctor tomar seguir confirmar bendecir covid-19 paciente unir contagiar china cuidar contacto fidel pandemia durán morir gobernar pasar valiente año ayudar ver municipio excelente merecer pesar respetar virus orgulloso historia necesitar recuperar estar esperar informar viva situación fuerza provincia cuidense joven felicidades vivir solidaridad tener vida donación jajaja aplauso momento paso cumplir pensar probar gente alguien apoyar yusi hombre poder leer tiempo evacuar nasobuco casa familia alto precioso personal enfermedad negativo población callar hacer grande pueblo falto hablar caer necesario habana presidente humanidad comentario querer cola cuarentena formar niño rápido isla duro sancionar jugar dudar gestar llegar dar preguntar tarea riesgo contactar aplicar prueba publicar síntoma labor saludos volver edad foto combatir nacer decir cantidad hora ciudadano fallecer guerra tanto sentir importante palabra fuente disminución desear saber robar problema coronavirus trabajar estadístico revolución artículo preocupar duran forzar juventud presentar wikipedia quédese imagen unidos humanar mantener frente aclarar disciplinar crítico mano enfermar humano autoridad esforzar luchar playa seguro informarnos familiar coser respeto realmente interesar encontrar gustar noticiar inhumano dejar batallar resultar hermano sistema poncheros mujer comprar medio aumentar social nombre fallecido rigor agradecer enseñar dato saludo realizar gerardo aislamiento prensar transmitir felicidad informacion diario venir trump bello bravo reportar gobierno correa pedir test mejorar conocer bonito demostrar compañero cualquiera existir concienciar cerrar recurso juicio inteligente sabina quedase poncho gera ñooo.esto calle equivocar curar abrazar conferenciar cifrar odiar perder vestir minsap blanco abril lograrlo pcr ojalá hola medicos servicio pesquisar quisiera resumir cubana especificar haber explicación respuesta colmenita recordar esperanzar boyero fase derecho amor cuidate quedar entrar salvaguardar máximo dignar disponer hospital llamar penar vecino jefe realidad crecer escuchar fuerte datar héroe trabajador establecer cadena semana ganar señor difícil local picar tocar controlar lucrar covid quesada llevar mil importar cuidarnos accionar particular tienda bloquear abajo diagnóstico acabar suceder ideo delito descansar orden barrio diariamente evitar serio tipo líder bendición número exponer amigo medicamento infestar claro continuar enfrentar intervención sociedad valer pienso paises responsabilidad producto homeopatía detalle oro real aparecer control ejemplarizante castigar chino dirección opinión maldad incubación confiar comandante criticar preocupación ecuador delincuente comenzar agradecimiento arribar imperio masón enemigo económico admirar culpable salvar proteger .felicidades guardar actuar infectar sueño celeste mario inescrupuloso noto hecho malo dificil medicinar explicar pánico estudiante buscar olvidar nombrar quedo restar mayoría muestra hermanar revolucionaria espero posibilidad coger cubanos eeuu nacional abrir servir sanitario kit cooperar peligrar juzgar animal superándote congreso ortografiar extremista soldado cubavence findelcovid cubasalva bravoooo azul alacrán ppr iii-3 imperial matanazas efectivamente descrgar teleclases ejemplar castigo situacion medicar cuello tarde recuperacion severo cargar maravilloso bendiga mapa corregir actitud escribir ojo precisar parecer reportaje programar oportuno referenciar sencillo tratar faltar rato mundial felicitar público localidad triste nasobucos porqué mostrar exactamente patrio exitos actual propagación natural publiquen ser mayor protección internet vender enfermero material noche mesar obligar contar honrar razón vivo miedo correcto colectivo c^2 batir político recibir aislar gravar 100 pagar cansar alimento sospechoso solidario investigar manir pedacito cambiar mes enfermo comer éxitos patria temer bloqueo consejo significar dinero necesidad detectar círculo fallece muchacho diferenciar permitir divulgarse percepción organización confianza mirar conducta epidemia seria ir repetir vía indicación seriar licenciar ladrón lograr rapido venezuela punto andar vigilancia estudio sintomas adelantar preocupante felicitaciones contagio detener quédate valorar boyeros millón revolucion error imprescindible colega articular hijo orgullo prevenir acumular cubadebate creer carlos perdón infección parar grave preparar corazón delincuencia esposo referir experiencia virtual aprender sacar pico justicia caracterizar responsable enviar deberia ventana habano disparar inventar desarrollar huella hermandad viajero profesional vencer admirable porq librar españa sentenciar genocida junto comunidad crombet habian fallir aportar enterar cdr inglés traidor paginar ladron ponchero arriesgar incluir sobrecogedoras escudar debería carta triángulo mijo desglozado solicitud disculpar escalofriante timar excellent one morar jaja guapo doblemente rené postmorten explicaron apretaron ñooo palauso área darse terrible salvo relación jovenes norte redar quedate grupo único marzo orientar saludar oración normalmente imaginar debemos masivo suerte nivel comportar revolucionario continuidad pobre coincido destinar rafael television habernos manuel defender lamentable dolor victoria adquirir periodista terminar cumpleaños gratuito evento entregar ciudad irresponsable sujetar 1201 director estudiar causar surgir italia caminar verlo lugar -pron- personas indisciplinar soldar padre interesante evolución alcanzar estimar subir brindar santo cruel eliminar incrementar principal acercar acto atención poblacion compatriota garantizar increíble zona cabeza ecuatoriano tierno suficiente usar internacionalista menor mandar ministerio imagino anteriormente meter regresa jigante nuevamente evidentemente excepcional estimado verdadero universidad estadounidense caro publicación sanción dañar identificar edificio justar nose revisar emplear lenin respaldar cumpliendo imposible encantar tela especialista sugerir muerte futuro barbería peluquería acompañar bienestar cuadro gas cuidarlo teléfono rico pertenecer humanismo regar esencia sumar ocurrir muchísimas colaboración éxito respiratorio honor perpetuo debatir cesar madre paz impunidad tragedia verguenza asumir obligatorio considerar mañana asear maestro razonar organizar cerro circunstancia extremo osar pando descordar té policlínico filo continuidad.al haiga correspondencia vacuno sirvenguenzura decapitar idea yo.comparto .(cuidemos ëxitos empezemos aprendio superacion tocaya aleluya -mambises -este -eutelia tireis tiket reside definir transmision endemicos relatar asuma estara hagase regresar centrar matanzas distanciar cuídate actualizar inmediatez lamentar osmel inmenso portador dedicar clara moreno preciso felicitación suponer covid_19 llenar canal allá provenir consecuencia increible experto condicionar cuidarse arduo mínimo sector dicha demorar voluntad quito amar celebrar individuo marcar militar santa dignidad quitar recuerda castro interior bajo primario sano sacrificio deuda seguridad heroico superficial costa pecar sangrar colaborar ánimo lavar compartir descubrir peligroso drástico espaciar orientación contemplación bueno partir economía defensa convencer agotar puro prevención cuidadano gráfico sencillamente riesgoso acudir pinar relevar recompensar gigante encerrar esperamos mascarilla gratitud transparencia comentar criminal sol complicación ejército contrarevolucion diverso soñar penal denigrante ponerse venceremos atender higiénico infestación darles demas decirse hechos guerrillero pollo laborar aplaudir transportar aprovechar educar amigar misericordia quedarse socialismo justificación sincerar disminuir riqueza igualdad lamentablemente ajeno matar gibar sensibilizar ofertar preventivo alarmar admiración pie satisfacción cloro actualidad primo heroina añito sombrero quicieran micion signo reclama infectación parasitos microbios,(coronavirus alianet luchador inrespondables cunar voleibol ortografia clase únicamente emocionante bless god ponchao cansancio escuela perdonar asombrar coherente veracidad existente internacionalismo galeno destacar bandera tarjeta correr sorprender matrimoniar avanzar 1000 infantil prevengho desconocer agente especulación residente divulgar 000 propagacion valioso holguin bella darle valientes cumplimiento llevarse cuestión esconder vih fallar deberían responder complejidad alma enfrentamiento siquiera incapacidad nación raúl interminable barbar arder claramente plenamente opción solucionar aplausos razon valentía centro lectura carrera seguiremos dedicación obrar unidad independencia exterior obediencia díaz inocente tames utilizar notable darme ultimar limitar crisis afecto gota tapar poderoso relacionar equipar internacional apreciar remediar posible uhmmm rica credibilidad agravante diagnosticar epidemiologica fácil completo propongo flojo policía función estadisticas epidémico paloma consultorio durar aceitar justificar continuo luz fila belleza eterno cuidese desconocido propagar tratamiento sospechar empresa homeopático cero evaluación tenerse rodar lleno etecsa cobrar vendedor autorizar cárdenas francisco torres pinarena sencilla legua alvaro collar muchisimas major insigne deportista no. dandoles ronco imaginate ninos bateria desesperante acuerdate moderador sinvergüenza perpetua aislados nombres averguencen síii 9:00pm asintomatica pos trancaos señora catastrófico tópico sonava cuba!gracias che cerquita acostumbrar falcón majistral alonso randy palomas lisa?,porque las.pruebas llegaron agradar mensual cilindrar cárcel informativo correctamente usarlo solicitar completar desmentir procedimiento renovarse asiatico pronto privar norteamericano extranjero seriedad representar letra expresar recuperación atrapar prestar percatar libre provincias aclaración distinto union mangar traer certificar periodo san exigir pasaje tienes fernando recomiendo difusión aconsejar pequeño peso multar tasar científico mente sembrar brillar unico comunitario canel rusia superar rendir legar 5202 especial damos ejercitar firme colgar municipios observar arrepentirse matanza pendiente imagenes dedo complicar devenir profundar precio comprender jovellanos cuidador corto investigación alternarlo república similar asiático fundamental región indicar aglomeración sabio lacrar redondo práctico 5234 tirar semejante traicion trimestre saldar santiago patriota esfuerzo enorme divisar ganador capitalismo solucion debian etcétera limitación facilitar aguar esten padecer interactuar erradicar abastecimiento atenderse incertidumbre curvo freír fatal sufrir lujo específicamente amistad panico infectados publica iniciativa fallecidos loable investigativo lleváselos dile intencionado considerarse periodístico divagar 1456 puebloy lenín refrán así: letal respeten infeccion determinarse loco esquizofrénico maduro muchísimo inculto .el indisciplinado.¿a abiertamente súpercelosos today russia tigresa demostración página autopsia 24/48h parir facilidad asombroso rafaeldebevolver100 cristian oler uuuffff remojar quemao equipamiento vietnamita puideramos capacitar par proeza dictaminar presión hipertenso reconocer saldremos tono necesito cuídense sentimiento numerar eua lógico césar ampliar determinar egoísmo educativo coronel insensibilidad desempeñar pretender producir oficial claridad argentino amenazar beneficiar límite tremendo clamar aliar incondicional oportunista tierra dirigente operación cuidadanos compasión potenciar músico brotar feliz vocación tranquilidad mentira actuación funcionar velar hogar confiamos linear salariar llevadero consciente curarse afrontar epidemica humanitario complejo transmisión lastimar martínez provincial familiarizar crimen profesión sumir flor hacerlos basar quedarnos ameno contener posterior campar alertar cometer deberian amplio contrario proponer fallecimiento covid19 respirar judicial ocultar trabajo presenciar directo reflejar agotamiento condolencia transparentar primar fortalecer seran abrazo revendedor revender bajar echar debia desastre recoger vídeo exbecarios pais.q excepcionar infectacion maneraaa salga queeee 320confirmsdos desolacion colaboracion recojiendo 4000 preso basura pónganle mary merecia valiosísimo sorprenderan grafica defraudar arrogante garantir técnicamente seguimos 9.pm maestría.jóvenes aparición cooperación casos alegría biblia paño tibio iniciativo tunas insumo gobernador plantear organismo pérdida guayaquil descartar planeta siguen dictar considero sobrepasar ideal amistar oculto ipk debidamente indispensable capaz mar popular guagua agravar limpieza asedio importancia crear viral sumarísimo blancas batas europa caber descripción .orgullosa vivan enfermeria envidios sugerencia narrarla divugarla principo naturaleza completamente dióxido habitante sumo básico humanos exhortar psicológico indigno detallar pesquisaje doblar pesadilla politica decorar desgraciar rabiar avenir tradicional minimizar humilde dió consumir atacar martí criterio gritar esclarecer homenaje alegrar mensaje informático luis guardia activar guantánamo justo 500 ojalar penoso corresponder imponer falso miren consagración partido presto temor riguroso estupidos asesino mártir contarnos homicida pésame diciembre extricta mad ponerle converso ivermectina quedarseencasa#aplausos#fuerzacuba alluda cerrarlo celestes aplusos eternos cubaaaa gratuitamente inmensossss deje coprolalia conozca nacimiento persons debastador mandemos podrà animo detenernos responsavilidad violador otorgamiento emitir provocar instante común proteinas regular directamente visitar epidemiológico permanecer negociar agresión muerto insensible ilustrar consistente orland internar policia actuan intérprete fiscalía fecho merece portar señores medidas querido vínculo extender administración entidad presentador fortaleza violación someter extensivo jose esclarecedor tenia distinción decretar malhechor concientes quédense detergente correspondiente somoscuba positiva energía curando recuperaras desea necesitamos autocuarentena estrictamente traicionar fascista mérito existencia york recaer involucrar mamá ojala maravillar ee.uu apellidar hermoso hallazgo desempleo firmar televisar libreta cienfuegos materia desaparecer acorde origen triunfar estatal estrés ciento cielo espíritu lunes primero bondad vir gustaria costar venta contaminar noticiero clavar vidas armar 3×5 impares- multiplicación parentesis dígito interferir veo quiera meritoria arriesgada fatuo historias enaltecer debían buenísimo arrestar valiosa mambí condicones acusiosa excecpcionales condolencias baño crnel captar sustituto severa ejemplificante exagerar juventud?y asintomática?.estoy noches.¿qué indefendible ampliamente divulgue h.p escarmiento necedarios edte liberarlo vulnerabilidad acogiéndose acuda .desde embajador pondra yconoce tranquilamente futurro tergiversar sustituir suministrarse .vir .se irregular quedare orgullosa apoyaramos diste explicarme andorra dense contagioso disminuído 387 agradable bellísima -china electricidad licuar calificar dantescas presidente.siempre confianza.y salud.y pueblo.es presente.para hermana.todos egoísta crónico balcón héroes ciego avila laboratorio extremar maxima poderío sitiar resto pronóstico maldito trinchero artemisa romper principiar líneo américa convertir antonio abusadores relajar legal diseñar pedirle previsor himno atravesar físico carnicero afectar puerta anticuerpo aire asintomático capacidad empañar aspecto optimismo funcionario ocupese montar dígase podra drásticas pan 5x4 rio aislarse dominar obstaculizar opinar desglosar fiel reciente atento dejarse gobernantes pato condenar conversar carne seamos pueblos perico podia escoger escenario aeropuerto directivo fechorias escrupulos coccienca escandalizar pureza involucionista holocausto genético fios irresponsablemente c5n investigacion laa ayudarnos oara entendio código prevee ondra spts bien‍ tienes.toda balerosa previlejiado .grasias ciempre tolerante intolerable italya fasil mrjor asomar estaría quería sinobtsmbuen continuamente trasmisión waooooo online notificar terminal cuídese prosa admirador confinamiento agradezco aclararse constancia precidente eliminarlo correar indiscutible freire tardo realizarse examen confirmatorio taladri postearlo twitter proporcionar unicas cárdenaz ángeli coraje plasmar cobertura elegir electoral poquito noción minuto precisamente metro conclusión wuhan protocolar granma realización propósito ramón implicar acceder reservar absoluto firmes sancti mencionar clínico crueldad interno capital politico dormir frenar desplazarse rescatar catástrofe alejar integración suministrar celular victorioso recibe exigente pnr ejemplo partícula hacerse gotero innumerable mercar perdido abusar higiene garcía sacrificar mexicano desastroso federal añadir vulnerable genuino encargar compromiso conseguir stone ciclon saberlo doy nariz manejar azotar foco detractor invitar conocimiento bandido mientra espantoso cubita instinto contribuir factor direccion manipular tes hobligatoriamente realizarce 14dias devoto vaticano caño virtud surgen escrupuloso nunca.y miseria ejemplarmente volcar ganarse proclive admiracion pasaria méndez malnacido regalandolos sist desgastarnos lea elmouse pasarle impresiciones estadostica 6404 sumarse 1202 5203 curentena hiso tranmicion ejercito exsitio nesesario aislamienro nitratar desayunar continuación denso dispositivo fijo traficar valiéndose drogar aleatorio patron projimo dulzura sembrador parecen alumno interrogar ángeles ratero insoportable mosquito oscurecer cobit-9 típico zoo gato virus.dos autoridades.solo descarar jabon carretilleros tiempos seguirlo solidiradidad coincidir tanzania batabano discapacitado ambulancia cariño desvelar reciban miembro desacreditar evidente volar arroz conformar latinoamericano convertirse río nasabuco vergüenza lección efectivo secar aplicarse tratarse gozar dejen condición capitalista millones programacion procesar bodega camaguey vitalidad dosis aca viciar ciencia listo dirigir superficie inmediato certero comprobar altruismo roble década bárbaro aforar bebé 3343 1887 uci protegernos vieja garganta nudo adonde adoptar engañar largo censar suelto profesionalidad quedateencasa planteamiento pido doctorar quiero guanabacoa mantiene satisfactorio notar naranjo retomemos documental latinoamericanista pongámoslos firmamento proesa apalausos helle kosan marino sos sobreprecio has concientizan cambiárselo plancharlo ponerlo relavable reusarlo constar africa secuestrar emrrgencia persuasivo demostrarles inclinar turista descrédito patinar hata esquinar cuento cantera malditos piedra grillete locutoe ciertamente especialidad asintomática aguantar ayudaria virtuales modalidad avileño pasearse pork escrito entrañable participar serial audivisiales historico resonar chovinismo podremos comunismo liderar comunista producción confusión plaza símbolo sumario severidad leso viajar esposar histórico laboral industriar relacion drasticas tornar recurrir coronar consultar cordial tiendas figurar hable 1051 respetuoso peor sufrimiento centavo béisbol vocero apl desgraciadamente propiciar tolerar derrotar generosidad oliver explícito mover tos holguín gastar mercancía cárnico resolver lidiar tender invencible protegido canción trasmitir muchisimo frontero igm manzanillero principio final reporte alegre hembra varón tratarlos tajetas comunicarlo imagínate kiero .según ayúdenme cuidemos tejido independentista lazo orque confía entrega trasmite palabras srenidad espera valvaridad tomarian rubiera 24x7 subsistir escucharle agradecidos sobreinforme manténgase conducción muchisímo gone hágalo cuidemoslo yeni carmen infestarse clinica vigorizarse lawton cualidad pesadilla.asy piense denis covid19,lobque cárdeno colón infectarme chantaje traia cargamento avión doantivo aterrizar paracaidas humorista facundo exacto cuerpo empezar precaucionar sábado 2020 modesto gravedad cuenta decirte alimentar bancario beneficio estupidez raul diez asustar contagiarse actividad iniciar céspedes municipal carencia vergonzoso ministros norma referente cubo caldo rolando algun chocar molestar noble reunión turno cargo aceptar brigada tranquilo circular errar bayamo domingo lavarse infinito tensión túnel fracasar salvador normal bastar disperso gusano bloquearnos mayar iva incapaz verdaderamente genocidio mandato esperemos confrontar inescrupolosas veamos sr. sabran costumbre herniar excelenté alcánzaron memoria igg crucero arribo caos infinitas espectacular demàs resulta salud.¡coño estratégico nombramiento intituciones oido tierra.i organizacion impulsar pegdo comunicar morador joel agropecuario informan preocupa preocuparse defendieron defendiendo humanista tantos supo galenos muestran martì hombres estén covid19,lo ,no rendiran armonia nuncan bancos cumpleaño superpoblacion martus teoria tendra enjuiciarlos piñera considerable septiembre economia disminucion gigantesco jlui sur oportunidad cortico profesar terapia pronunciar impedir viernes televisivo acuidir controlodos tomemos conjuntar oiga arroyar pegar habilitar magnitud reparto papel simplemente resguardar daño territorio preciar proyectar igualmente españolar drone dron salar d=4 cientificos inmunidad voz abogar acá máquina posición global multas decirlo colapsar identidad puerto abandonar colaborador prácticamente medicina quedense inedita pesquizaje redonda hatiempoganamostiempo cuarenteeeenaaaaa calentador fugitivo feo clausurar ofender correo guardao practicar culpar masa reafirmar ccuba auge recibi resaltar total negocii coleros bolsa mochila negocio granito exito uncica agran explicitar rodeo domar respectivo aplicarle esforzandose compensar acatamiento ordenamiento tratemos cederistas descomposición quinto miserable magnifica ribete premura misión cuñado .podrian explixacion liuva.pero cuiden.hay favor.gracias abrazarnos unirnos gratis cocer cooperacion morgue auxilio cadáver connacionales hora!!????que tarde?eso va!!!eso devemos permanente satisfacer salivar pleno preferir acusar limpiar madrugar extremadamente auxiliar carro sitio predecir burlar adolescente anterior machete inicial empeñar hugo ciudadana clarita resistir vemos fábrica cortar transitar acerar generación gibara finalidad profesor objetivar tabla aislarnos transportista solución inquietud coterraneos contraer esencial engranaje lubricar autonomía mal titánico 12mo gradar archivo embarazar usted.el rueda pdf mail xiomara zhou wang español enviarte obteneris dinámico precedente llagar entrañar sinonimo incansablemente implementación antipodas ideologias plataforma prometido tuvieron desventaja temprano hubei previo salvarvida feuucmvc juventudcubana batasblancascibanas covit-19 hipertensos infecto diabéticos sicológicamente malintencionado alarmante enfermándose detenidamente roxy inculco sumen inciativa serviles mantendremos complementar propistas maveric epd relevantes pronuncien personalidades resistiremos injusto ceder mantienen presiones inconsciente elisa indignación almacenar comunicación componer llamarlo mtc finalmente distancia depender fuertemente bicicleta finar fidedigno departamento mezclar impotencia flotar distanciamiento quedarme indudablemente loynaz análisis insistir viejo aprox ofrecer acaso emergencia gloria emocionar fundador advertir codo alimentación fijar congraciarse desmontaron gobieno usándolo anacrónico ensayar derrochar transpolar patriotismo vigencia periódico contagiados apresurar amigos construcción finalizar enriquecerse bandidaje severamente inminente alemán 1994 kalcker entrevistar andreas transfusión cientifico beber inaudito montón fiesta observación ested perfecto compasivo reprimirse sacion competente comparsa ejemplriarizantes marco rubio delicia perteneciente juan herma .por rus invicto rondar 11:00 brindarle familion viejuco objetivo comprensión insituciones declarar bus cafetería aparecido rptos alarmarnos cobate insencibilidad desamor aeso nombra siiiiiiiii ecepcion negociación silencio preludiar desafinar sudor permutar espesar gotear altísimo vítor ocasionar espacio priorizar utilización vietnam colmar certeza equivocación noticia requerir prudencia hueco enfocar trasladar antecedente popularidad desviar enormemente defecto dificultad denunciar doloroso robo hacerle promediar urgente indicaciones inteligencia ministro convenir amanecer socavar inolvidable resistencia condenarlo fabricacen contrusion apostar polic vedado repetitivo nache crese dejarlos digera impune 256 2048 256x8 asusta 32x8 caña perro mear profundamente impactar fallo imágenes éso estrategica palante remojo\"y refrán:\"cuando cibano ubiese concientisan .de porciento pasado.se madidas poblaciòn asmatica cronica .¿que liberarla frigolifico asmaticos catastrofe economicos legalidad irrespetar jurídico uds cartel religión hagamoslo consientizado infectandose entendido irresposables credo índole doler 3 caiga mantenerse lágrima horrible búsqueda sinceramente televisión supermercado psr proteccion digno preferiblemente libertar lindo equipo ntv siglo prever vehículo generar visión descontrol planchar jajsja naso palomita nuevo.así buco peruano alemania gárgara siguiente,¿es garganta.mi alojar cineasta iran predidente sensatez lunático prepotente nicaragua abusador peluquerias analizar barberias cliente obvio alarma pasando percepcion execelente inmunodeprimimos facil huracan presas informativa cristianos orar rama estupendo bienvenido girar brusco apoyarte concluciones debilidad cansarnos influenciar convocatorio graficando jorge herir salvadoras maltratada cargadas dejan moleste auto pegatina exigiendoles omnibus alcfanzar ratas sinó desmadrar viveremos kiosco 48h suspensión vuelo consciencia elevar significativamente opino invaluable asechar valeroso ¨americano¨. despertar quedarle neurona superfluo hojas zorro acatar laurel pompeo menelao excepcion pence provecho dividir constituir secretario sucio automáticamente imperialismo pretexto león pelo adecuar pedro expresarse variante mantenernos tumulto llorar ruz ilegalidad aisle eam consecuentemente fortuna continuarán lumpen tomamos filones delincuentes revendedores azota hayando escacez enfermedades vagos personages nelson racionamiento preocupacion incapies sintoma encomiable trasmision reportarse meterle tildar radical leve inspiró apoyando palmas paciencia imagínense programa cañas obra mejias fuese pepe restringir anticipar propagandose arreciar limpiarlas puefe vandalismo de.lo 2019 háganle protestar traición pitiyanqui útil manera levita transformar oxigenadores multiplicar anónimo fama moler moda govierno pisar del.pueblo lancalle tranmites importantemente hab oarte reflexionar banal juntar paralelo insípido sra atrasar adela taron capáz desenmascarar ela ofensivo adjetivar sujeto aprovecharse sabiduría sobrevivir lado cerdo brecha deceso discursar especialmente spot xxi profe esclarecimiento decidir poblacional golpear flagelar plantearse morirse modelo ojetivo besitos hermosa historiador arenar emerger grano la.misma apalauso agradecerles gobierde basica canasta recorrio rapidos exposicion igg. brasil maximos salarial garantias patología sobrar pandemia)es dificultades(bloqueo 1868 angela .quisiera .leonardo organisada habran siboney ganancia multimillonario retornar evaporar poseedor tablero ahq ejercicio encontar sopar mediar posiblemente dispersión junio precoz progresivo com nhuetra opniones mesquina trotar muchísima dura linda difísil triunfo ganada encabezada proceres marti laso deshumanización facilmente cegar preliminar categoría flujo calcular convocar individual 13= 3-la fórmula covid19= ds= i)- polígono iii- 2-poligono +6=9 ii)-suponiendo recto -boca diagonal 5=7 1-rectángulo x&lt +14= ira un= rectángulo dp= 25=2 lm= 4=6 abuelo residenciar academia reconocimiento derechos relevante baire firmeza bendiciones manchar química colmo politiquería elecciones pura monstruo socios clinton hilary disfrazar antiguos supervisar drastico emergente produccion atencion vente ada tando pesquisador gases guns desidia mago hombro angel emoción verte alexander líbranos locura desafuero develar acoger eterna ricardo canela direccionar eslabonar saltar programación habitual cultura artista 0905 icrtv televidente montrar desprevenido seriamente recambiar lazaro latente hernandez jueves catalizador didáctico impreciso minima hagan destruir oms impartir innecesariamente despreocupación ciclar proliferar toser agudo citar juez discurso reforzar brutal combatiente ropa pineros cuyo separación reluciente presidencia florecer altuismo desgobernar arbitrario decadencia quebrar constituirse kovalik apoyo optar declaración expresión sublingual orador muchisima viga insignificante paja pantalla temporada rubi ciclonica dominio darnos respétese brazo alticimas indiciplinas deambular liuva pp94 discutir sarcasmo fundamebnta asdemas malograr derrocarnos distar caído leo merese presencia mesas legado ejersito elcompañero duelale llanamente .ante pesele corrupcion asqueroso desgastar creanlo acaparamiento agredir 1er apropiar referirme corazon escrúpulo boca aplicación pangolín escamar transmisor pedazo simbolizar encender salvarse super época besar onu gozoso ubiera 32año irtesponsable pir sancion imbolucrados rebajar evaluar aflojar preferentemente multipresencia tendríamos firmemente fusilamiento balazo fusilar medite lolo testigo quinta nucleos revisarse hipoclorito trasladarse alimentacion renglón liz @cubadebate rumorar forodebate preguntarlas próximo vrus indiciplinado elena covertido maría mata emigrar extraño decisión espulsar oxígeno 350casos .yo arriesganfome contajiarme deceo e.u manifiesto oír batalla demostrado conocen horrores alertas descriptivo incitar desobediencia.déjenlo ocupar mercado demo bola inculcar preservar ejercer vicenteaz carecer general registrar venezolano fake joseph news objeto fuerzas gestión gobernante mortal protegerse cricis saino fmi direigenntes rayar ppolitica cumulacion desmontaje prestamista logica llamarlas despresiable condenable arduamente consternación santafe kejas cursar antinatural iente corroborar artificial barbarie erudicción civilización ascenso progresar llamr autoaislo haberla corea sostener necesite cierre poli cigarros muertos bebidas miles alcholicas cientos permitan borrachos hayan calles matasones mehor parques batallón apoyarnos elemento dime indocumentado coño indigente dollares específico cancion mukltplicar validar multiplicarlas novelar confío penosamente indagar donal piensa seres recursos sábes 24/3 anciano distribución large escolar divertir técnico mojar chance amo teclado enviarla.muchisimas diciendo.gracias .disculpen.por redactar nuevamente.esto liuba.y personas.cuando envio favor.rectifico ros videoclip vfx expediente mtss concretar díaz_canel confundir empleemos barrer representación escuchando término dia11 período procedente ratificar precisión llama desestimar matemáticos sst cuidadana espec o),tantos probiema seguirnos desagradable negar educación órgano guerrero ausentar policlinica entiendo fomentar desinformación entendible pudrir economico concuerdo mamey lider emergera analista estrategia recorrer ignorante reclamar aliviar infringir agotador taller biológico beisbol combinación aspirar ídolo inicio urquiola dedicarme disfrutar estrellar roilan lindar cuemto encimar chequera equieren almanaque ehoy arrimar ele devolver panfilo lñucrar comunicador ministerios posteriormente soportar pertinente covid-20 deverian seña veriones horror ias informcion obviar logicas movilizacion economicas foristas indiscutiblemente paralizacion posibildades logistica areas cadete pipa google abuelitos mental quezada insistencia escribirla publicarla podernos insinua perjudicar felicito farsante abusivo magnificos remotante prudente profundidad describir institución policiales campesino plan intenso convicción obtener desesperar apartar trd jusgar infierno aprobar jusgados supervivencia aglomerar negativa ende concluyente agradeceria robarnos invadir nesecitamos aser escrupulo corason digo???como justica adis azar dilucidar prohibición repudiable ves contactátame leerlo aclararle vuelve asesorar catar sars.cov-2 anterioridad enfermedade ningun preocupese vencera hastya ojal bolqueo dela sisten aplicarla probable palito asalariar consejos frase imitar talento imitación prevalecer irresponsables pudieran repetición etc trabajadores alrededor penitenciario virgen interes suficientemente universo indebido mira menester ocular globo frecuentemente 170 mucoso cientificamente veraz nanòmetros enteto.y humano.haciendole respeto.a moral 10000 131.551 alcanzarse metedura mayúsculo pre nohe duración descanzar honorable repatriación rendirle honorar excelso remembranza definitivo colofón azaroso trotat oralmente traducir madres texto atrás saludable confiarnos divisas tranquilizar recaudadoras policial arbitrariedad rol requerírsele jueguen agresivamente sumamente díos auque presitente desvio ect emvolsillan despistar asir marbesacion vito cooperativo sospecha.ojo envejecimiento 2.8 taza personaje meñique henry reeve comportamiento imperdonable desvios benebolos vias industrial golpe mortifero estricto magistral autóctono famoso contexto puedes honestar cuestionar efecto jabón microbiologos diferente; desfilar tranquilito documentales vivencia poniéndole asignar probablemte respetarles merecen dificultar pudrirse mncpios ejecutar cercanía periodica interés aviones recibida aérea insumos envían impone transportación equipos colabora nacionales pudiera lapiz mirarsela orbe alerta 40na escóndete aposento desinfecten isaías guardarnos 26:20 obediente cierra entra confien panorama extrañar cunita libertad olor anar pensan culminar redoblar tocayo comunicamos sumado diambulan necesaria cantactos mandados enfermos conocemos agueridos enfermeras contagiadas gana buscaremos ahorrar poquitico atravesamos donativo recomer hambre abanicar excepción innecesario victimar neoliberalismo enriquecer productivo inyectar finaciero billete corriente recesión latinoamérica infraestructura concepto radiar bien conocido lengua violar asunto forista choferes simple obligación 9:00 rebelde losar generalizar magdiel radio extensión cursivo https://dle.rae.es/dron aeronave española plural tripular rae drones ingl comillas dada reflejo diccionario destacarla pronunciación pcr(reacción polivalente orientacion cespedes intensivo realizarle polimerasa semos dica recaudador criminales reconocimento politizar contrarrevolucionario increibles compartimos pino esconderlo salvación donar implemento dichoso represivo desmoronar paréntesis p=16 u=21 siguiente aritmético arza i=8 parapensadores c=3 prof. repetirlos 8)/19 prado n=14 néstor 22= operador utilizarlas l=12 320 suma acorrarlar digase irnos respiracion inmunoensayo reconociminto cigb sobrecargar cim areosoles paquete paramédico esfera estornudar carmelo pública inclusive acción siera veneno aconjandome desembarcar despidio tocandole fanguito haciendose hatuey fraguas eficiente malechores chico alusión supongo desconcertar erudito rolo confiable alzar saludables merito sociedad.por gladiador fuertes incriminar oponer platicar irrigar cuestion carnero productor dedicarle puerco reelegir heterogéneo honraria desencantar andrés fielmente maceo unirme govin conteo aparecezca cuba(incluido a.m especie latina retequedifundidas leernos enfermedaf asesinos pidrian -19 mercenarios ángulo mambises nuesyros corrupción salario dañino zamora oria amargo agregar demasiados barbaridad estilar mediodía alza atribular americans ombligo tempo frenarlo meseta coordinación pulular cajero banco tocarse senador demócrata elección conjugar cuota depresión presidencial republicano derivar cuomo sólido prestigiar televisor simepre misil mídanse elijan siento tonto panadero panaderia pérez inspección verlos insensato borracho establecimiento seguramente nervio naris absurdo insisto naval derrocar busto seguirse emisión indicador adaptarse supervision serlo delictivo historial repugnante repudiables ecuanimidad farmacéutico controlarla concientizado tomarlas sólos covic-19 actitid canalla canso solidadridad adversidad complementario urbe servicios insuficiencia publicarse tranten totalidad envejecer confíen 300 enfrentarnos rogar evolucionar muestreo salvoconducto carneses rotación policlínicos fidelista descuidarnos enérgico cívico empatía súper mslechores afear candonga mentar viruta curvar espárrago caja publícame capturar país.gracias cintura inflexible dependencia denigrar inocencia lisandra rodríguez caibarién dra linares facebook imágen ternura agromercados caney circunferencia carnicería sirope galleta redactarla inforación valoración imprimirla 11,00 levantarse promoción ventaja informarse fijarse calixto hidalgo discriminar méxico cidad cabecera precensia rpto publico repartos iglesias civil esmerar gonzalez instructivo alentador inspiración rene enorgullecer camagueyana goloria estratega meritorio mesa incentivo mantenimiento rendimiento comunales talar agrícola centenario resultan ploretarios mayo unios americano farmacia pro negro avisar profundizar etapa cálculo lanzar boto bombo leche polvo jornada espalda importarle testaferro propiedad apatidras arrastrar incumplir rotular conducir replantearse taxi estelar previamente hermético menesteres climatizar vehículos especializados periódistico problemático tenemos¨ ¨compartir incongruencia saqué algodón conclusiones.el pregonar oídos)ambos esto.gracias am.de pulmón feriar monedar cajita aplicador donden camino curitas destruirnos apagar superior múltiple filosofía rincón enfrentarlos aunq 5to quejar icrt constitucional invisible mariano realizador fechoría uña levantar marineros instituto nueve escapar pesquidaje analisis tenerla util comodidad manifestar ámbito covid-19,no red concernir próspero duele videos incompete crudo garcia churre mugre administrador lodo ejecutivo operativo fuerzacuba desinfectar policlinico morning post south lavarnos interiorisa muchicimos altamente tenerlo contaminante llevastes imposibilidad sentar secretar guante emsume campaña hipocresía apertura iglesia gay mentalidad plegaria oscuro usen -un identificarlos encuestar epecial italiana- estudiarlos vigilarlos nacionalidad inmutable brimart acercándose seco frecuencia 9:10 volviéndose intervenir 22- despreocupadamente de15× equidad vale chiquito cuadrar permanentemente tube abajar retirándose narrar serían declararme cambiarse paladar telón trámite reparación anormal abnegado inestimable concentrarse automóvil vivienda puntual moto acceso tendencia implementar especulador estrago irán hoja sobrecumplo cuidarla dirijí tabaco desigualdad prioridad oligarca creciente aspiración eficacia exortar vision cercano defunción epidemico dara interactivo hipertensión diabetes ¨luis suprarrenal allende arterial soto¨. mellitus presenta nieto oficina calidad instantáneo wue ifea medioevo estuvieramos obtuso pelele aplicacion hospitalizar movimiento decisivo drasticos lentitud 1200 anunciar confeccionar lejía foro triple exceso infoxicación inmediatamente estadistícas proveedor desorden tomografía evidenciar 205 realizarme debutar cervical posponer fehacientemente resonancia renombre eventualidad difundir asegurarse colosal pulverizar individualmente ennuestro pierden jamar internamente .gracias poblacio atajar descarados sufro porfa sensuren chama despreciable robándole normalidad ausencia urge impresionante casualmente ilegalmente fútbol disciplinario soler william altahabana inexpugnable perpetrar deshonrar irle presente europeo sus.dirigente la.cabeza llanto ñoño imaginarmelo miami difamar tubiera juzgarlo ano fisicamente vigente heredero honroso vencerá fragmento 100000 duplicar avalancha priorizaron cama seleccionar sobretodo autoridades sesto tendero justificacion videos.bueno proposito orientaciones pozuelo prevencion comptar hola.desde moderar tanto.si minutar pue nutrir 44.a comentario.que intercambiar tiempo.¿?imposible comentario.más acertadas.que ron papar camilo regañar habituar cumplidor haberse soltarlos cómodo cercar jamonada solapin comprometer descuidar adicional reiterar 20000 senciblemente especiales latino vacío queratina recordarles herradura medicinal cabellar brebaje asmático recetar murciélago reumático desfavorable escribo azotea criar irresponsabilidad adónde uniformar sábana murar coexistir magnífico manta trozar pañuelo desconocimiento lector enfermería estérilizacion moraleja malsano impieza sesientan estimular custodiar descargar agresivo aute grabar negocito farmacias tíenen alegrias juridico internacionales despreciar interaccion correccion personalidad celulas vice eticos opinion isri relaciones heroes excarcelacion oxigenar comerciar varadero lod educacional alla fijemonos aula decian debieramos oor desicion enrolar recomendable pasarme alamar priemer precencia 1230 coherencia 1450 11:30am altura afilado bárcena cepal socio estrecho conocedor epimidiologo direcciones suero ueb establecimientos asmaticas diabetis sitostaticos empresas algúnos tod@s dorar nicoya temblar médicos basto carroña apellido publicarlo condicional corona pasesitos comisores públicamente potencial apátrida mencionarse caminos infractor difenden silenciar asesinar profanador desconfianza frecuentar cisterna incorporar medica pesquiza recordandole 11y situation sabado irresistible april aguas activo abastar comparación 3/04 fabuloso pacientes(ni 6/04 presiciones instruir villa madrid consideración masacrar flagelo grandeza qque consonancia sabiduria unira persive adquisión olimpia alimenticio tarjetón facilitarle gastos innecesarios carretero evitarle cardenas complicaciones cierren colon concentrar protegiéndose quedese pena sentencias benévolo haga pase ilusamente privación extra reducir leyes 295,porque escaso incisivo criticón rectificar comparativo nomas detectivesco subconsciente motivar pilar soto diaz agrabo diferrir numeros hara evolucion remedios cobre adentrar pedirles ética escasez ambientar quirurgicos partícuas envien simplemte penetrar impode filtro polcía porfavor musical central amparo fosar entierro contención ignoran piedad ejempmo blasfemar comunero infeliz autora conjurar eternizar setenta tropical 764 188 6403 139 kourí 201 7167 225 1169 234 649 asumo relacionadas lavadero disponible retar pandemico rodo particularmente cultivar apoderar candidatura ayudarse dicho mutuamente inevitable desinteresadamente tristeza reportero magnatarios omitir sagua autópsia táctico sitios pasivo equitativo núcleo chequear puesta indirectamente asociar prestígio catalogar precepto ciencias palo demos teniendo disparatar villas embarquen enemigos usando inservible física válidos argumentos estafas vertir vayan superchería sensación mentir chicago lightfoot alcaldesa sorpresa libro cuartel acunar rellenar dudadds buscador .nombres guerrear estela prominente mambo tesoro pedestal audiovisual neroes moncada mambís despierto infundado economica narcotráfico yanqui externo adhesión deslocalización cocar botín pretextar déficit acusación duque cáncer inacabable internos 2023 1990 formación institucionalizar neural alternativo unani cubrir 2005 1999 india 2014 yoga naturopatía 1998 complementaria ayurveda fitoterapia asuntos suiza documentar klv antroposófica siddha oficialmente decena apurar pregunto característico prinero visual conocerlo locutor constante personalmente barrera eco arroyo destino proceder inestabilidad regir fragilidad lennon the will codiciar and perpetuidad pechar asegurarnos world parejo todo.ponerlo días.eso fotos.esto puden promocionar desinfestante echarlo cuidarnos!!!!!gracias regresar.el ayuda.menos todos.poner calle.es asfaltar zapato familia.desinfestar largas.al cepillarse llegien quitarse casas.por nada.vayan casa.pues público.cuando lavar.lavarse quitarselo rebien encantaria efectivo.bañarse casa.pero dientes.entonces jabón.eso .hoy quiciera enfacis .un globa acuartelar reincorporarse prohibir el.servicio intentar prrsentar rstado domiciliar tenian abreunir hau terminos sobrino ivan amtes nobhan contradecir hacian p.n.r. rabeiro toca becerra bolivariano teórico fondo caribe comisión aplanar minint comercial obscure alsa volveremos claudicar decision hermanos viento fusión apretar patrona pronto!! tiende montana religion generosa yemaya angelo inmencidad rincon pecho toro barcaso amas,\"rubén darío acompañe fundirnos abismo perseccion creencia regalar prototipo protector élite .los verdad humana.y palpar marketing mayorias originario pena.venceremos proyecto dejarnos contradicción ficción irreal vivimos.y 2.0 obrero publicidad formular toledo muere filipinas distacia primordial mueren maximas hospitales risgo asociación conbate doctores contamiranse cebar inventario cadenita suministro apululu agarrarlos peluquero sobornar tatuador botellones chapistero mecánico termómetro ruperto contraloría tamaño quirúrgico agarrar cassette cantar violaciones pongan alargar persona 1,5 cómplice abuelita calmarla papá aniversario delgado teatro pablo tío bajito participación 200 envidioso reina camerino asma ocasión incorrecto enpañan verbal supeficies traerlo prender craso recio asociándolo sexual atentar tristemente persistir micropartícula desproporcionar negligencia envía ideas piensan vivimos importa comprenderás globalizado teque bloqueado ésto temperatura penetrarlos contagiarnos retener transmicion pausadamente gafo aceleradamente capar favorecer acelerar transportarlas asinados indirecto fenómeno comercio salón agudizar supongamos económica urbanista bienvenida indecencia guapería informé hacinamiento constatar emprender radiografiar rocío insolidario actor guiteras individualismo repartir coladera ético covid-19,un sucesivamente patrullar antisocial reunir implantar frenarles metido 1:00 12:00am babero 5:00pm 20,por zaida hata- delegar chivas interiorizado 2:00 puesto hacerles pobreza fidelia desvergonzadamente nacido reparar humanitaria animar patologias preguntaria cup encontra anbulantes obtenerlo tarjeton ana venderlos polulan sacarle plagar cirugias aúnque ancho raza afroestadounidenses aventurar daya móvil critiquemos cuestionamiento histeria vacación perspectivo ordenador maleta placer miguel hospitalarias cov-2 italiano noches sito fumador miastenia versar instituciones tribunales ambos inveterado estancia lléguele unidades sars populares intensivistas 2do margen deprimir nevar sobresaturarse conectarme alterar decirles estresa melena camagüey alba versión composición enfrentándose estructurar enfrentarla cogera comparecencia afortunado mincin ministra dificultarse efpnfermedad asistencia pensarse normarlo créanme cogi cuestionadores vianda pandemiapuede entristecer camión nevera regano cumplio keyboad/ esperitual comunicacion padecimiento necio lejania tuviesemos profesionalmente mejoria umbral /disculpen manifestacion entranas preocuparme determinacion uun culpabilidad desenlazar eistir egoistas contactossss humanamente recontradicho posicion ehimen contriccion disposición llevarles telefono elemental allegar dano equis salud/ refran epandiendo hubiesemos retorcerle parecernos redacción consiguiente coeficiente modelajes promover desafiar ingeniería ingeniero conociéndose depositar extralimitar movilidad entretanto regresión surtir favorable subliminal deseable covi19 apasionar bailar espectáculo anécdota permiso reyes policía).todo título campo cake baile intensar creador risa complacer integrar piñata barbosa recuerdo música bailarina pensarlo amante juego juegos tumbadoras variar gozadera canciones caravana rosa regalarle colmenero grupito sueco adalberto maravillosamente difícilmente aquilatar discutible escalar engañoso incendiar corporación afilar hostil impredecible prensa incendiarse consumar dimensión denominar autoritario propaganda aprecio avizorar cernir legitimar elementar donald latitud apoderarse deducir intento autor importantísimos norteño novedoso nye gravísimo unidas videoconferencia enterrar caribeño manufacturar obstante -1.8 financiero alicia incluye continente ochenta 2008 clave impacto chile turismo centrarse 1,000 paliar regional mecanismo recuperarse decrecimiento migrante recalcar honduras naciones regionalizar 30,000 exportación aglomeraciones militares infectado clientes sana termendo separacion expuestos entiende pelotón planteado explicarle parque continuen hubiese policías agua método administradores concreto afuera tomate?hay colas conten amontonar mercadito mantenga nasobujo manteniendo reiteradas zigzag disciplina focos metros argumentar organos esté estirar multa inncesariamente peligro dirigen galiano obispo tropas hagamos asintomätico saldrá conla éticamente ayudarlo combate escuelas atraviesa integrador pobres tendría digo latinos cueva compromete formados pluma recuperará puedan recuperes ysomos entretienen escena imagínatelo segimos empujando conocimientos podrás prepararon mmás jubilada dejamos agoviaré confíe salvando vendiendo economias comprando somo interrupción empujar cambien diferencia pacientes corresponde política paísis alertado pìes perttenece anannesis economistas interrogatorio dándote universitario profundizas constribuir recién bala cuides martiana apunta recuperarás asignaturas diga cariños iñiguez vlaiente asediado respetos used falta arma preparándose añejo abrumador brote cuartar agenciar etnia elk comisionar detroit metrópolis empleo milwaukee inspector allison lori históricamente arwady preexistente condiciones tránsito orleans oeste autobús geográficamente recopilar michigan representante ordenar abordar prometer activista despidado disparidad camajuaní ranchuelo cifuentes sibanicú bauta banes palma spiritus jagüey contramaestre ciro maya trinidad morón nuevitas miramar marianao vertientes cabaiguán cumanayagua baños taguasco mariel coco soriano positivos 106 padrón pasajeros placetas guanajai majibacoa songo- octubre cotorro 350 florida cristóbal 186 viñales güira lajas freyre encrucijada fecha recogida cayo güines consolación http://www sierpe lisa florencia mayabeque 05/04/2020 spíritus reportados guisa baraguá jiguaní aguada cauto manzanillo regla cubadebate.cu informaciones majagua esmeralda caibarén cruces estremecer bingo conocerla peter autoría toros genio emblemático mirarlos sugerente significativo gusto niñez eugenia recobrar alevosía audiovisula sánchez formato mojándolo tranzar arrancar abundar fuer triunfador silvio enamorar panfleto cabalgar tomás crédito raro simbolos presentación iberomericanas coincidencia concertar celebración borrar capítulo sonar pasarlas sabía conocí alberti enigmático sorprendernos eduardo impresionar imán noventa conservar plástico sangre invitación digital infinidad anda dear concierto rosas leyenda poema "
     ]
    }
   ],
   "source": [
    "from collections import OrderedDict\n",
    "\n",
    "ordered_tfidf = dict()\n",
    "\n",
    "for tfidf in tfidf_list:\n",
    "    for word, value in tfidf.items():\n",
    "        if word in ordered_tfidf:\n",
    "            ordered_tfidf[word] += value\n",
    "        else:\n",
    "            ordered_tfidf[word] = value\n",
    "\n",
    "#ordered_tfidf\n",
    "ordered_tfidf = OrderedDict(sorted(ordered_tfidf.items(), key=lambda x: x[1], reverse=True))\n",
    "\n",
    "for word in ordered_tfidf.keys():\n",
    "    print(word, end=' ')"
   ]
  },
  {
   "cell_type": "code",
   "execution_count": 6,
   "metadata": {
    "colab": {
     "base_uri": "https://localhost:8080/",
     "height": 35
    },
    "colab_type": "code",
    "executionInfo": {
     "elapsed": 14,
     "status": "ok",
     "timestamp": 1586382879953,
     "user": {
      "displayName": "",
      "photoUrl": "",
      "userId": ""
     },
     "user_tz": 240
    },
    "id": "IJImAm8CaPuy",
    "outputId": "215d705b-dcf2-474f-de71-52980e07b18f"
   },
   "outputs": [
    {
     "name": "stdout",
     "output_type": "stream",
     "text": [
      "Image downloaded.\n"
     ]
    }
   ],
   "source": [
    "from IPython.display import clear_output\n",
    "\n",
    "%env IMG_CAPITOLIO=capitolio.jpg\n",
    "\n",
    "\n",
    "# download mask images\n",
    "#!wget http://media.cubadebate.cu/wp-content/gallery/la-habana-nocturna/app_la-habana_05.jpg -O la_hababa.jpg\n",
    "!wget https://upload.wikimedia.org/wikipedia/commons/8/8f/Capitolio_full.jpg -O $IMG_CAPITOLIO\n",
    "\n",
    "clear_output()\n",
    "print('Image downloaded.')"
   ]
  },
  {
   "cell_type": "code",
   "execution_count": null,
   "metadata": {
    "colab": {
     "base_uri": "https://localhost:8080/",
     "height": 412
    },
    "colab_type": "code",
    "executionInfo": {
     "elapsed": 45025,
     "status": "ok",
     "timestamp": 1586382934644,
     "user": {
      "displayName": "",
      "photoUrl": "",
      "userId": ""
     },
     "user_tz": 240
    },
    "id": "gBHrq118aPvV",
    "outputId": "4805638c-8358-4bd7-f8c8-e0c8c5c5c8f1"
   },
   "outputs": [],
   "source": [
    "import numpy as np\n",
    "import matplotlib.pyplot as plt\n",
    "%matplotlib inline\n",
    "\n",
    "import os\n",
    "from PIL import Image\n",
    "from wordcloud import WordCloud\n",
    "\n",
    "# Capitolio Habana\n",
    "IMG_CAPITOLIO = os.getenv(\"IMG_CAPITOLIO\") or \"capitolio.jpg\"\n",
    "IMG_WORDCLOUD = 'wordcloud_cubadebate.png'\n",
    "# Spacy Stop_Words\n",
    "STOP_WORDS = spacy.lang.es.stop_words.STOP_WORDS\n",
    "\n",
    "# get data directory (using getcwd() is needed to support running example in generated IPython notebook)\n",
    "_dir = os.path.dirname(__file__) if \"__file__\" in locals() else os.getcwd()\n",
    "\n",
    "\n",
    "# read the mask image\n",
    "# taken from\n",
    "_mask = np.array(Image.open(os.path.join(_dir, IMG_CAPITOLIO)))\n",
    "\n",
    "# Generate Word Cloud\n",
    "wordcloud = WordCloud(\n",
    "    max_words=1000,\n",
    "#     max_font_size=50,\n",
    "    height=1440,\n",
    "    width=2160,\n",
    "    background_color = 'white',\n",
    "    mask=_mask,\n",
    "    contour_width=1,\n",
    "    contour_color='steelblue',\n",
    "    stopwords = STOP_WORDS).generate_from_frequencies(ordered_tfidf)\n",
    "# Save to file\n",
    "wordcloud.to_file(IMG_WORDCLOUD)\n",
    "fig = plt.figure(\n",
    "    figsize = (22, 15),\n",
    "    )\n",
    "plt.imshow(wordcloud, interpolation = 'bilinear')\n",
    "plt.axis('off')\n",
    "plt.tight_layout(pad=0)\n",
    "plt.show()"
   ]
  },
  {
   "cell_type": "code",
   "execution_count": 8,
   "metadata": {
    "colab": {
     "base_uri": "https://localhost:8080/",
     "height": 35
    },
    "colab_type": "code",
    "executionInfo": {
     "elapsed": 702,
     "status": "ok",
     "timestamp": 1586382946715,
     "user": {
      "displayName": "",
      "photoUrl": "",
      "userId": ""
     },
     "user_tz": 240
    },
    "id": "Gs20IRy8cvpQ",
    "outputId": "e335ddfc-c30d-44d7-ddc7-8426aa86a5b2",
    "scrolled": true
   },
   "outputs": [
    {
     "name": "stdout",
     "output_type": "stream",
     "text": [
      "Exported image to html.\n"
     ]
    }
   ],
   "source": [
    "import base64\n",
    "\n",
    "data = ''\n",
    "with open(IMG_WORDCLOUD, 'rb') as file_img:\n",
    "    data = base64.b64encode(file_img.read()).decode('utf-8')\n",
    "\n",
    "img_str = '''\n",
    "<image width=\"100%\" height=\"100%\" \n",
    "src=\"data:image/png;base64,{}\" />\n",
    "'''.format(data)\n",
    "\n",
    "with open('wordcloud_cubadebate.html', 'w') as _html:\n",
    "    _html.write(img_str)\n",
    "\n",
    "print('Exported image to html.')"
   ]
  },
  {
   "cell_type": "code",
   "execution_count": 9,
   "metadata": {
    "colab": {
     "base_uri": "https://localhost:8080/",
     "height": 85
    },
    "colab_type": "code",
    "executionInfo": {
     "elapsed": 1659,
     "status": "ok",
     "timestamp": 1586382958718,
     "user": {
      "displayName": "",
      "photoUrl": "",
      "userId": ""
     },
     "user_tz": 240
    },
    "id": "gZSQOAIcEpgO",
    "outputId": "397ad243-74d0-43f4-a8f8-3808ebdef86d"
   },
   "outputs": [
    {
     "name": "stdout",
     "output_type": "stream",
     "text": [
      "capitolio.jpg  sample_data  wordcloud_cubadebate.html  wordcloud_cubadebate.png\n"
     ]
    }
   ],
   "source": [
    "!ls"
   ]
  }
 ],
 "metadata": {
  "colab": {
   "collapsed_sections": [],
   "name": "CUBADEBATE_SPACY.ipynb",
   "provenance": [
    {
     "file_id": "https://github.com/oleksis/cubadebate/blob/master/CUBADEBATE_SPACY.ipynb",
     "timestamp": 1586383118458
    },
    {
     "file_id": "https://github.com/oleksis/cubadebate/blob/master/CUBADEBATE_SPACY.ipynb",
     "timestamp": 1586377302982
    }
   ]
  },
  "kernelspec": {
   "display_name": "Python 3",
   "language": "python",
   "name": "python3"
  },
  "language_info": {
   "codemirror_mode": {
    "name": "ipython",
    "version": 3
   },
   "file_extension": ".py",
   "mimetype": "text/x-python",
   "name": "python",
   "nbconvert_exporter": "python",
   "pygments_lexer": "ipython3",
   "version": "3.7.1"
  }
 },
 "nbformat": 4,
 "nbformat_minor": 1
}
