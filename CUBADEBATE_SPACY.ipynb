{
 "cells": [
  {
   "cell_type": "code",
   "execution_count": 0,
   "metadata": {
    "colab": {
     "base_uri": "https://localhost:8080/",
     "height": 71
    },
    "colab_type": "code",
    "executionInfo": {
     "elapsed": 28,
     "status": "ok",
     "timestamp": 1586291658700,
     "user": {
      "displayName": "Oleksis Fraga Menéndez",
      "photoUrl": "https://lh3.googleusercontent.com/a-/AOh14GiEmDLfULCv0yBjSUJLJKaOti8gZ3IJDywwW5fHNA=s64",
      "userId": "10446488296499554506"
     },
     "user_tz": 240
    },
    "id": "2uwNZ8LNlcXZ",
    "outputId": "8551d615-949d-41a8-a3d1-ba6743be1541"
   },
   "outputs": [
    {
     "name": "stdout",
     "output_type": "stream",
     "text": [
      "WordCloud installed.\n",
      "Spacy es_core_news_model installed.\n",
      "Restart the runtime!\n"
     ]
    }
   ],
   "source": [
    "!pip install wordcloud\n",
    "!pip install spacy\n",
    "!python -m spacy download es_core_news_sm\n",
    "\n",
    "from IPython.display import clear_output\n",
    "clear_output()\n",
    "print('WordCloud installed.')\n",
    "print('Spacy es_core_news_model installed.\\nRestart the runtime!')"
   ]
  },
  {
   "cell_type": "markdown",
   "metadata": {
    "colab_type": "text",
    "id": "0Qi1yZ1EbYpQ"
   },
   "source": [
    "Go to Restart runtime..."
   ]
  },
  {
   "cell_type": "code",
   "execution_count": 0,
   "metadata": {
    "colab": {
     "base_uri": "https://localhost:8080/",
     "height": 35
    },
    "colab_type": "code",
    "executionInfo": {
     "elapsed": 2649,
     "status": "ok",
     "timestamp": 1586287059225,
     "user": {
      "displayName": "Oleksis Fraga Menéndez",
      "photoUrl": "https://lh3.googleusercontent.com/a-/AOh14GiEmDLfULCv0yBjSUJLJKaOti8gZ3IJDywwW5fHNA=s64",
      "userId": "10446488296499554506"
     },
     "user_tz": 240
    },
    "id": "enR_SSI1lK7F",
    "outputId": "3d5b889e-ece9-4976-f13e-5e2d43bb9a2a"
   },
   "outputs": [
    {
     "name": "stdout",
     "output_type": "stream",
     "text": [
      "10\n"
     ]
    }
   ],
   "source": [
    "import time\n",
    "import json\n",
    "import requests\n",
    "\n",
    "\n",
    "CUBADEBATE_API = \"http://www.cubadebate.cu/wp-json/wp/v2/\"\n",
    "COMMENTS_ENDPOINT = CUBADEBATE_API + \"comments/\"\n",
    "\n",
    "session = requests.Session()\n",
    "\n",
    "def get_comments_json(page=1):\n",
    "    params = {\"page\": str(page)}\n",
    "    \n",
    "    with session:\n",
    "        time.sleep(1)\n",
    "        response = session.get(COMMENTS_ENDPOINT,\n",
    "                               params=params)\n",
    "        if response.status_code == 200:\n",
    "            return response.json()\n",
    "        \n",
    "comments_list = get_comments_json()\n",
    "print(len(comments_list))\n",
    "#comments_list"
   ]
  },
  {
   "cell_type": "code",
   "execution_count": 4,
   "metadata": {
    "colab": {
     "base_uri": "https://localhost:8080/",
     "height": 35
    },
    "colab_type": "code",
    "executionInfo": {
     "elapsed": 12066,
     "status": "ok",
     "timestamp": 1586377029196,
     "user": {
      "displayName": "",
      "photoUrl": "",
      "userId": ""
     },
     "user_tz": 240
    },
    "id": "HPjBOXPMlK7w",
    "outputId": "1567b20f-85b9-43a2-db5a-2032d18ae904"
   },
   "outputs": [
    {
     "name": "stdout",
     "output_type": "stream",
     "text": [
      "1000\n"
     ]
    }
   ],
   "source": [
    "from concurrent.futures import ThreadPoolExecutor\n",
    "\n",
    "NUM_PAGES=100\n",
    "\n",
    "with ThreadPoolExecutor() as executor:\n",
    "    results = executor.map(get_comments_json, range(1,NUM_PAGES+1))\n",
    "    comments_list = list(results)\n",
    "    \n",
    "documents = [comment.get('content').get('rendered')\n",
    "          for comments in comments_list\n",
    "          for comment in comments if not comment is None]\n",
    "        \n",
    "print(len(documents))\n",
    "#documents"
   ]
  },
  {
   "cell_type": "code",
   "execution_count": 5,
   "metadata": {
    "colab": {
     "base_uri": "https://localhost:8080/",
     "height": 35
    },
    "colab_type": "code",
    "executionInfo": {
     "elapsed": 19743,
     "status": "ok",
     "timestamp": 1586377056914,
     "user": {
      "displayName": "",
      "photoUrl": "",
      "userId": ""
     },
     "user_tz": 240
    },
    "id": "b4r5kXdGlK8r",
    "outputId": "d45b28b9-a5be-4dd9-e59a-cf3e4402a224",
    "scrolled": true
   },
   "outputs": [
    {
     "name": "stdout",
     "output_type": "stream",
     "text": [
      "Documents normalized\n"
     ]
    }
   ],
   "source": [
    "import re\n",
    "import spacy\n",
    "\n",
    "# Load model\n",
    "nlp = spacy.load('es_core_news_sm')\n",
    "\n",
    "def get_text(markup):\n",
    "    \"\"\"Remove html tags and spaces using regexp\"\"\"\n",
    "    text = re.sub(r'<.*?>', '', markup)\n",
    "    text = re.sub('\\s+', ' ', text)\n",
    "    return text.strip()\n",
    "\n",
    "def clean(doc):\n",
    "    \"\"\"Remove stopwords, the punctuations and normalize the corpus.\"\"\"\n",
    "\n",
    "    def is_token_allowed(token):\n",
    "      if (not token or not token.string.strip() or\n",
    "          token.is_stop or token.is_punct):\n",
    "        return False\n",
    "      return True\n",
    "\n",
    "    def preprocess_token(token):\n",
    "      return token.lemma_.strip().lower()\n",
    "\n",
    "    text = get_text(doc)\n",
    "    tokens = [preprocess_token(word) for word in nlp(text)\n",
    "              if is_token_allowed(word) and len(word) > 2]\n",
    "    normalized = \" \".join(word for word in tokens)\n",
    "    return normalized\n",
    "    \n",
    "\n",
    "documents_normalized = [clean(doc).split() for doc in documents]\n",
    "#documents_normalized\n",
    "print('Documents normalized')\n"
   ]
  },
  {
   "cell_type": "code",
   "execution_count": 6,
   "metadata": {
    "colab": {
     "base_uri": "https://localhost:8080/",
     "height": 35
    },
    "colab_type": "code",
    "executionInfo": {
     "elapsed": 795,
     "status": "ok",
     "timestamp": 1586377060223,
     "user": {
      "displayName": "",
      "photoUrl": "",
      "userId": ""
     },
     "user_tz": 240
    },
    "id": "1Dce5BcYlK88",
    "outputId": "d4028e8f-9e71-4458-acd8-704c3f27ff1f",
    "scrolled": true
   },
   "outputs": [
    {
     "name": "stdout",
     "output_type": "stream",
     "text": [
      "TF-IDF comments list\n"
     ]
    }
   ],
   "source": [
    "import math\n",
    "from collections import Counter\n",
    "\n",
    "\n",
    "def comment_tf_dict(document):\n",
    "    bow = Counter(document)\n",
    "    tf_dict = dict()\n",
    "    \n",
    "    for k, v in bow.most_common():\n",
    "        tf_dict[k] = v / len(document)\n",
    "    \n",
    "    return tf_dict\n",
    "\n",
    "def comments_tf_dict(documents):\n",
    "    return [comment_tf_dict(comment)\n",
    "            for comment in documents]\n",
    "\n",
    "def count_dict(documents):\n",
    "    counts = dict()\n",
    "    for document in documents:\n",
    "        uniq_words = set(document)\n",
    "        for word in uniq_words:\n",
    "            value = counts.get(word, 0)\n",
    "            counts[word] = value + 1\n",
    "    return counts\n",
    "\n",
    "def idf_dict(documents):\n",
    "    idf_dict = dict()\n",
    "    \n",
    "    counts = count_dict(documents)\n",
    "    \n",
    "    for word in counts:\n",
    "        idf_dict[word] = math.log(len(documents) / counts[word])\n",
    "    \n",
    "    return idf_dict\n",
    "\n",
    "def comments_tfidf_dict(documents):\n",
    "    tfidf_comments = []\n",
    "    \n",
    "    idf_comments = idf_dict(documents)\n",
    "    \n",
    "    def compute_tfidf_comment(document):\n",
    "        tfidf_comment = dict()\n",
    "        \n",
    "        tf_comment = comment_tf_dict(document)\n",
    "        \n",
    "        for word in set(document):\n",
    "            tfidf_comment[word] = tf_comment[word] * idf_comments[word]\n",
    "        \n",
    "        return tfidf_comment\n",
    "    \n",
    "    for comment in documents:\n",
    "        tfidf_comments.append(compute_tfidf_comment(comment))\n",
    "    \n",
    "    \n",
    "    return tfidf_comments\n",
    "\n",
    "\n",
    "tfidf_list = comments_tfidf_dict(documents_normalized)\n",
    "#tfidf_list\n",
    "print('TF-IDF comments list')"
   ]
  },
  {
   "cell_type": "code",
   "execution_count": 7,
   "metadata": {
    "colab": {
     "base_uri": "https://localhost:8080/",
     "height": 75
    },
    "colab_type": "code",
    "executionInfo": {
     "elapsed": 1412,
     "status": "ok",
     "timestamp": 1586377066139,
     "user": {
      "displayName": "",
      "photoUrl": "",
      "userId": ""
     },
     "user_tz": 240
    },
    "id": "1W3S2crllK9M",
    "outputId": "34418c04-0c01-4dc8-bca1-31c640f74d46",
    "scrolled": true
   },
   "outputs": [
    {
     "name": "stdout",
     "output_type": "stream",
     "text": [
      "caso provincia noticiar gracias municipio personar favor medir cuba construcción poner tomar casar cola dato salud contagiar detallar esperar vida salir poblar seguir país información pasar gracia personal necesitar felicidades mundo cumplir confirmar riesgo deber positivo noticia callar decir evitar conferenciar dios publicar querer cubano médico pensar terminar cuarentena gente situación dudar indisciplinar pandemia gobernar ver capítulo 1984 mantanzas oka 0,01 virus población saludo cuidar tienda familia enfermedad entender merecer concienciar necesario presidente informar bendición concuerdo hacer producto irresponsable acabar calle comprar construccion informacion saludos dar vender niño llegar parar impeachment formar cerrar ministro social vivir fuerte realizar trabajador felicidad comentario cantidad sentir disciplinar yanet respetar excelente cuidense tiempo panda alguien ayudar año libreta pollo fidel responsable detalle tener preocupar comer entrar fiesta estar porqué controlar dejar venir amor hora duro totalmente momento poder problema mano felicitación hola prensar palabra hablar censillo multar labor seguro aguar importante ley centro autoridad grupo nasobuco tanto lugar gustar especificar fase alimento necesidad nombre manir trabajar lindo santiago artículo severo falto osar covid mantener coronavirus apoyar cifrar covid-19 corazón contagio etcétera aislamiento responsabilidad venta alto bodega completo acaparador paso cuidese trump llamar leer volver escuchar encontrar saber aumentar agradecer ciudadano casa permitir lograr medio peligrar plato paciente jugar servicio preguntar creer mincin psr vestir pedir ser orden carnet grande humano respuesta punto app aglomeración embarazadas perdón inrresponsable face datossss leer?noticia construir jajajajajajaajajaj naranja oso 0,0 segundo jajaja nazy berdei japi percepción temer haber fuerza deberian buscar quedarse habana atención epidemia ideo repartir infectar incrementar desarrollar barrio enfermero gloria sacar sistema animal ciudad único pagar consejo establecer revisar especial mil poblacion rato aplauso librar madre espere zona aplicar perder ojalá defensa coser medidas afectar transmisión corresponder cubadebate empresa mapa abrir imprescindible adoptar centrar pongan arriesgar real límite tipo localidad revolución necesitamos producir medicos morir aplicación vacuno abrazar miedo habanero mañana nombrar recuperación preparar cuidarnos mayoría policía continuar goloso abundancia pesquisar serio brindar escribir quedar gravar común valorar tender héroe esforzar fallecido juventud direccion gas pienso edad residenciar mercar exponer considerar número control analizar utilizar dura salvar suficiente limitar familiar dulce pueblo guardar importar transmitir solidaridad conocer minsap malo noche comenzar quedo razón eliminar medicinar gobierno funcionar situacion transportar enfrentar datar detergente dedicar licuar forzar lleno realmente andar tocar cuídense batallar refugiar joven enfermo santo personas seguridad guerra explicar mayor demas irresponsabilidad muerto coger cubanos preciar notica organizar far viva liberar luchar referir básico aparecer vencer existir bebida trabajo vivo análisis tarea dirección alcanzar escarmentar frances donar noticia!!!!muchas tranquila contrucción apurar loma freno herrar saled impunidad descarados diplomacia pando jjjjjjjj quisiera pnr completar repetir valientes hernández ojeda televisión coincido tremendo porq demostrar diario gravedad listo drástico cumpleaños comentar largo contactar rio vigilancia pública beber frase mandar obrar identidad santa procedencia yamila estudiante cimex enterar isla celebrar estricto público ingresar actuar empezar periodista aceitar adquirir indicar cambiar haria sombrilla abajar confiar feliz intervención proteger tratar pelear mujer contribuir oportuno aplaudir pinar decisión altura delito preocupación provenir conmovedor etapa orientar descargar avanzar etecsa prueba ir policia combatir plantear hospital revendedor dirigente mundial contrato antonio esten sanitario junto claro prácticamente núcleo horario ojo incluir distanciar curar entregar ocupar sitiar distribuir llevar bella cadena paginar primario estudiar popular habano reportar florencia derecho muchacho muestra costumbre padre acceder movimiento disminuir inquietud extremar resultar nasobucos actividad señor ocultar nacer mesar trd local ocurrir compañero traer autóctono incumplir criticar crisis responder registrar contacto ilegalidad hijo mes facilitar colectivo matanzas recibir rápido disciplinado mirar muchísimas doctor clara restar abuelo canel habitual unir espero higiene 100 proteccion sector inconsciencia @maga sabias 9410 laos 100%cubana gustaria orar soyyy ummmmmmmmmmm cumple recordado doc accionar minint continuidad violar echar venceremos realista bello acumular ciego relación vivan protección interior provincias innecesariamente capaz contar nivel quedate frente transmision irresponsables extremo propagación diferenciar chino orientación laborar posibilidad peso oficina directo fecho inmenso esquinar lamentar imagen reconocer menor cooperar canción enfermar bendecir músico covid19 suceder andrea recuperar quedarnos apk partir poderoso decretar sociedad conciencia abastecimiento institución pequeño alcoholicas futuro denunciar patria máximo planteamiento tierra sugerencia confianza guagua lamentablemente conglomerar provocar nacional cuestión solucionar sacrificar ocasionar 9:00 debemos boca amigo dictar enfrentamiento gue dinero rigor propagar revolucionario mantenernos ganar atender código hermoso profesional basar ministerio orgullo parecer infectarse realidad pertenecer basto penar minuto videos reconocimiento apklis venezuela ofender fallecer desear recurso solución declarar preocupante mencionar teléfono siguen salariar servir normal san -pron- online curiosidad lawton divisar quitar anciano tarde nicaragua stgo poqito espera fijo elaborandose habanera confirmados refiérase ummmmmmmmmm soyyyy ricoooo preocupados puerco blindado javi mirielys administrar dígaselo imagenes puntero suspender 3ra plenamente arroz gibara hermano sentar artemisa china encerrar bendiciones papel extender apuntar drasticas acto continuan colega difundir sancionar quédense síntoma cliente ávila consumir carmelo consecuencia holguin contrario alexander ningun indicación sincero innecesario molestar operar sentimiento abel exactamente admirar alimentación proponer crear esperanzar cuello procesar cero vendiga cuidarse aguilera gigante útil complicar francés adrian actualizar nucleo ipk tunas cegar barato llenar rostro avila humanidad pan comprender letra caminar efectivo importancia millón matanza dedicación hombre constructor evento estadístico picar caer arar imponer leonard cohen almacenar acceso muerte algun viajar felicitaciones agente sospechoso activo holguín crecer pesar aportar articular particular mínimo red unidos implementar medicamento clarito ciencia apellido reparto govierno laboral hogar diez seriar organismo mejorar portador domingo grandioso armar continuo gaz patrullar regular sensación foto medicar correspondiente salvo actitud detectar existencia epidemiológico cumplimiento bonito enérgico contaminar resolver integridad oficial demandar sábado victoria revender peligroso rapido difícil ipvce demosle logro 11.00am infomación oscuridad desglosar aprovecharlo;no apilar deshumanidad maldad chiquito obligatoria urgenteee hablen lograrlo banos autocuidado celular leerla comunicar cartel tean ufff felicitacio abrasar picos época ëstos bancario defender parir asunto listar 1er veo excepcional colas vacación compartir patrio culpar económico querido recetar internacional directivo lindar autor principal alertar reportaje sujetar cualquiera aprender garantizar individuo amenazar genialidad equipar anterior cometer orgulloso italianos semana transición capitalismo alcohólico escuela wuhan reflexionar asear venga gestar mamar humanar error trasmisión seamos diariamente principio presentar subir socialismo acudir campar internet tranquilo culpable enorme propagacion electricidad exterior quiero transparencia indiciplina tirar comunidad adulto exigencia lógico confiamos conferencia desastre pegar naval necesito valer consciente sencillamente contratar afecto desarrollador historia módulo crítico linear motivo primero área insistir iniciativo lamentable felicitar vivienda reducir usar tenia criterio prevención distanciamiento grave momentos frontero enviar profesión sancti experiencia abreu enemigo alimentar eua escapar acaso imposible negativo imaginar consultar asegurar conversar valiente interesante rwsulta desaparecio tia quenense podia oculto amén elena sara parsona rason notici creoo estremar compatible severad prometer sueño reparador emocionantes entro porter@. dactilar hollar callarse pudor sacrificarse agradable delictivo manual yovotesi deberiamos simpático entretener justificar tienes demorar científico centros precisar calles madrugar cobrar profe intimidar vieja indisciplinas regar evita vital mentira pcc unidad 401 acostumbrar gratuito comportamiento práctico bajar posible cocinar arduo oportunidad contener sano hacerse político duran ponen habemos bañar apoyo educar fuente carnicería verdadero moral derrotar biden viernes depender señores civil eléctrico superior epidemiologica unión norma saludar abril programar alarmante modalidad imprudencia pérdida productos constitución eeuu durar perteneciente frenar cárnico empresas cuidemonos recaudador propiciar aplicacion quieren codo percepcion díaz trabajando margen verdaderos tomen llevarlo opinión distribución durán decena metro test enfermedades observar planchar grasias conocimiento preocupada sumarse carné riguroso correr besar recoger novelar civilizar asintomáticos paises hotel directamente burros irrefutable reinar reseñar 9014 15762 simpre compromiso nesecitamos complicandose simepre desglozados caimanera motivación quise hubicado anormalmente idiota trumpeta chama venderlos modulos nobleza compensar sentirse medianamente detener covid- cubana matar deberia aburrir casas foristas prohibir playa considero administración consagrar no. cuadro arte exigir indispensable diria sitio kansas irracional turismo intención explícito adecuar vecino aclarar sacrificio letal capital auto aveces actual spiritus juicio tendria agradeceria alma amo parque perdonar seguimos forma venian salar tuno aglomeracion recordar cardenas web darle publicos circular hacerle periodo prestar jovenes causar aire contemplación salarial carbonera admiración botella porfavor contagiarse comportar caja marcar exponencial amistad reunir dificil aki adolescente molesto sumar despachar contingencia lavar seriedad caribe embarazar precisamente remediar emitir regresar espacio sumir recuerden reunión preciso sufrir fácil mamá urgir politica residente allá esfuerzo moverse cultura italiano noviembre imprecindibles denigrar tatalmente segurida sobreponer veraz rumorar haganmos aglomerarse debes ratico infectados every heart intranet informados abre información,,,,por prensa,,,aún ascenso degustarlos tabacuba quedemos acataremos respaldamos siemre antemano libertar miguel economía comerciar incapaz infección caro peersonas saberlo sabra esposo mitad cargar lucrar obstante cuestionar identificar disponer espaciar acerar agregar tomate amar papar ofertar prevenir agradecimiento bloquear tarjeta pipa dirigir convertir piensen territorio pasear alla perico respiratorio enseñar agravar habilitar reiterar bernie cdr cuidarlos descansar javier asustar tomadera firmeza paz miembro verla documentar aceo terrible nivelar acatar penal mantenerse vulnerable infeccioso camagüeyano poquito viejo jefe obtener escasez quedemonos acá objetivar urgencia masivo nación mercado ofrecer villa agradecemos manejar correcto urgente policlinico humanitario representar exponiéndose amigar frecuencia dificultar carlos guante evidente legalización agropecuario aglomerar educación negociar bajisima persecución honesta sander despierto honrar australiano fármaco ivermectina relacion procupada terminarse pacientemente aumneto queriamos enpesando vayu santamaría botellón aunq inviabilidad tapar tikes verdes luces asomar hgice pactar romper maquinita asir electronicos ira multas requerir blanco preservar ron jamás guardia obviamente resumir desgraciar actuación producción iniciar siquiera seguidor salio jabon precio pie terminal probar saldremos victoriosos conducta rodar favorecer llorar derrotista atacar permanecer tomarse norteamericano carencia justar huevo método conexión dió condicionar asistir suerte ahogar policias temporal hervir altruismo honor mercancía descuidar retaguardia comercial infante provincial perseccion razon practicar joder lector regulación anotar roban mortal masso estimado sabio individual tratamiento triunfar oms carro prolongar director disculpar infantil clase especulación opinion determinar maximo articulos verlo natural calidad unica necesita billete pánico reorganizar desobedecer camagüey héroes desgraciadamente televisivo conjuntar expender sorprender interactuar nasabuco enlazar navegador descargarla palomero ojo___prevencion significacion dejamos segurocubagana asintomáticas desoglesen complementar covit hayyy proactivos contagios adelantarnos disparatar clinico encontaban 7.00am altavoz anoche disciplina.la social.la irresponsables.la votar recurrir vuelta sentido visitar consejos diaz carretero desconocer burocratismo normalidad presenciar ende genial relacionar hagámoslo establecimiento jabón constituir desesperar redar ciento quédate mover distinguir numerar abastecer socialista expandir funcionario disciplina asediar revolucion cárdenas atencion digno darse invitar entidad ponerles citar recomer falta vaso indolente digital comparación sigo muchísimo expresar escoger inmediatamente olvidar ómnibus decidir prensa autorizar disposición reconstruir acción maxima mayoria contraer laboralmente reubicar manera repito redondo supuestamente 500 maldito comunicación transportación coincidir extranjero cerveza covid_19 entiende 3000 maestro preventivo castro smp ejército planeta intermunicipal base par esplicacion flexibilizar escucharlo .cu podcast debieran alojarlos waldo peiden colas.mucha déficit cotorro especificación cundir matemático galleta prioridad emotivo tripulación feliciddes 9.00pm menores barbaridad.gracias inocentes mierda faltante liberarlos pesquisa desenmascarar laalimentación pasarse nacion importantisima nieves desaparecer organización diabético extraordinario fruto interminable convencer curvo volumen manar restringir dormir barrios estatal esperando encargar influir organizacion implicar valentia obviar escanear combatirlo compatriota dignar hipertension inspector potencial comprometer verdaderamente reitero crecimiento circunstancia esconder factor acaparamiento hambre 300 relajar corriente separar reservar aspecto pediátrico internamente agrupar deseo pisar ropa costar movilidad satisfacer separación recomendación pertinente tendencia farmacia risa paraguas contención invito reaccionar obligatorio involucrar activar odiar impresindibles invisible.puede precisión cuidarte afixiados ansiedad antisocial delincuente milimetricas hueso bebedera partirle comedera seco bbebidas conductor decio quedarseencasa bajeselo rené ojos enseñanza ingrasadas entrevistar bernardo pose pcr ciudamar estipular cárcel imcuplen enfoquémonos inutil asistencial sacarón dinámico perceptible pónganlo garanticen específico adelantar aeropuerto independientemente resaltar primordial protegernos acorde severamente empeñar marzo cabaiguan abastar gastar nuevamente paquete egoísta triste foco granma salvarnos doctorar infestar anunciar aglomeraciòn increíble 200 alimentarse plazo normado cdo alejar boberia temprano fríjol colgar catarro com inmune función cumplamos estara prever sexo 1000 gratis vincular cesar igualar república preso varadero violador asmático elevar constantemente dolor productivo doler cuidemos concientes corto cojo puerta marrero evidenciar sensatez quedemosno quedandonos sumaramos mixtas desgracia ojoooooocon ocurra software inventar párese .cuco marta veterinario describir añoro enormemente demostrado envidia emocionado llorado niña flojo walber hipocresía irles led abstenerse bombilla disfrutarlas waaaooo hacerlas pficinas cobrador pagonde unidos.#quedateencasa tóxico deportar gradar naso lunes cabeza ton organizarnos soler importa estimulación equipo aplicarse físico maría indisciplina disfrutar erradicar distancia secretario bienestar beneficio brecha trasladar palabras protegerse posiblemente ladrón urss campaña venden concentrar pones fondo rico propagador venderse bendiga salvan transitar relevar arreciar consentir dental nesesario consultorio sueldo saquen rezar 5ta orientadas aplausos linea estimar facultar llamado notar hospitalario esperen ajeno inevitable habra sobrevivir caibarien ingreso página compañía canal retransmitir cubavisión orientado ciudadanos(12 publiquese apliquese energía íntegro restrasmita 1pm .de tomendo concurrir manicaragua persepciòn jòvenes tambièn diagnosticar magnífico dirigirme teniamos nosostros enseñaron juego lucha cooperacion comparacion socilales numeron sifras castigar estadisticamente concientizen resumen paño tibio silla devastador peligro oeste aferrarnos flexible ueb concepto arterial tension malintencionado informaciónes coherencia descompensacion disciplinados responsables -no severas fundamental disponible bien inconcientes burocratas privación desplegar radical uds alcohol darnos firmar aglomeraciones militar temblar medicina rendir bravo hallar colaborador opción cilindrar aprovechar sacrificándose minimizar represaria culto falso vía cortar normados propaganda atrás julio leu implantar justificación persuación halgo ubicar perfectamente nuclear feo estono amargamente arrancar etareo incapié oglomeraciones asintomaticos teclear tocandose meterle trbajadores diabetes mque sali evitarse ponernos emisión comenzar- o.m.s justificvar perfume colonia despejar ayúdenos dialogar pedestal técnicos respaldar indisiplina paternalista duras.sino den pidan solapines cuarentena!!y deambula sabrá chismoso pandilla chisme esfera habitante organizador baracoa ambientar excepción sanción aplaudo seran temperatura cuyo tiendas poseer cuerpo glorioso comandante mal deportivo encimar engorroso montar círculo incertidumbre collar condenar libre dificiles prevencion inteligencia hecho elegir informativo multitud new city york plano generar partido hermanar edificio peor cordura electrodoméstico reglar indolentes persistir priorizar hipertenso abajo indiciplinas inresponsables via españa negro martí verificar domiciliar spíritus culpabilidad desacierto acierto eventualidad levantarle jusguen bucasa completa,,pero mismo,,tienes casos,,con publica,,uno loar doy preocuparse bucos ejemplarisante aras efuerso pedirle comprarlo favor!!!cierren babero moda nadabucos decirles estimularlos altamente trámite recompensar verá mando dólar salí cosmonauta desobediencia energico aplicadas inmensa agradecera mulato1962 cloro eco minutar significar sugerir esclavo naturaleza portero reforzar alimentos conclusión conducir misión confia ventana apelar clínico fundamentalmente acercar guanabacoa dejen maquinar cojer cansar drasticos carne justicia lugares colapsar rafael apartar malas vedado turista abrazo emp rentar especialidad negocios limpio deberían regalar generarmente congestionar fallar costa mente bolsillo cívico violación talar sanders laboratorio numeroso puntualidad pretender mercedores comparecencia nececidades juana integral recreación pronunciar inconciencia innesesariamente esperarse embarcar relevancia encuestar vera necsitamos guantanamo groning félix ruiz estrecho manto auxiliadora arropar flotando públicos csen permanecen pequeñas saliva quiten góticas piso lanzar detalladamente https://salud.msp.gob.cu/ dirigirse fragmento will canadiense like anthem but refugee himno cantante love iresponsables sobreponerse situaciòn salvemonos sensibilizar està baños rebendedores evitarian tendriamos aprovechandose cuida tema quieres cuidan ten injustificado bloqueo valeroso blandengeria entiéndase inigualable vendrán abnegación constancia gremio periodismo yunier catarrito comicos programacion arrogar afectación cariño incidir miren formato fomentar capacidad batas blancas aca recio bajo punta organizativo botar engrandecer mtz manipular cuarenta esposar quejar combatiente autoridades 1959 emplear brigada municipal asintomático protagonista coronar bordar apreciar atentar publo corazon constitucion gusta haga surtir area cuc superman juntos dieta evaluar constar estadounidense mindus variante valla perfumar trasladarnos cargo cuan pandemia.mo angustiar bruto licuado bombona gradual dosis yoel disparar lidiar omo banco sist trabsjadores entonces?????,hagan fallo hacernos dislocada transferir legalmente empoderado regimen amos siede 20/5 molestia cayo blando simportar cuestion docs durísimo contaminarse escafandra incómodo paradójico psicología inexplicable debiera atenderse economia contamos acérrimo ejemplificar motivar floridanos informático usd mostrar posteriormente documento cooperación deacuerdo musicar circunscribir fmc tenernos equitativo datos distante deambular postrar grado avisar veneficios daria pobre caber dignidad pasillo manualmente reclamar rodear freír flores impedir período vidas ignorancia infinito tanque urge desiciones letalidad tomadas pobres ministerios osde crema team mulato replantearnos apresurar adoctar disminulle limitacion ima aka agrumeraciones sequira serial mar brisas teque cantinfleo triunfalista sabor precisa gusto indicacion llenas modificar confien bién referirme sabiendas transparentar lastimar acondicionar miramar dedo verdad pura realidad.te sol has descrito descaradamente miente promover autoproclamados aclaro diezmero interesar padrón asentamiento neutralizar pudrir puré comercio dichoso superar cercano encomiable medios camagueyano sofá valorarse esencial victorioso millonario apiñar populares característico colocar escencial etc angola concentración devenir radicar viejitos inevitablemente 2020 distinción 159.352 sorbeto rebice banes sangrar nazobucos portal surgir causante santi tránsito vermudez cabo 1mer seguimiento pleno circulación loable descarar campana avalar recuerdan narnianas absoluto congelar infierno indolencia actualización 7.00 consiencia plagarlo extremista agredir estadis repatriar nostros responderme quejarnos salvaguardar parado necesarios revisen abierta parada lista abiertos piense premiar míriam lic ávida insólito objetivo necsario minutos telefonia valore idalmis infelizmente!!!,y situcion pooseemos fija rebaja nacionales evitamos llamadas panadero camarioca senora necesariamente epidemica comprarlas pato niños lucren libras libra comerte condenas comes cuatreros vendan paquetes ladrones pesado distribuidores roben media fraccionado carniceros destacar concordar inconsciente operación sanidad vano bodegas ponerlos nevera asma sembrar limitación tributar tranquilidad periódico pronto razonar aplicarle tumulto desinfectar caracter reflexión vale ect sintomas 2,6 cuidémonos concientizar gato suelto callejero pluma dominicana respirar piel elección 130 exreclusos marianao escándalo individualmente trancar advertir gritar crónico atendernos mientra recapacitemos inmunidad https://covid19cubadata.github.io/. tedioso oda enumerar confinamiento continuación recogernos disminiurlo escacea repartirlo memoria medidasde unn grandey cuabanos engendrar projimo maravillar generacion arrojar 2da hipotético muestreo quizàs reflejar gereran tenso jurar ampliar imparcialmente espiritual literario diapasón muchisimos multiplicar decearte orror simplemente socorrer ànimos besitossss perseverancia dàndonos seguirè tesoro espectacular difìciles quièn isa estancia avituallamiento facil poilicias recordandoles ruz union lider sustituirlos ratificante emocionar rincón pediatría tromp promocionar obtuso infeliz estás morder culebra sombrar autoidentifican respectar entregarnos cambiarlo originar digase yogur -19 humilde tragedia dándonos quedateencasa estúpido doblar soñar agricultura estrategia lavarse martin américa sobrar somo ilegal cuadrar asc penalmente cordial intencional 187 masa ahorrar modesto demasiar limiten pertenencia cóvic confiarse bamos capar berdad inescrupulósa vitima dañiba increíblemente texto aser yego ameritar senso doce estándar ahincar viaje quiciera piquera estremas racionamiento cercar ala equivocación éxito ansia pedacito transmitirlo maligno honestar reelegir joovenes rondar ppolica precupados sasobucos divulgarlo distribuirlos nose acumulación saneamiento notable 150 .ucha basta facilidad ilegalmente cerro indiscutiblemente interpretar octubre higiénico saltar intervenir acaparar clorado cubrir salvando ricos histórico legal batir cubita interrogante porter@ kilométrico dependiente testigo consumidor transporte efecto anteriormente desmentir tradicional elaboración cuerdo precios rotar moron medico aliviado sosegado regalo salvada fraternal gratitud tendras olvidaras @diascanel casos haban @consejodeestado@ministrodesalud protocolo @raulcastro halla hallan única @mesaresonda pidamos entenderá 514 predicción asumir oasis analicen lamantar columna 2019 condicional duplicar habrimi jajajajajaja excel jajjajajaja lactop shopings cumplo uho vacunemonos sedes fungen efrenta corresponde enfrascados pqt arcada agentes yudisnaisis brotar apellidos ordenar repasar hechar atrever policial grito preferir sur interno complicación gasto simple ridículo piscina rpto combustible ignorante derrochar sabado celebración cienfuegos magnitud presupuestar eusebio increible cuidemosno comparar orientaciones cueste denunciemos pensemos ofi mejoria magnífica abordar insisto lento entregarle identificación finar cubasana remover consientes digan dignos provecho escaces nacidos pienzan indignar muriéndose eucalipto caliente alcalino pulmón bicarbonato incorporar romero insfectados propensos.(lo fortalecer ayudaria agregarles medico)saludos llegarle plantéa suabe tendero uci negar turno tropa limpieza inversión esmerar puesto industriar vendedor epidémico protegiendo agradecidos potenciar retirar laano tonelada ejercicio proyección kaki altísimo fútbol incondicionalmente nececidad produccion ortros estupidez optiene táctico constitye correspondencia camaguey florida restricción reciente cionfirmados super aller chikito pra banarme bombear abilitan rotonda serca entonque kilómetro 3ymedio colectividad asociar aludir prohibición aprobarlas violatorio exceso discriminación discriminatorio mochila generalmente bolso a''cargar representante parecia recorrer oír discusión raza viajero desorganizar domicilio carecer bronco pieza lujo comprobar panamericana especie obligarlos entero protegido pilar fray benito freyre médicos militante barazadas agro céntrico coña ácido proteína lis úrico fístula quirúrgicamente ti8enda colovesical reír mncpios trasladarse téngase mncpio morador llano epimidemiologico guarde amontonados sombra cuidenlos controla camion doblemente entrevistdfos arreglar subproducto latina europeo instruir azar sorprenderse continente etáreos salga componer paredon orientasiones traición desacatar buenavista footbol repartición sálvese esperanzador preocuparnos tolerancia toque introducir despreocupación recorrido vallar burlar fuego 2000 acuden estudio líder consciencia tumultuario apretar vigilar precidente norte interupto lealtad indiferencia rayar dragones neptuno bekascoain belasciain pasivo llamense transparente expresion alarmar afan rapidos helar alcholicas venderlas pedernales peralta astro neumonia ber ramon comoleta munisipios antiya acomula segimos .aqui abar biajan fiebre marcial incansablemente claridad pescador desinteresar barco emancipador patrón asia ith todabia irresposables practicamente vanguardia decisivo ejemplarizante zapato dicha raro noto localización opinar policlínico pesadilla eficaz proliferar bar salidas previo financiero resolvia hac estructurar existian quioskitos demaciada rapida controle aíslan gustaría personales leyera ronda conglomeraciones papá cuidenese seños leanle portense a.sus dibujar haganle corporación centrovisión reguero compan diaciplina presio hasme esclavos colapsada diferencia pipo socilaismo contratos pagan criticas dime marca orgullosa .:el mella .también desicion acoger lastimosamente florido confesar cruz proceselo darce croqueta revoluciön repártelo almenos parecio hagalo concentracione embutitos cárdeno guasimas evidentemente refrescar jaba agua tieneda simporta abusar importale acapadores ocasion alimañas.ue 6.00 vigente embutir convivir fiscalía trasmición ejercitar desabastecimiento presente ocioso defenderse medalla similar jabas cierre glp debidamente ocupación obligar inescrupuloso panadería imponerla luz molotes mediodía dividir eficiencia beneficiar bienvenido tsunami ausencia pedazito solidarios familias ayudando ayudamos merecidos cooperativos homenaje amigos balcon parecian veia caibarién signo dígase caoba profesionalidad chequeados plazas belén montserrate isidro recorran santería egido stop implementarla haciendola oportuna desinfección síntomas desconocido mecanismo quisas incurrir normalizar ajustar viviremos forjar ético entraga solidadridad abrazarnos esculpir departamento ralentizar liar dpto insoluble 3 malita fluir odisea contestona interiorizando star stoy veloz cruer stan acà justificadamente stablecido puden sorpresa posterior extensión aislar elementar cuidado alimenticio particulares despreciable compañeros minoría especialmente incumplimiento subsidiar verlas lisa victimar asimilar leche zafra bahía hab resposabilidad nazabuco ingenuidad interiorizan igualdad discordia incitar abstengase soportar poblacional concientice aguerrir importarles vedar ssptus libro pinal vulnerabilidad interiorizar suplicar atener recomendar faciles teleclases pedian vacaciones estaran oido aliar vsle preparense wifi organizaciones ideal exportar cilindro honesto trabajadores 1.- carta infraestructura minorista velocidad pregunto invisible suave copar engañar pelitos econom'ia improductivo inescrupuslosas salierón ingobernable lisi persepcion dejarce clarael definir tigo acaparadera muslo bajeza preferible reflección contentar formación antojar segundar fenómeno trabájese acentuar pesadito alcansamos aplicarselas normemos cijomar cogan personalmente hipoclorito consecuente sldos cuchillo debería bla aclaración tristeza equivocar guanabo supermercado donald diabetis despacho imprecindible republica piediendo provocandose hacet propenso aduana gastronómico plaza cuenta instante osdes definitivo instancia hayque sinceridad tamaño emoción más\" cumpleanos intensivista placer cubanao inconcebible contrarrestar gtmo mataperreando exponiéndolos sexual abuso cementerio injustamente acta otro, desvestir refrán separarlos exigirles tregua melanio jobabo ortiz envargo lameda lancha .saludos denunciarlos entonses 2cuc breve pensamiento trágico profundo barabaridad ampezando dscuidarse descubrir nicaro siberia cañonazo espontáneo mayarí permiso retomar empleador contribución limpiar solucion mario gripe turnar arteria obligación presionar cupet reciclar ignorar decomisar impactar aunar positivamente politicas favpr tornarse levantarla celar estatua espiritualidad símbolo fanático ¿que acosta 9na avenir lavarnos intercalar avezar apartamento afrontar duda.soy cambio.vivo servicios.por termometros sacrifiquemonos alimentarnos cuantia reto considerablemente muyyy rama concientizan activarvotras ybreporte no.la estabfase perseción diciplina juagando llamdado acertar proteje comportarnos adm todo?,siendo coje rusia confinmado percibi daran identificacion aacudir reajustar peninzula escaso exclavos bombo da.viva nadador expulsar veneno contagierse caballero americano inclusive cuento bebé alentar dolencia paralizar asignar coleros emprender permanente negocio bola uvpor borracho expresarme trago gargaras promocional intentarlo remedios perderemos covid-19,es garganta vinagre epidemiologia asintomática masivamente eficiente remedio pedimos biocubafarma misap cañón pidio dejandole rrado errar instrumentarse participar exposición sencible manófono salivar c/19 oidos gota proque alternativo fuertemente asistencia clavar residir habrán campismo observarlos seccionar unificar carajo .no transferencia adquirirlos plantearles 258 salirnos alcantarillar pichs revolucionariamente pablo acueducto girón manguera percatar continua sancionarse comunitario general energético chip dependencia dejarse ambulancieros camillero cosa televisor consentraciones reubicación encontrarse certificar probabilidad protegerlos escuentro menso pagarles graciasss psiquiátrico televisar soltero oblique mes,1pqt comprarla revendedores.una sucesibamente debi auque potrerillo plasitas puntico,2lt mitrans u.e.b. galeno inmediato dueño egoísmo colaborar sensible facebook whatsapp ajena decirlo respeten planteando noches extremas necesarias duela igualmente triete tardes maltrato sientan cad sabiamos acuñar transmición avastecimiento meneses paíz poniendonos exponiendose faltar bayan debarian comrarlo canidad seimpre escrúpulo rango parejo colero trbajar haganlo tneien imaginen dsitribución películas únicos potencia entera color ayudas digo súper arriesgando derivar esclarecer radiar entiendo emisora regional caldera intensivo enfermería segmentar terapia operador reconocerlos esterilización pantry lavandería solidario polvo gobiernos revendedores especialista miles coordinación ejemplo resguardar doloroso administrador seo empajandose siglo gritandose carnaval spirits arroyar jatibonico tomem mantinen chivichanas decirle escandaloso arroyo patrullaje prohiben naranjo organizadamente estimular duramente blandengueria sece taxista tecnológico investigar absurdo reasultados investigación paliar invento sagrado presentarle resolución mata italia muertos loco básica práctica canasta encuentran escuelas visto trabajadora yo.hace personas.también tope dices gabriel jugando pidió todos.gracias llamarles quilo) prójimo advertencia cubanos:(sin resolverlos pino alcides grupos desconsideración festivo shopping pastar nooooo obligatoriedad explotar apagar empecemos excusar acaben separacion 1ra interior?????? favor,,,,,,playa compacto exponen atravesar estrictamente río traves infractor mercados incompetencia caminos jefes màs referente cédula 1962 organos collarin afinar bebiendos sinvergüenza criticón sanacos ingenuo incentivo salvarles espesificar 014 faz tranquilida 061 sifra siudaana aumento 732 sopechoso imformado 416 fijense comprencion 253 gestionar verano castillo bulevar prado tradicion higinicas experimentar bloquedo panico cuidadanos equipamiento compararnos colapzar decian 280.718 reclamo 140 pruduciendo 440.07 niligencia alquilar suponer protocolar imperio dañar trazar descontrole ee.uu henry revee radial modestamente divulgación multifactoriales agromercados impositivo explomat sumo apagón negociación ciclón 350 festejar principiar respirador estrictas atenuar frenarla evitable eliminarla estrictos inicialmente tamarindo gomez 26,27 raúl garcia presión privar percibir aceptar solicitar revertirse cuidándonos duelale dondequiera pararlas guiarse carretilleros jabita gorda.en balear tocar.es precios.aunq discutir.ya pesos.aunq localidades.porque cuc.creo carne.los precio.y carton ellos.ese prejuicio porquería implacable transgredir nocivo aguiar tencent banqueta campamento reportero parrillada obispo traen violacion lambadas carretilla desorvitados vendedores camión placita turiguanó andaba morón romanticismo museo vibora sevillano trasmicion monaco deportitas artista aestas líneo pagandoles pelota destrucción cerebro estudiaencasa flogar cruzar desbaratar cristo brazo chequeando separarse bolsa disculpen cartón 6y30am codigo finalmente participación disímil reitegrada realizarse conocerse tablilla imperativo externo inmunologícos respectivamente transmitirla resquebrajar estableciminetos ingerir namibia windhoek recreativo multarlas pequeñitos elaborar ministros usuario aseo velar políticamente hillary candidato demócrata mínimamente recontar ceder capitalizar coalición crea resurgir covi discapacitado rigurosamente movilizar reproducir 1,29 miranda previsión lección susto grupito fumar intrincar pesquiza pesquizo 5to fajar niñito 5/4/2020 despiés finanzas permanencia sumémosle minisrto inútil quintar empresarial atestar aglomaraciones funcion portar diseminar asintomaticamente entoces condicion trasmision responsablemente técnico unico persiste detenerla avileño mayito persuasión de.los inder figurar imnesesariamente lo.pongo instalación mayúsculo gradualmente haciéndolo ferozmente contencion caos efectivamente accion imposicion fenomeno somaton infracción prorrogar traspasar vehículo acargo jesus sacarle susecibamente familar maria probecho nalón fila impotencia solidiradizan central delegar ejemplarizar concientizacion h2o 4ta atentamente america shoping electrodomesticos adonten rebelde per flujo jóvenes cronicas cientifico busca 30/3/2020 contaminarte mambisa amistar felipe autodefensa ayudan haciéndolos chongo neris derrochando fechoga poema ponte lava quedémonos mantén vernos covid-19\"nos degollar ideas norteamerica década manden temporada p.m penalicen mayabeque incentivar partiendo diseminacion comun aplastante salarialmente interrupto 60%(entre mes(entre empresrial patraña redactar nutránse tamb dedicarnos desp vivie toar tene corren drastico mensaje comprimir bobería cambio 110 humanista guardarlos ojala utilizarla captar redes istván primeramente adornar penalizar confío aparentar agradecerle perjudicar negligencia adentrar aforar hitoricamente minoria inmoral amen lisandra sentirlo nenés imagínense llamarlos sucederan señalar dominar juzgar razonable casualmente capricho oscar solapín inculcar imponerlo persuasion seguiran permisivo geografía acometer disimilar violadores legalidad países recaiga linda revolucionaria remitir desagraviar concretamente convocar quedé proyectar 2.-¿serán tribunal convalescencia genocida golpear anonadar siguiente estupefacto agresivo inportante completamente manifestar madurar neurona esqchen tngan prioridad.cosa ideal.pro medicos.muchas laboral.no evitarles .aunque alcanzar.un eso.aqui .hacer pasa.otra sonrisa.considero todo.espero necesidades.para tema.solo roto.gracs slo colas.y privilegiar cigarro voltaje satisfacción pido fiel desobedeciendo orienta seguri incumple habran luchando decida venda marche leyes apliquen esperaran contagiarnos distrubución .se mentalidad estuvieramos cao trinidad .el aqeullos comunsita encontrato abrazado cienetos seres controlado comunismo abrazamosel humanos neolibeeralismo mosca explica pasies moriran convertdio marchaoo morir.eso verguenza mercancia atravesadno inmensamente uan presidnete agustín pregonero buco gorra concreto mensual fortaleza móvil jornada localizar interés finalidad logicas coppelia tomr bicicleta enfremo goma comestible puro milagro lar quimera lidereada implementarse insertar instalar asombrar plasticada calcular primar nailon trancate volvemos morirse revendedera consagracion protegidos aterrizar alamar fiscal ciclar europa ficticio queda refrigerador malintensionados mondar apretón inocente corona aprovecho temor añoranza prevalecer ocasión ilusión hitler alemania campo espantoso ocúpate preocúpate fascista callendo récord suspensión mcpio codiciar peluquerias labgente minima pelarse pro barberias ciudadanos mobiles curva coronavirus19 mueren viviendo consagrado catástrofe graduar bioquímico atmósfera créame descontaminar martina asombroso saludable respetuoso titular ingente entorpecer desinteresadamente cuarta ayudarnos sobretodo tenerlos mutación animals comerciliazación product 2010 biologica mutar .hay impresindible .acá reparar eso.aclsro .preguntar prioritario respuesto taller normal.explico hacerla apliquenlas persuadir proactivas cruel cambios indisciplinados tomarla calle(porque recluso 12y aplicarla cumpla(sin distribúyanlo firmemente prohiban jueves prisión necio nooo hombro ejemplar dobre alimentario porciento propagaci9n suspensu9n direccionar penoso apelación sibel conozco particularmentebhay pasajero artex carretón abundar asomarse cmhw vacío emisor moloteras pasaje montonero balcón impediria difinir estaria dimensión iba cro continuaron cháchara mren bacteria estilar exelente rompiendose hinmunda rata h.p. séa emigrar billones norteamericanos anñoran salvarle ratas anhelar vicioso ksa nervioso intrucciones fiestar póngalo pasarnos anotación voluntad coherente reaprovisinamiento seriamente dispensa agradecido materia comprer enrenta preoductos prvincia detale persisten distribucion insumo conosca informarnos menú trasmitir pasarlo planificar soldar moviendoce actuemos intramunicipal interprovincial trasladándose dengue mosquito llevarlos electrónico divulgar mrcados pesimista acaparadoros algfunos clamor pagarlo inmediación preocupaciòn funciòn circstancias dìa famoso intensificar fenòmeno nforma alzar principales hara liso omnibus claramente agustin nieto frank resistir bauta agotar mediodia caimito precocupante novia comprendo consignar inverso optimismo comienza pib actualidad dispersar dilema lema descender acelerar jugo percápita malcriar cumplidas crucita enfermarse limón espalda ciertamente imitar covic renglón convocó altruista picadillo sincerar conveniente debilidad encamar funcionamiento predecir desconfianza aducen solicitud rescatar analista congreso llamas finanzas? propósito razonamiento despedir estrago sencillo motorina dialisis acompañar lado obeso berbena monetario microscópico dpr confrontar mostro posición apoyarlo autodestruiria autodestruya aberrante despierta irracionalidad atropello abismal ceguera vilipendiar arrogancia altísima coterráneo brutal visibilizado imperialismo indígena internacionalista mediaticos decadencia jubilación animadamente saque bichar amontonar olvídense decisores ponerla desinfectante 7/4/2020 ventilación haberme licorera amigablemente frazada contestar específicamente comunicador calzar pos picaporte llamamos salario comprendan coopera milenario convicción merodear aglomerados justificacion prision centenares normada decepcionar gestión comunista balsa justificado energicas gabinete adherente recuerde proceso cierren eficacia alérgico alargar argentina reincidente bastante actualizarme reunirse redonda equpo consumirla mesa fisico cafetería reunen añ0 pasaran soberania convirtiendose reaccionario capitalista nesecitados filantropica admiracion goviernos economica 5.- 6.- 7.- hubiera 2.- 3.- 4.- molotera centenar mancomunar ejemplarmente diambulando irremediablemente coercitivas plantie octubre#1165 ningúna darme notificar istitucion uceda suegro puente luis merecido integranyes riergo estadisticos futbol asumirse colectar autorización rebasar semiabierto dejarle recompensemosla formalismo intransigente persuasivo eliminarlas defraudar defenza enfermadad terreno asilamiento graficar difusión ¨sospechoso¨ repleto gsutaría respetemos llevarse sobrevivimos acabemos enfermeras arriesgan privado levantan entristecer misionar economias estudiantes efectuar ileso arrastrar puebo embergadura añito invencible turiguano gordo confio pequeñita propista invicible ponerse amplio tontear pongamonos pretiques sobrevenir patalear dorar tique probocará magia dejemos tuve manteca enumerarlos regulen grueso pre diciplinados peinar comprarle convertirse almacenamiento pizcar oficiales militarismo otorgar asesinar retírense transmetro barrer comprensión tejer llamarla utilidad percatarse asiento montarse aterciopelado alquilarle territorial quitarlo escolar mariel mantenimiento jprojo retener indiciplinados extencion carralero especificamente nulo admnistradores etrarian sanfield dagoberto correctamente cituacion sincontar proviencia segura(la \"esa desorden revisarlo esquema personalidad historica sinembargo criollo distinto clima tribunales arriega calificativo ayudemos rinde normas exterminio supervivencia frentes traidor traidores aglomerandose transeuntes seguidamente benjumeda mantenian manglar metodo belascoain devolvernos transitada vehiculos viviendas panaderos realizan plantilla compran estimados higienen 9.00 denunciare carretera cruciales cuadra centrica salermo vea carretara actua peatones motos mcpo panaderia residencia ofertan tomara compra fiestas adminìstrar interpretarse crearles dìario bañarse economicos deterjente minimisar escenario variedad ahì olvidemos problematica cuídese gratuitamente ocúpese competente condolencia pobreza ejercer analfabeto envidiosos descontar asesórese cuc.y explotación ruin judas prepotencia individualista .es viral miden exige colecctiva población.es molécula transmito suministros ectriptas cuentas rigidez .pedimos representativo inecesariamente combativa colecctivo temprana inflexible actúe adolecentes manejo presisa cotidianas inmadurez transcitando víveres adoptadas cumplan trabajos innecesarios credencial movimientos rigurosa mitigar intencivista libertador bolibariana yosvany carabobo categóriza juncalito desearles venezolano habitar rebolucionariamente ortega cdi oval militarmente locura agrediéndola desayunándose deceso senador vaciar alegar irse congresista agarrarse acusar desposeído tristemente promesa garrapata corrupto permitirlo enterarse sensibilizarse vibración exigente pudistes ambiental publicación parenlo denigrante acomodar maximizar seguros agradezco casco proteja pamper ejmplo pot hatan exigiendo darlos matándose forman cuidando tallar donación parámetro intentar exceder corrupción bolígrafo invulnerable oficoda blockchain.esta encriptar localmente adaptable suministro propuesta(no pensarlo gogh consumar superio delitos?porque pensé fingense embajada expendio tarjetón enterrar poblacuon mninistro inhumano debemoa epoca pedaso existia acostar .marlon pelar martines 53814391.espero susebtuble sutuasion asesorar reunan pasan fajarse devla adorno deva devalguien devmas hecer 1001 matason desconcentrar 3.60 desconcentra jamonada idear particularmente normalmente cuota pedro rodeo exceptuar rque municipios ciclo reaprovisionamiento betancourt acefalos echarlo ehhh arriesgándose calixto garcía objetivo?se kieren monroy bermudes multarlos muñoz fotico nacimiento inrresponsablementes cadera 11:30 nautico discutir talvés acavó 5/4/20 cuado fácilmente bosquecito recorrí levantar 1:30 acontecimiento manos burocracia vuelvase gebnte ciencias telefonos 2,5 .pronto explicitamente consolacion nasa institututo beneficios relleno master burocraticos supercomputadoras arriesgarse salarrios publica desnaturalizar disciplinadamente laboratorista envidiable confiable perfecto extensivo acatarse colapso persiten 1300 omisión qque desinformados corora expresión tengan apludiran vuelvo sellar trinchero intensamente trocha puerto enlatar primiero economicas 787 u3446 apropiar nuetro mariana trababajan manzana evaluen ave scu torres sobreprecio inteligencia(quisiera probl3ma progresar conciudadano intencion muchachos(quisiera constitucion(cosa tiendas(los instagram vecindario desestimar informaticos potestad diciendole desmeritar encantar ponerle clinicamente compis adiós ventilador compi gobernante indisciplimas decidio incumplidores acatarnos licenciar reverendo queate aklimentos sordo riñón estomatólogo desaguar 713 inestable lopez desamparar pesquisaje pozo montoro estricvtamente independiente exigira judicial publicarme contribvuyendo abandonden tatn obrero funcionario.hablan pór abrira insensible beneficiso eel podran -tienen virar debian aquio habria quee .estan petrocasa alcansar reñarto vacios santamaria necesaro vodega vivimls micro accedwr modular lleban milktares mision el.porque hacerles aglumeradas alcansarlos al.respecto ciaudad vomunidas hwcdonde la.poblacion iii me.gustarka alcansado cube cerdo eliminen protagonismo auténtico competir triunfo optar circuito formal rehabilitación vino excesivo merolicos negocito disfuncionales estánacaparando demente recién complejo circunscripción normen delegación jabonar organizarse disponiblidad másrápido abastecerse financiar estelarisimo socialmente sancion invicto ignorantes indigno adnegacion consideración epidemiología escarmentadoras sacudir omiso crápula integrar nalgadita estupidos 1188 cros explicitar inmanejable precipitación promediar tabla abatir incidencia mortalidad 2.6 quasi probablemente cruva propgación fallecimiento aplanamiento 08.04.2020 sistematizar índice estadísitico tasar incompleto nucleares television respeto funciona millonarios clinicas reparte padecian conocen convienen otan caminando hispanos hijos economicamentes economicocamente organismos clases salvaje salvajes capitalistas emfermedades francia hospitales modernos poderosos persistentes billonario pastilla informaciones imagirariamente comerciales publican tantas demostro fuertes alegría deporte biene negligente perro gallo quue asco myoy borrachera higienico clandestino alrededor informatización conoce dándole rol avergonzar quehacer procesos reparta ejecutar matraca comida requiere fatigantes ministra convencido saldrá esenciales cambiado desmontar conocemos impresión perfil nunciaban agradar retroceso críticamente enviarlo arribar inneceariamente 11:43am ventaja lluvia golpe coincidencia vectorial fumigación digitalizar propongo zica minfar diagnóstico resistentes detección eslabón asegurándole desolación surgió conceder estable solidaria recrudecer heroica matarnos firmes desesperación fervor poeta rencor maravillosa región pasión esparcir discuciones blanca hechos pase muuuchas empujadera sanitarias tipos agrupados distasnsamiento vendese cabia acera,(no tomó pegado riña entrando sinumeros abra talvez hablando minan aministrador mercadops carnicos distasamiento entodos kioscos distribuyen concentraciones.pienso diciendo tumultuaria esfuerzos conversando ejemplos pondre violen 0900 video periodicos quiosco salió mercancias ayuda salvarguardar inventario habian puntual copiar relativo combinación computador sito garantíce utilitario exportación funcionalidad previamente privacidad automáticamente inadecuado infinidad universal valiosa virage energias requerira significado industria universitarios contradicciones perdido educacion democrata construyendo venia reforma laborioso cobertura reves locas escapa desigualdades salve socialistas convulsion renovables liquidacion lideres corporativo deuda detengan dominantes aglutinando armas wall intervenciones transetnica fomento 2017 transgeneracional figuras internas vocacion avanzada farmaceuticas companias enriquecimiento programa street empobrecimiento gratuita querian plataforma subversivas dirigidas ambiente incrementan profundos extranjeras ventas coalicion profunda socio politico veamos anonimos revuelto empañar informarlas perfectible higienizacion indisciplinadamente exitir pulular espciada producirse aplanar religioso escalar vacuna estadisticas represivo posibilitar refugiarse tardar homosexual heroes económicamente paralelo ánimo letales como.si hacerte se.pone los.jovenes del.virus en.la toca abarcar multa me.dan discreto cotidianidad solita lo.llevo consecuencias bastar porbesas no.eran diversión mil.maneras al.100 el.100 percatarme guaperia la.disciplina pondemos pedacito.que permiten.la.efectividad polocia no.me lo.menos la.mia lo.he necesitan restaurante desgastar cortarlo ánimo??y pongo dilatar costo reanudar desigual robar plan acumulativo indagar competitivo contribucion 6,500 financieramente extra recortar 26,000 siguentes riqueza temporalmente atractivo desafortunadamente contribucion401 próximo engancharse 19,500 diverso ahorro secundario recesión patrocinar equivalente aconsejar compensarla desafortunado hice "
     ]
    }
   ],
   "source": [
    "from collections import OrderedDict\n",
    "\n",
    "ordered_tfidf = dict()\n",
    "\n",
    "for tfidf in tfidf_list:\n",
    "    for word, value in tfidf.items():\n",
    "        if word in ordered_tfidf:\n",
    "            ordered_tfidf[word] += value\n",
    "        else:\n",
    "            ordered_tfidf[word] = value\n",
    "\n",
    "#ordered_tfidf\n",
    "ordered_tfidf = OrderedDict(sorted(ordered_tfidf.items(), key=lambda x: x[1], reverse=True))\n",
    "\n",
    "for word in ordered_tfidf.keys():\n",
    "    print(word, end=' ')"
   ]
  },
  {
   "cell_type": "code",
   "execution_count": 8,
   "metadata": {
    "colab": {
     "base_uri": "https://localhost:8080/",
     "height": 35
    },
    "colab_type": "code",
    "executionInfo": {
     "elapsed": 25,
     "status": "ok",
     "timestamp": 1586377079541,
     "user": {
      "displayName": "",
      "photoUrl": "",
      "userId": ""
     },
     "user_tz": 240
    },
    "id": "IJImAm8CaPuy",
    "outputId": "cc7427af-1b13-4ae9-eeee-e3eb31de6943"
   },
   "outputs": [
    {
     "name": "stdout",
     "output_type": "stream",
     "text": [
      "Image downloaded.\n"
     ]
    }
   ],
   "source": [
    "from IPython.display import clear_output\n",
    "\n",
    "%env IMG_CAPITOLIO=capitolio.jpg\n",
    "\n",
    "\n",
    "# download mask images\n",
    "#!wget http://media.cubadebate.cu/wp-content/gallery/la-habana-nocturna/app_la-habana_05.jpg -O la_hababa.jpg\n",
    "!wget https://upload.wikimedia.org/wikipedia/commons/8/8f/Capitolio_full.jpg -O $IMG_CAPITOLIO\n",
    "\n",
    "clear_output()\n",
    "print('Image downloaded.')"
   ]
  },
  {
   "cell_type": "code",
   "execution_count": null,
   "metadata": {
    "colab": {
     "base_uri": "https://localhost:8080/",
     "height": 216
    },
    "colab_type": "code",
    "executionInfo": {
     "elapsed": 45062,
     "status": "ok",
     "timestamp": 1586377158432,
     "user": {
      "displayName": "",
      "photoUrl": "",
      "userId": ""
     },
     "user_tz": 240
    },
    "id": "gBHrq118aPvV",
    "outputId": "cdd16298-6ac1-4560-9ebe-ee3d46a698ff"
   },
   "outputs": [],
   "source": [
    "import numpy as np\n",
    "import matplotlib.pyplot as plt\n",
    "%matplotlib inline\n",
    "\n",
    "import os\n",
    "from PIL import Image\n",
    "from wordcloud import WordCloud\n",
    "\n",
    "# Capitolio Habana\n",
    "IMG_CAPITOLIO = os.getenv(\"IMG_CAPITOLIO\") or \"capitolio.jpg\"\n",
    "IMG_WORDCLOUD = 'wordcloud_cubadebate.png'\n",
    "# Spacy Stop_Words\n",
    "STOP_WORDS = spacy.lang.es.stop_words.STOP_WORDS\n",
    "\n",
    "# get data directory (using getcwd() is needed to support running example in generated IPython notebook)\n",
    "_dir = os.path.dirname(__file__) if \"__file__\" in locals() else os.getcwd()\n",
    "\n",
    "\n",
    "# read the mask image\n",
    "# taken from\n",
    "_mask = np.array(Image.open(os.path.join(_dir, IMG_CAPITOLIO)))\n",
    "\n",
    "# Generate Word Cloud\n",
    "wordcloud = WordCloud(\n",
    "    max_words=1000,\n",
    "#     max_font_size=50,\n",
    "    height=1440,\n",
    "    width=2160,\n",
    "    background_color = 'white',\n",
    "    mask=_mask,\n",
    "    contour_width=1,\n",
    "    contour_color='steelblue',\n",
    "    stopwords = STOP_WORDS).generate_from_frequencies(ordered_tfidf)\n",
    "# Save to file\n",
    "wordcloud.to_file(IMG_WORDCLOUD)\n",
    "fig = plt.figure(\n",
    "    figsize = (22, 15),\n",
    "    )\n",
    "plt.imshow(wordcloud, interpolation = 'bilinear')\n",
    "plt.axis('off')\n",
    "plt.tight_layout(pad=0)\n",
    "plt.show()"
   ]
  },
  {
   "cell_type": "code",
   "execution_count": null,
   "metadata": {
    "colab": {
     "base_uri": "https://localhost:8080/",
     "height": 35
    },
    "colab_type": "code",
    "executionInfo": {
     "elapsed": 752,
     "status": "ok",
     "timestamp": 1586377285896,
     "user": {
      "displayName": "",
      "photoUrl": "",
      "userId": ""
     },
     "user_tz": 240
    },
    "id": "Gs20IRy8cvpQ",
    "outputId": "6e8a6873-2b31-42b7-e196-b6d1d478b119",
    "scrolled": true
   },
   "outputs": [],
   "source": [
    "import base64\n",
    "\n",
    "data = ''\n",
    "with open(IMG_WORDCLOUD, 'rb') as file_img:\n",
    "    data = base64.b64encode(file_img.read()).decode('utf-8')\n",
    "\n",
    "img_str = '''\n",
    "<image width=\"100%\" height=\"100%\" \n",
    "src=\"data:image/png;base64,{}\" />\n",
    "'''.format(data)\n",
    "\n",
    "with open('wordcloud_cubadebate.html', 'w') as _html:\n",
    "    _html.write(img_str)\n",
    "\n",
    "print('Exported image to html.')"
   ]
  },
  {
   "cell_type": "code",
   "execution_count": 10,
   "metadata": {
    "colab": {
     "base_uri": "https://localhost:8080/",
     "height": 123
    },
    "colab_type": "code",
    "executionInfo": {
     "elapsed": 2051,
     "status": "ok",
     "timestamp": 1586377175331,
     "user": {
      "displayName": "",
      "photoUrl": "",
      "userId": ""
     },
     "user_tz": 240
    },
    "id": "gZSQOAIcEpgO",
    "outputId": "b5f268f1-c533-44d9-90ea-aadbd88ad067"
   },
   "outputs": [
    {
     "name": "stdout",
     "output_type": "stream",
     "text": [
      "capitolio.jpg  sample_data  wordcloud_cubadebate.png\n"
     ]
    }
   ],
   "source": [
    "!ls"
   ]
  }
 ],
 "metadata": {
  "colab": {
   "collapsed_sections": [],
   "name": "Copia de CUBADEBATE_SPACY.ipynb",
   "provenance": [
    {
     "file_id": "https://github.com/oleksis/cubadebate/blob/master/CUBADEBATE_SPACY.ipynb",
     "timestamp": 1586377302982
    }
   ]
  },
  "kernelspec": {
   "display_name": "Python 3",
   "language": "python",
   "name": "python3"
  },
  "language_info": {
   "codemirror_mode": {
    "name": "ipython",
    "version": 3
   },
   "file_extension": ".py",
   "mimetype": "text/x-python",
   "name": "python",
   "nbconvert_exporter": "python",
   "pygments_lexer": "ipython3",
   "version": "3.7.1"
  }
 },
 "nbformat": 4,
 "nbformat_minor": 1
}
